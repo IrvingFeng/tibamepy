{
 "cells": [
  {
   "cell_type": "markdown",
   "metadata": {},
   "source": [
    "### 方法一"
   ]
  },
  {
   "cell_type": "code",
   "execution_count": 2,
   "metadata": {},
   "outputs": [],
   "source": [
    "with open('C:/Users/USER/Desktop/cnn.txt', 'r', encoding='utf-8') as f:\n",
    "    news = f.read()"
   ]
  },
  {
   "cell_type": "code",
   "execution_count": 6,
   "metadata": {},
   "outputs": [],
   "source": [
    "words = news.lower().split()"
   ]
  },
  {
   "cell_type": "code",
   "execution_count": 7,
   "metadata": {},
   "outputs": [],
   "source": [
    "dic = {}\n",
    "for word in words:\n",
    "    if word not in dic:\n",
    "        dic[word] = 1\n",
    "    else:\n",
    "        dic[word] = dic[word] + 1"
   ]
  },
  {
   "cell_type": "code",
   "execution_count": 13,
   "metadata": {},
   "outputs": [
    {
     "data": {
      "text/plain": [
       "[('the', 130),\n",
       " ('a', 73),\n",
       " ('north', 66),\n",
       " ('of', 61),\n",
       " ('to', 59),\n",
       " ('and', 52),\n",
       " ('kim', 50),\n",
       " ('korea', 47),\n",
       " ('korean', 44),\n",
       " ('/', 41)]"
      ]
     },
     "execution_count": 13,
     "metadata": {},
     "output_type": "execute_result"
    }
   ],
   "source": [
    "import operator\n",
    "swd = sorted(dic.items(), key = operator.itemgetter(1), reverse=True)\n",
    "swd[0:10]"
   ]
  },
  {
   "cell_type": "markdown",
   "metadata": {},
   "source": [
    "### 方法二 (加入停用詞)"
   ]
  },
  {
   "cell_type": "code",
   "execution_count": 14,
   "metadata": {},
   "outputs": [],
   "source": [
    "stopwords = [\"a\", \"about\", \"above\", \"above\", \"across\", \"after\", \"afterwards\", \"again\", \"against\", \"all\", \"almost\", \"alone\", \"along\", \"already\", \"also\",\"although\",\"always\",\"am\",\"among\", \"amongst\", \"amoungst\", \"amount\",  \"an\", \"and\", \"another\", \"any\",\"anyhow\",\"anyone\",\"anything\",\"anyway\", \"anywhere\", \"are\", \"around\", \"as\",  \"at\", \"back\",\"be\",\"became\", \"because\",\"become\",\"becomes\", \"becoming\", \"been\", \"before\", \"beforehand\", \"behind\", \"being\", \"below\", \"beside\", \"besides\", \"between\", \"beyond\", \"bill\", \"both\", \"bottom\",\"but\", \"by\", \"call\", \"can\", \"cannot\", \"cant\", \"co\", \"con\", \"could\", \"couldnt\", \"cry\", \"de\", \"describe\", \"detail\", \"do\", \"done\", \"down\", \"due\", \"during\", \"each\", \"eg\", \"eight\", \"either\", \"eleven\",\"else\", \"elsewhere\", \"empty\", \"enough\", \"etc\", \"even\", \"ever\", \"every\", \"everyone\", \"everything\", \"everywhere\", \"except\", \"few\", \"fifteen\", \"fify\", \"fill\", \"find\", \"fire\", \"first\", \"five\", \"for\", \"former\", \"formerly\", \"forty\", \"found\", \"four\", \"from\", \"front\", \"full\", \"further\", \"get\", \"give\", \"go\", \"had\", \"has\", \"hasnt\", \"have\", \"he\", \"hence\", \"her\", \"here\", \"hereafter\", \"hereby\", \"herein\", \"hereupon\", \"hers\", \"herself\", \"him\", \"himself\", \"his\", \"how\", \"however\", \"hundred\", \"ie\", \"if\", \"in\", \"inc\", \"indeed\", \"interest\", \"into\", \"is\", \"it\", \"its\", \"itself\", \"keep\", \"last\", \"latter\", \"latterly\", \"least\", \"less\", \"ltd\", \"made\", \"many\", \"may\", \"me\", \"meanwhile\", \"might\", \"mill\", \"mine\", \"more\", \"moreover\", \"most\", \"mostly\", \"move\", \"much\", \"must\", \"my\", \"myself\", \"name\", \"namely\", \"neither\", \"never\", \"nevertheless\", \"next\", \"nine\", \"no\", \"nobody\", \"none\", \"noone\", \"nor\", \"not\", \"nothing\", \"now\", \"nowhere\", \"of\", \"off\", \"often\", \"on\", \"once\", \"one\", \"only\", \"onto\", \"or\", \"other\", \"others\", \"otherwise\", \"our\", \"ours\", \"ourselves\", \"out\", \"over\", \"own\",\"part\", \"per\", \"perhaps\", \"please\", \"put\", \"rather\", \"re\", \"same\", \"see\", \"seem\", \"seemed\", \"seeming\", \"seems\", \"serious\", \"several\", \"she\", \"should\", \"show\", \"side\", \"since\", \"sincere\", \"six\", \"sixty\", \"so\", \"some\", \"somehow\", \"someone\", \"something\", \"sometime\", \"sometimes\", \"somewhere\", \"still\", \"such\", \"system\", \"take\", \"ten\", \"than\", \"that\", \"the\", \"their\", \"them\", \"themselves\", \"then\", \"thence\", \"there\", \"thereafter\", \"thereby\", \"therefore\", \"therein\", \"thereupon\", \"these\", \"they\", \"thickv\", \"thin\", \"third\", \"this\", \"those\", \"though\", \"three\", \"through\", \"throughout\", \"thru\", \"thus\", \"to\", \"together\", \"too\", \"top\", \"toward\", \"towards\", \"twelve\", \"twenty\", \"two\", \"un\", \"under\", \"until\", \"up\", \"upon\", \"us\", \"very\", \"via\", \"was\", \"we\", \"well\", \"were\", \"what\", \"whatever\", \"when\", \"whence\", \"whenever\", \"where\", \"whereafter\", \"whereas\", \"whereby\", \"wherein\", \"whereupon\", \"wherever\", \"whether\", \"which\", \"while\", \"whither\", \"who\", \"whoever\", \"whole\", \"whom\", \"whose\", \"why\", \"will\", \"with\", \"within\", \"without\", \"would\", \"yet\", \"you\", \"your\", \"yours\", \"yourself\", \"yourselves\", \"the\"]"
   ]
  },
  {
   "cell_type": "code",
   "execution_count": 15,
   "metadata": {},
   "outputs": [],
   "source": [
    "with open('C:/Users/USER/Desktop/cnn.txt', 'r', encoding='utf-8') as f:\n",
    "    news = f.read()"
   ]
  },
  {
   "cell_type": "code",
   "execution_count": 23,
   "metadata": {},
   "outputs": [],
   "source": [
    "# method 1\n",
    "words = []\n",
    "for word in news.lower().split():\n",
    "    if (word not in stopwords) and (len(word)>=2):\n",
    "        words.append(word)\n",
    "        \n",
    "# method 2\n",
    "words = [word for word in news.lower().split()  if (word not in stopwords) and (len(word)>=2)]"
   ]
  },
  {
   "cell_type": "code",
   "execution_count": 24,
   "metadata": {},
   "outputs": [],
   "source": [
    "dic = {}\n",
    "for word in words:\n",
    "    if word not in dic:\n",
    "        dic[word] = 1\n",
    "    else:\n",
    "        dic[word] = dic[word] + 1"
   ]
  },
  {
   "cell_type": "code",
   "execution_count": 25,
   "metadata": {},
   "outputs": [
    {
     "data": {
      "text/plain": [
       "[('north', 66),\n",
       " ('kim', 50),\n",
       " ('korea', 47),\n",
       " ('korean', 44),\n",
       " ('south', 32),\n",
       " ('nuclear', 31),\n",
       " ('jong', 23),\n",
       " ('leader', 16),\n",
       " ('afp', 14),\n",
       " ('photo', 14)]"
      ]
     },
     "execution_count": 25,
     "metadata": {},
     "output_type": "execute_result"
    }
   ],
   "source": [
    "import operator\n",
    "swd = sorted(dic.items(), key = operator.itemgetter(1), reverse=True)\n",
    "swd[0:10]"
   ]
  },
  {
   "cell_type": "markdown",
   "metadata": {},
   "source": [
    "### 方法三 (使用collections 做統計)\n",
    "- https://docs.python.org/3/library/collections.html"
   ]
  },
  {
   "cell_type": "code",
   "execution_count": 28,
   "metadata": {},
   "outputs": [
    {
     "data": {
      "text/plain": [
       "[('north', 66),\n",
       " ('kim', 50),\n",
       " ('korea', 47),\n",
       " ('korean', 44),\n",
       " ('south', 32),\n",
       " ('nuclear', 31),\n",
       " ('jong', 23),\n",
       " ('leader', 16),\n",
       " ('afp', 14),\n",
       " ('photo', 14)]"
      ]
     },
     "execution_count": 28,
     "metadata": {},
     "output_type": "execute_result"
    }
   ],
   "source": [
    "with open('C:/Users/USER/Desktop/cnn.txt', 'r', encoding='utf-8') as f:\n",
    "    news = f.read()\n",
    "    \n",
    "words = [word for word in news.lower().split()  if (word not in stopwords) and (len(word)>=2)]\n",
    "\n",
    "from collections import Counter\n",
    "c = Counter(words)\n",
    "\n",
    "c.most_common(10)"
   ]
  },
  {
   "cell_type": "code",
   "execution_count": 31,
   "metadata": {},
   "outputs": [
    {
     "data": {
      "text/plain": [
       "[('north', 66),\n",
       " ('kim', 50),\n",
       " ('korea', 47),\n",
       " ('korean', 44),\n",
       " ('south', 32),\n",
       " ('nuclear', 31),\n",
       " ('jong', 23),\n",
       " ('leader', 16),\n",
       " ('afp', 14),\n",
       " ('photo', 14),\n",
       " ('credit', 14),\n",
       " ('trump', 14),\n",
       " ('(photo', 12),\n",
       " ('president', 12),\n",
       " ('kcna', 11),\n",
       " ('images)', 11),\n",
       " ('tests', 10),\n",
       " ('said', 10),\n",
       " ('pyongyang', 10),\n",
       " ('read', 10)]"
      ]
     },
     "execution_count": 31,
     "metadata": {},
     "output_type": "execute_result"
    }
   ],
   "source": [
    "from collections import Counter\n",
    "\n",
    "def WordCount(filename, n):\n",
    "    with open(filename, 'r', encoding='utf-8') as f:\n",
    "        news = f.read()\n",
    "\n",
    "    words = [word for word in news.lower().split()  if (word not in stopwords) and (len(word)>=2)]\n",
    "    c = Counter(words)\n",
    "\n",
    "    return c.most_common(n)\n",
    "\n",
    "WordCount('C:/Users/USER/Desktop/cnn.txt', 20)"
   ]
  },
  {
   "cell_type": "markdown",
   "metadata": {},
   "source": [
    "## 讀取結構化與半結構化資料"
   ]
  },
  {
   "cell_type": "code",
   "execution_count": 32,
   "metadata": {},
   "outputs": [
    {
     "data": {
      "text/html": [
       "<div>\n",
       "<style scoped>\n",
       "    .dataframe tbody tr th:only-of-type {\n",
       "        vertical-align: middle;\n",
       "    }\n",
       "\n",
       "    .dataframe tbody tr th {\n",
       "        vertical-align: top;\n",
       "    }\n",
       "\n",
       "    .dataframe thead th {\n",
       "        text-align: right;\n",
       "    }\n",
       "</style>\n",
       "<table border=\"1\" class=\"dataframe\">\n",
       "  <thead>\n",
       "    <tr style=\"text-align: right;\">\n",
       "      <th></th>\n",
       "      <th>Date</th>\n",
       "      <th>Open</th>\n",
       "      <th>High</th>\n",
       "      <th>Low</th>\n",
       "      <th>Close</th>\n",
       "      <th>Adj Close</th>\n",
       "      <th>Volume</th>\n",
       "    </tr>\n",
       "  </thead>\n",
       "  <tbody>\n",
       "    <tr>\n",
       "      <th>0</th>\n",
       "      <td>2013-03-04</td>\n",
       "      <td>104.5</td>\n",
       "      <td>104.5</td>\n",
       "      <td>101.5</td>\n",
       "      <td>102.0</td>\n",
       "      <td>87.578972</td>\n",
       "      <td>50033000.0</td>\n",
       "    </tr>\n",
       "    <tr>\n",
       "      <th>1</th>\n",
       "      <td>2013-03-05</td>\n",
       "      <td>103.5</td>\n",
       "      <td>104.0</td>\n",
       "      <td>102.5</td>\n",
       "      <td>104.0</td>\n",
       "      <td>89.296204</td>\n",
       "      <td>53913000.0</td>\n",
       "    </tr>\n",
       "    <tr>\n",
       "      <th>2</th>\n",
       "      <td>2013-03-06</td>\n",
       "      <td>104.0</td>\n",
       "      <td>104.5</td>\n",
       "      <td>103.0</td>\n",
       "      <td>104.0</td>\n",
       "      <td>89.296204</td>\n",
       "      <td>35977000.0</td>\n",
       "    </tr>\n",
       "    <tr>\n",
       "      <th>3</th>\n",
       "      <td>2013-03-07</td>\n",
       "      <td>103.5</td>\n",
       "      <td>104.0</td>\n",
       "      <td>103.0</td>\n",
       "      <td>103.0</td>\n",
       "      <td>88.437592</td>\n",
       "      <td>20518000.0</td>\n",
       "    </tr>\n",
       "    <tr>\n",
       "      <th>4</th>\n",
       "      <td>2013-03-08</td>\n",
       "      <td>103.0</td>\n",
       "      <td>104.5</td>\n",
       "      <td>102.0</td>\n",
       "      <td>103.5</td>\n",
       "      <td>88.866898</td>\n",
       "      <td>44571000.0</td>\n",
       "    </tr>\n",
       "  </tbody>\n",
       "</table>\n",
       "</div>"
      ],
      "text/plain": [
       "         Date   Open   High    Low  Close  Adj Close      Volume\n",
       "0  2013-03-04  104.5  104.5  101.5  102.0  87.578972  50033000.0\n",
       "1  2013-03-05  103.5  104.0  102.5  104.0  89.296204  53913000.0\n",
       "2  2013-03-06  104.0  104.5  103.0  104.0  89.296204  35977000.0\n",
       "3  2013-03-07  103.5  104.0  103.0  103.0  88.437592  20518000.0\n",
       "4  2013-03-08  103.0  104.5  102.0  103.5  88.866898  44571000.0"
      ]
     },
     "execution_count": 32,
     "metadata": {},
     "output_type": "execute_result"
    }
   ],
   "source": [
    "import pandas\n",
    "df  = pandas.read_csv('https://raw.githubusercontent.com/ywchiu/tibamepy/master/data/tw2330.csv')\n",
    "df.head()"
   ]
  },
  {
   "cell_type": "code",
   "execution_count": 34,
   "metadata": {},
   "outputs": [
    {
     "data": {
      "text/html": [
       "<div>\n",
       "<style scoped>\n",
       "    .dataframe tbody tr th:only-of-type {\n",
       "        vertical-align: middle;\n",
       "    }\n",
       "\n",
       "    .dataframe tbody tr th {\n",
       "        vertical-align: top;\n",
       "    }\n",
       "\n",
       "    .dataframe thead th {\n",
       "        text-align: right;\n",
       "    }\n",
       "</style>\n",
       "<table border=\"1\" class=\"dataframe\">\n",
       "  <thead>\n",
       "    <tr style=\"text-align: right;\">\n",
       "      <th></th>\n",
       "      <th>id</th>\n",
       "      <th>年度</th>\n",
       "      <th>股本</th>\n",
       "      <th>財報評分</th>\n",
       "      <th>收盤</th>\n",
       "      <th>平均</th>\n",
       "      <th>漲跌</th>\n",
       "      <th>漲跌%</th>\n",
       "      <th>營業收入</th>\n",
       "      <th>營業毛利</th>\n",
       "      <th>...</th>\n",
       "      <th>營業毛利%</th>\n",
       "      <th>營業利益%</th>\n",
       "      <th>業外損益%</th>\n",
       "      <th>稅後淨利%</th>\n",
       "      <th>ROE</th>\n",
       "      <th>ROA</th>\n",
       "      <th>稅後EPS</th>\n",
       "      <th>EPS成長</th>\n",
       "      <th>BPS</th>\n",
       "      <th>stockid</th>\n",
       "    </tr>\n",
       "  </thead>\n",
       "  <tbody>\n",
       "    <tr>\n",
       "      <th>0</th>\n",
       "      <td>1</td>\n",
       "      <td>2015</td>\n",
       "      <td>369.0</td>\n",
       "      <td>45</td>\n",
       "      <td>27.3</td>\n",
       "      <td>37.8</td>\n",
       "      <td>-16.1</td>\n",
       "      <td>-37.1</td>\n",
       "      <td>937.0</td>\n",
       "      <td>145.0</td>\n",
       "      <td>...</td>\n",
       "      <td>15.5</td>\n",
       "      <td>10.3</td>\n",
       "      <td>-1.08</td>\n",
       "      <td>7.39</td>\n",
       "      <td>4.36</td>\n",
       "      <td>2.36</td>\n",
       "      <td>1.56</td>\n",
       "      <td>-1.37</td>\n",
       "      <td>29.26</td>\n",
       "      <td>1101</td>\n",
       "    </tr>\n",
       "    <tr>\n",
       "      <th>1</th>\n",
       "      <td>2</td>\n",
       "      <td>2014</td>\n",
       "      <td>369.0</td>\n",
       "      <td>53</td>\n",
       "      <td>43.4</td>\n",
       "      <td>45.7</td>\n",
       "      <td>-2.85</td>\n",
       "      <td>-6.2</td>\n",
       "      <td>1183.0</td>\n",
       "      <td>249.0</td>\n",
       "      <td>...</td>\n",
       "      <td>21</td>\n",
       "      <td>16.8</td>\n",
       "      <td>1.13</td>\n",
       "      <td>14</td>\n",
       "      <td>10.50</td>\n",
       "      <td>5.76</td>\n",
       "      <td>2.93</td>\n",
       "      <td>0.21</td>\n",
       "      <td>31.95</td>\n",
       "      <td>1101</td>\n",
       "    </tr>\n",
       "    <tr>\n",
       "      <th>2</th>\n",
       "      <td>3</td>\n",
       "      <td>2013</td>\n",
       "      <td>369.0</td>\n",
       "      <td>51</td>\n",
       "      <td>46.25</td>\n",
       "      <td>39.8</td>\n",
       "      <td>7.35</td>\n",
       "      <td>18.9</td>\n",
       "      <td>1161.0</td>\n",
       "      <td>228.0</td>\n",
       "      <td>...</td>\n",
       "      <td>19.7</td>\n",
       "      <td>15.3</td>\n",
       "      <td>0.71</td>\n",
       "      <td>13</td>\n",
       "      <td>10.60</td>\n",
       "      <td>5.56</td>\n",
       "      <td>2.72</td>\n",
       "      <td>0.63</td>\n",
       "      <td>30.63</td>\n",
       "      <td>1101</td>\n",
       "    </tr>\n",
       "    <tr>\n",
       "      <th>3</th>\n",
       "      <td>4</td>\n",
       "      <td>2012</td>\n",
       "      <td>369.0</td>\n",
       "      <td>49</td>\n",
       "      <td>38.9</td>\n",
       "      <td>35.8</td>\n",
       "      <td>3.9</td>\n",
       "      <td>11.1</td>\n",
       "      <td>1195.0</td>\n",
       "      <td>177.0</td>\n",
       "      <td>...</td>\n",
       "      <td>14.8</td>\n",
       "      <td>10.9</td>\n",
       "      <td>-0.84</td>\n",
       "      <td>8.34</td>\n",
       "      <td>7.63</td>\n",
       "      <td>3.81</td>\n",
       "      <td>2.09</td>\n",
       "      <td>-0.24</td>\n",
       "      <td>27.03</td>\n",
       "      <td>1101</td>\n",
       "    </tr>\n",
       "    <tr>\n",
       "      <th>4</th>\n",
       "      <td>5</td>\n",
       "      <td>2011</td>\n",
       "      <td>369.0</td>\n",
       "      <td>55</td>\n",
       "      <td>35</td>\n",
       "      <td>36.8</td>\n",
       "      <td>2.2</td>\n",
       "      <td>6.7</td>\n",
       "      <td>1185.0</td>\n",
       "      <td>206.0</td>\n",
       "      <td>...</td>\n",
       "      <td>17.4</td>\n",
       "      <td>13.6</td>\n",
       "      <td>0.3</td>\n",
       "      <td>11.6</td>\n",
       "      <td>10.80</td>\n",
       "      <td>5.24</td>\n",
       "      <td>2.33</td>\n",
       "      <td>-0.1</td>\n",
       "      <td>26.21</td>\n",
       "      <td>1101</td>\n",
       "    </tr>\n",
       "  </tbody>\n",
       "</table>\n",
       "<p>5 rows × 23 columns</p>\n",
       "</div>"
      ],
      "text/plain": [
       "   id    年度     股本  財報評分     收盤    平均    漲跌   漲跌%    營業收入   營業毛利   ...     \\\n",
       "0   1  2015  369.0    45   27.3  37.8 -16.1 -37.1   937.0  145.0   ...      \n",
       "1   2  2014  369.0    53   43.4  45.7 -2.85  -6.2  1183.0  249.0   ...      \n",
       "2   3  2013  369.0    51  46.25  39.8  7.35  18.9  1161.0  228.0   ...      \n",
       "3   4  2012  369.0    49   38.9  35.8   3.9  11.1  1195.0  177.0   ...      \n",
       "4   5  2011  369.0    55     35  36.8   2.2   6.7  1185.0  206.0   ...      \n",
       "\n",
       "   營業毛利% 營業利益%  業外損益% 稅後淨利%    ROE   ROA 稅後EPS  EPS成長    BPS  stockid  \n",
       "0   15.5  10.3  -1.08  7.39   4.36  2.36  1.56  -1.37  29.26     1101  \n",
       "1     21  16.8   1.13    14  10.50  5.76  2.93   0.21  31.95     1101  \n",
       "2   19.7  15.3   0.71    13  10.60  5.56  2.72   0.63  30.63     1101  \n",
       "3   14.8  10.9  -0.84  8.34   7.63  3.81  2.09  -0.24  27.03     1101  \n",
       "4   17.4  13.6    0.3  11.6  10.80  5.24  2.33   -0.1  26.21     1101  \n",
       "\n",
       "[5 rows x 23 columns]"
      ]
     },
     "execution_count": 34,
     "metadata": {},
     "output_type": "execute_result"
    }
   ],
   "source": [
    "stock = pandas.read_excel('https://raw.githubusercontent.com/ywchiu/tibamepy/master/data/stock.xlsx')\n",
    "stock.head()"
   ]
  },
  {
   "cell_type": "code",
   "execution_count": 35,
   "metadata": {},
   "outputs": [
    {
     "data": {
      "text/html": [
       "<div>\n",
       "<style scoped>\n",
       "    .dataframe tbody tr th:only-of-type {\n",
       "        vertical-align: middle;\n",
       "    }\n",
       "\n",
       "    .dataframe tbody tr th {\n",
       "        vertical-align: top;\n",
       "    }\n",
       "\n",
       "    .dataframe thead th {\n",
       "        text-align: right;\n",
       "    }\n",
       "</style>\n",
       "<table border=\"1\" class=\"dataframe\">\n",
       "  <thead>\n",
       "    <tr style=\"text-align: right;\">\n",
       "      <th></th>\n",
       "      <th>Adj Close</th>\n",
       "      <th>Close</th>\n",
       "      <th>Date</th>\n",
       "      <th>High</th>\n",
       "      <th>Low</th>\n",
       "      <th>Open</th>\n",
       "      <th>Volume</th>\n",
       "    </tr>\n",
       "  </thead>\n",
       "  <tbody>\n",
       "    <tr>\n",
       "      <th>0</th>\n",
       "      <td>172.0</td>\n",
       "      <td>172.0</td>\n",
       "      <td>2016-07-21</td>\n",
       "      <td>172.0</td>\n",
       "      <td>170.0</td>\n",
       "      <td>171.0</td>\n",
       "      <td>33130000</td>\n",
       "    </tr>\n",
       "    <tr>\n",
       "      <th>1</th>\n",
       "      <td>170.0</td>\n",
       "      <td>170.0</td>\n",
       "      <td>2016-07-20</td>\n",
       "      <td>170.5</td>\n",
       "      <td>169.0</td>\n",
       "      <td>170.0</td>\n",
       "      <td>38053000</td>\n",
       "    </tr>\n",
       "    <tr>\n",
       "      <th>2</th>\n",
       "      <td>170.5</td>\n",
       "      <td>170.5</td>\n",
       "      <td>2016-07-19</td>\n",
       "      <td>170.5</td>\n",
       "      <td>169.0</td>\n",
       "      <td>170.5</td>\n",
       "      <td>42456000</td>\n",
       "    </tr>\n",
       "    <tr>\n",
       "      <th>3</th>\n",
       "      <td>169.5</td>\n",
       "      <td>169.5</td>\n",
       "      <td>2016-07-18</td>\n",
       "      <td>170.0</td>\n",
       "      <td>168.0</td>\n",
       "      <td>168.0</td>\n",
       "      <td>24749000</td>\n",
       "    </tr>\n",
       "    <tr>\n",
       "      <th>4</th>\n",
       "      <td>169.5</td>\n",
       "      <td>169.5</td>\n",
       "      <td>2016-07-15</td>\n",
       "      <td>169.5</td>\n",
       "      <td>169.5</td>\n",
       "      <td>169.5</td>\n",
       "      <td>41000</td>\n",
       "    </tr>\n",
       "  </tbody>\n",
       "</table>\n",
       "</div>"
      ],
      "text/plain": [
       "   Adj Close  Close       Date   High    Low   Open    Volume\n",
       "0      172.0  172.0 2016-07-21  172.0  170.0  171.0  33130000\n",
       "1      170.0  170.0 2016-07-20  170.5  169.0  170.0  38053000\n",
       "2      170.5  170.5 2016-07-19  170.5  169.0  170.5  42456000\n",
       "3      169.5  169.5 2016-07-18  170.0  168.0  168.0  24749000\n",
       "4      169.5  169.5 2016-07-15  169.5  169.5  169.5     41000"
      ]
     },
     "execution_count": 35,
     "metadata": {},
     "output_type": "execute_result"
    }
   ],
   "source": [
    "tw2330 = pandas.read_json('https://raw.githubusercontent.com/ywchiu/tibamepy/master/data/2330.json')\n",
    "tw2330.head()"
   ]
  },
  {
   "cell_type": "markdown",
   "metadata": {},
   "source": [
    "## 使用Requests GET 存取網頁\n",
    "- https://zh.wikipedia.org/wiki/HTTP%E7%8A%B6%E6%80%81%E7%A0%81"
   ]
  },
  {
   "cell_type": "code",
   "execution_count": 36,
   "metadata": {},
   "outputs": [
    {
     "data": {
      "text/plain": [
       "<Response [200]>"
      ]
     },
     "execution_count": 36,
     "metadata": {},
     "output_type": "execute_result"
    }
   ],
   "source": [
    "import requests\n",
    "res = requests.get('https://tw.appledaily.com/new/realtime')\n",
    "res"
   ]
  },
  {
   "cell_type": "code",
   "execution_count": 38,
   "metadata": {},
   "outputs": [],
   "source": [
    "#res.text"
   ]
  },
  {
   "cell_type": "code",
   "execution_count": null,
   "metadata": {},
   "outputs": [],
   "source": []
  }
 ],
 "metadata": {
  "kernelspec": {
   "display_name": "Python 3",
   "language": "python",
   "name": "python3"
  },
  "language_info": {
   "codemirror_mode": {
    "name": "ipython",
    "version": 3
   },
   "file_extension": ".py",
   "mimetype": "text/x-python",
   "name": "python",
   "nbconvert_exporter": "python",
   "pygments_lexer": "ipython3",
   "version": "3.6.4"
  }
 },
 "nbformat": 4,
 "nbformat_minor": 2
}
