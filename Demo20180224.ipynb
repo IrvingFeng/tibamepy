{
 "cells": [
  {
   "cell_type": "markdown",
   "metadata": {},
   "source": [
    "## 正規表達法"
   ]
  },
  {
   "cell_type": "code",
   "execution_count": 1,
   "metadata": {},
   "outputs": [
    {
     "data": {
      "text/plain": [
       "True"
      ]
     },
     "execution_count": 1,
     "metadata": {},
     "output_type": "execute_result"
    }
   ],
   "source": [
    "phone = '0912345678'\n",
    "phone == '0912345678'"
   ]
  },
  {
   "cell_type": "code",
   "execution_count": 2,
   "metadata": {},
   "outputs": [
    {
     "data": {
      "text/plain": [
       "True"
      ]
     },
     "execution_count": 2,
     "metadata": {},
     "output_type": "execute_result"
    }
   ],
   "source": [
    "n = '3'\n",
    "n == '3'"
   ]
  },
  {
   "cell_type": "code",
   "execution_count": 3,
   "metadata": {
    "collapsed": true
   },
   "outputs": [],
   "source": [
    "import re\n",
    "#re.match: 需要字串百分之百跟規則相符\n",
    "#re.search: 需要字串部分內容跟規則相符"
   ]
  },
  {
   "cell_type": "code",
   "execution_count": 4,
   "metadata": {},
   "outputs": [
    {
     "data": {
      "text/plain": [
       "<_sre.SRE_Match object; span=(0, 1), match='3'>"
      ]
     },
     "execution_count": 4,
     "metadata": {},
     "output_type": "execute_result"
    }
   ],
   "source": [
    "n = '3'\n",
    "import re\n",
    "re.match('3', n)"
   ]
  },
  {
   "cell_type": "code",
   "execution_count": 5,
   "metadata": {
    "collapsed": true
   },
   "outputs": [],
   "source": [
    "re.match('5', n)"
   ]
  },
  {
   "cell_type": "markdown",
   "metadata": {},
   "source": [
    "### 數字比對"
   ]
  },
  {
   "cell_type": "code",
   "execution_count": 8,
   "metadata": {},
   "outputs": [
    {
     "data": {
      "text/plain": [
       "<_sre.SRE_Match object; span=(0, 1), match='3'>"
      ]
     },
     "execution_count": 8,
     "metadata": {},
     "output_type": "execute_result"
    }
   ],
   "source": [
    "# [] : 比對 [] 內的任意字元\n",
    "re.match('[0123456789]', n)\n",
    "\n",
    "# - : 連續\n",
    "re.match('[0-9]', n) #[0123456789] => [0-9]\n",
    "\n",
    "# \\d : 比對數字\n",
    "re.match('\\d', n) # [0-9] => \\d"
   ]
  },
  {
   "cell_type": "code",
   "execution_count": 10,
   "metadata": {},
   "outputs": [
    {
     "name": "stdout",
     "output_type": "stream",
     "text": [
      "None\n"
     ]
    }
   ],
   "source": [
    "s = 'w'\n",
    "print(re.match('\\d', s))"
   ]
  },
  {
   "cell_type": "markdown",
   "metadata": {},
   "source": [
    "### 比對文字"
   ]
  },
  {
   "cell_type": "code",
   "execution_count": 12,
   "metadata": {},
   "outputs": [
    {
     "data": {
      "text/plain": [
       "<_sre.SRE_Match object; span=(0, 1), match='w'>"
      ]
     },
     "execution_count": 12,
     "metadata": {},
     "output_type": "execute_result"
    }
   ],
   "source": [
    "# [] : 比對 [] 內的任意字元\n",
    "s = 'w'\n",
    "re.match('[abcdefghijklmnopqrstuvwxyz]',s)\n",
    "\n",
    "# - : 連續\n",
    "re.match('[a-z]', s) # [abcdefghijklmnopqrstuvwxyz] => [a-z]"
   ]
  },
  {
   "cell_type": "code",
   "execution_count": 13,
   "metadata": {
    "collapsed": true
   },
   "outputs": [],
   "source": [
    "s= 'A'\n",
    "re.match('[a-z]', s)"
   ]
  },
  {
   "cell_type": "code",
   "execution_count": 14,
   "metadata": {},
   "outputs": [
    {
     "data": {
      "text/plain": [
       "<_sre.SRE_Match object; span=(0, 1), match='A'>"
      ]
     },
     "execution_count": 14,
     "metadata": {},
     "output_type": "execute_result"
    }
   ],
   "source": [
    "s= 'A'\n",
    "re.match('[a-zA-Z]', s)"
   ]
  },
  {
   "cell_type": "code",
   "execution_count": 15,
   "metadata": {
    "collapsed": true
   },
   "outputs": [],
   "source": [
    "s= '7'\n",
    "re.match('[a-zA-Z]', s)"
   ]
  },
  {
   "cell_type": "code",
   "execution_count": 17,
   "metadata": {},
   "outputs": [
    {
     "data": {
      "text/plain": [
       "<_sre.SRE_Match object; span=(0, 1), match='7'>"
      ]
     },
     "execution_count": 17,
     "metadata": {},
     "output_type": "execute_result"
    }
   ],
   "source": [
    "s= '7'\n",
    "re.match('[a-zA-Z0-9]', s)"
   ]
  },
  {
   "cell_type": "code",
   "execution_count": 16,
   "metadata": {},
   "outputs": [
    {
     "data": {
      "text/plain": [
       "<_sre.SRE_Match object; span=(0, 1), match='7'>"
      ]
     },
     "execution_count": 16,
     "metadata": {},
     "output_type": "execute_result"
    }
   ],
   "source": [
    "# \\w 比對任意英文字元或是數字\n",
    "s = '7'\n",
    "re.match('\\w', s) # [a-zA-Z0-9] => \\w"
   ]
  },
  {
   "cell_type": "code",
   "execution_count": 18,
   "metadata": {},
   "outputs": [
    {
     "data": {
      "text/plain": [
       "<_sre.SRE_Match object; span=(0, 1), match='i'>"
      ]
     },
     "execution_count": 18,
     "metadata": {},
     "output_type": "execute_result"
    }
   ],
   "source": [
    "s = 'iphone'\n",
    "re.match('\\w', s)"
   ]
  },
  {
   "cell_type": "markdown",
   "metadata": {},
   "source": [
    "### 比對多個字元"
   ]
  },
  {
   "cell_type": "code",
   "execution_count": 20,
   "metadata": {},
   "outputs": [
    {
     "data": {
      "text/plain": [
       "<_sre.SRE_Match object; span=(0, 6), match='iphone'>"
      ]
     },
     "execution_count": 20,
     "metadata": {},
     "output_type": "execute_result"
    }
   ],
   "source": [
    "s = 'iphone'\n",
    "re.match('\\w\\w\\w\\w\\w\\w', s)"
   ]
  },
  {
   "cell_type": "code",
   "execution_count": 21,
   "metadata": {},
   "outputs": [
    {
     "data": {
      "text/plain": [
       "<_sre.SRE_Match object; span=(0, 6), match='iphone'>"
      ]
     },
     "execution_count": 21,
     "metadata": {},
     "output_type": "execute_result"
    }
   ],
   "source": [
    "# {n}: 比對 n 個字元  \n",
    "re.match('\\w{6}', s) # \\w\\w\\w\\w\\w\\w => \\w{6}"
   ]
  },
  {
   "cell_type": "code",
   "execution_count": 24,
   "metadata": {},
   "outputs": [
    {
     "data": {
      "text/plain": [
       "<_sre.SRE_Match object; span=(0, 6), match='Iphone'>"
      ]
     },
     "execution_count": 24,
     "metadata": {},
     "output_type": "execute_result"
    }
   ],
   "source": [
    "s = 'IphoneX'\n",
    "re.match('\\w{6}', s) \n",
    "\n",
    "s = 'Iphone4S'\n",
    "re.match('\\w{6}', s) "
   ]
  },
  {
   "cell_type": "code",
   "execution_count": 27,
   "metadata": {},
   "outputs": [
    {
     "data": {
      "text/plain": [
       "<_sre.SRE_Match object; span=(0, 9), match='Iphone3GS'>"
      ]
     },
     "execution_count": 27,
     "metadata": {},
     "output_type": "execute_result"
    }
   ],
   "source": [
    "# {m,n}: 比對至少m 個字元, 至多n 個字元\n",
    "s = 'Iphone3GS'\n",
    "re.match('\\w{6,9}', s) "
   ]
  },
  {
   "cell_type": "code",
   "execution_count": 29,
   "metadata": {},
   "outputs": [
    {
     "data": {
      "text/plain": [
       "<_sre.SRE_Match object; span=(0, 6), match='Iphone'>"
      ]
     },
     "execution_count": 29,
     "metadata": {},
     "output_type": "execute_result"
    }
   ],
   "source": [
    "# {m,}: 比對至少m 個字元, 至多 未知數量字元\n",
    "s = 'IphoneTimCook'\n",
    "re.match('\\w{6,}', s) \n",
    "\n",
    "# {,n}: 比對至少未知數量字元, 至多n 個字元\n",
    "re.match('\\w{,6}', s) "
   ]
  },
  {
   "cell_type": "code",
   "execution_count": 31,
   "metadata": {},
   "outputs": [
    {
     "data": {
      "text/plain": [
       "<_sre.SRE_Match object; span=(0, 0), match=''>"
      ]
     },
     "execution_count": 31,
     "metadata": {},
     "output_type": "execute_result"
    }
   ],
   "source": [
    "# {0,} :  比對 0 個以上的字元\n",
    "s = ''\n",
    "re.match('\\w{0,}', s) \n",
    "\n",
    "# * : 比對 0 個以上的字元\n",
    "re.match('\\w*', s) # \\w{0,} => \\w*"
   ]
  },
  {
   "cell_type": "code",
   "execution_count": 35,
   "metadata": {},
   "outputs": [
    {
     "data": {
      "text/plain": [
       "<_sre.SRE_Match object; span=(0, 7), match='IphoneX'>"
      ]
     },
     "execution_count": 35,
     "metadata": {},
     "output_type": "execute_result"
    }
   ],
   "source": [
    "# {1,} :  比對 1 個以上的字元\n",
    "s = 'IphoneX'\n",
    "re.match('\\w{1,}', s) \n",
    "\n",
    "# + : 比對 1 個以上的字元\n",
    "re.match('\\w+', s) # \\w{1,} => \\w+"
   ]
  },
  {
   "cell_type": "markdown",
   "metadata": {},
   "source": [
    "### 比對電話號碼 (手機)"
   ]
  },
  {
   "cell_type": "code",
   "execution_count": null,
   "metadata": {
    "collapsed": true
   },
   "outputs": [],
   "source": []
  },
  {
   "cell_type": "code",
   "execution_count": 37,
   "metadata": {},
   "outputs": [
    {
     "name": "stdout",
     "output_type": "stream",
     "text": [
      "0 0912345678\n",
      "1 0222133333\n",
      "2 0912-345-678\n",
      "3 0912-345678\n",
      "4 09129381290890235839582390\n"
     ]
    }
   ],
   "source": [
    "phones = ['0912345678', '0222133333', '0912-345-678', \\\n",
    "          '0912-345678', '09129381290890235839582390']\n",
    "\n",
    "for idx,p in enumerate(phones):\n",
    "    print(idx,p)"
   ]
  },
  {
   "cell_type": "code",
   "execution_count": 45,
   "metadata": {},
   "outputs": [
    {
     "name": "stdout",
     "output_type": "stream",
     "text": [
      "0 <_sre.SRE_Match object; span=(0, 10), match='0912345678'>\n",
      "1 None\n",
      "2 <_sre.SRE_Match object; span=(0, 12), match='0912-345-678'>\n",
      "3 <_sre.SRE_Match object; span=(0, 11), match='0912-345678'>\n",
      "4 None\n"
     ]
    }
   ],
   "source": [
    "for idx,p in enumerate(phones):\n",
    "    #print(idx, re.match('\\d{10}', p) )\n",
    "    #print(idx, re.match('09\\d{8}', p) )\n",
    "    \n",
    "    #print(idx, re.match('09\\d{2}-{0,1}\\d{3}-{0,1}\\d{3}', p) )\n",
    "    #print(idx, re.match('09\\d{2}-?\\d{3}-?\\d{3}', p) ) # {0,1} => ?\n",
    "    \n",
    "    # ^ : 比對字串的開端, $: 比對字串的結尾\n",
    "    print(idx, re.match('^09\\d{2}-?\\d{3}-?\\d{3}$', p) )"
   ]
  },
  {
   "cell_type": "code",
   "execution_count": 49,
   "metadata": {},
   "outputs": [
    {
     "data": {
      "text/plain": [
       "'0935492641'"
      ]
     },
     "execution_count": 49,
     "metadata": {},
     "output_type": "execute_result"
    }
   ],
   "source": [
    "article = '''\n",
    "※ 引述《wasd (運動去了)》之銘言：\n",
    ": 上次同學會有很些人都沒去\n",
    ": 所以要不要請沒去的人PO個聯絡方式\n",
    ": 就這樣.......\n",
    "致光    0935492641      msn:ddm702@hotmail.com\n",
    "'''\n",
    "\n",
    "m = re.search('09\\d{2}-?\\d{3}-?\\d{3}', article)\n",
    "m.group(0)"
   ]
  },
  {
   "cell_type": "markdown",
   "metadata": {},
   "source": [
    "### Enumerate"
   ]
  },
  {
   "cell_type": "code",
   "execution_count": 40,
   "metadata": {},
   "outputs": [
    {
     "name": "stdout",
     "output_type": "stream",
     "text": [
      "0 4\n",
      "1 5\n",
      "2 7\n",
      "3 1\n",
      "4 2\n",
      "================\n",
      "0 4\n",
      "1 5\n",
      "2 7\n",
      "3 1\n",
      "4 2\n"
     ]
    }
   ],
   "source": [
    "a = [4,5,7,1,2]\n",
    "cnt = 0\n",
    "for ele in a:\n",
    "    print(cnt, ele)\n",
    "    cnt = cnt + 1\n",
    "print('================')\n",
    "for cnt, ele in enumerate(a):\n",
    "    print(cnt,ele)"
   ]
  },
  {
   "cell_type": "markdown",
   "metadata": {},
   "source": [
    "### 正規表達法範例"
   ]
  },
  {
   "cell_type": "code",
   "execution_count": 54,
   "metadata": {},
   "outputs": [
    {
     "data": {
      "text/plain": [
       "<_sre.SRE_Match object; span=(0, 16), match='david@largitdata'>"
      ]
     },
     "execution_count": 54,
     "metadata": {},
     "output_type": "execute_result"
    }
   ],
   "source": [
    "email = 'david@largitdata.com'\n",
    "\n",
    "import re\n",
    "re.search('\\w+@\\w+', email)"
   ]
  },
  {
   "cell_type": "code",
   "execution_count": 57,
   "metadata": {},
   "outputs": [
    {
     "data": {
      "text/plain": [
       "<_sre.SRE_Match object; span=(0, 20), match='david@largitdata.com'>"
      ]
     },
     "execution_count": 57,
     "metadata": {},
     "output_type": "execute_result"
    }
   ],
   "source": [
    "# 包含 . , [\\w\\.] \n",
    "re.search('\\w+@[\\w\\.]+', email)\n",
    "\n",
    "\n",
    "#  . : 比對任意符號\n",
    "# \\. : 比對單純句號\n",
    "# \\ : escape, 讓特殊字元跳脫原本的意義, 以單純字串表示規則\n",
    "re.search('\\w+@.+', email)"
   ]
  },
  {
   "cell_type": "code",
   "execution_count": 61,
   "metadata": {},
   "outputs": [
    {
     "name": "stdout",
     "output_type": "stream",
     "text": [
      "('david', 'largitdata.com')\n",
      "david@largitdata.com\n",
      "david\n",
      "largitdata.com\n"
     ]
    }
   ],
   "source": [
    "# () : 表示群組\n",
    "m = re.search('(\\w+)@(.+)', email)\n",
    "print(m.groups())\n",
    "print(m.group(0)) # group(0) : 把所有比對到的字串印出\n",
    "print(m.group(1)) # group(1) : 把比對到的第一個群組字串印出\n",
    "print(m.group(2)) # group(2) : 把比對到的第二個群組字串印出"
   ]
  },
  {
   "cell_type": "code",
   "execution_count": 65,
   "metadata": {},
   "outputs": [
    {
     "name": "stdout",
     "output_type": "stream",
     "text": [
      "('1999', '5')\n",
      "1999.5\n",
      "1999\n",
      "5\n"
     ]
    }
   ],
   "source": [
    "s = '1999.5'\n",
    "m = re.search('(\\d+)\\.(\\d+)', s)\n",
    "print(m.groups())\n",
    "print(m.group(0))\n",
    "print(m.group(1))\n",
    "print(m.group(2))"
   ]
  },
  {
   "cell_type": "code",
   "execution_count": 76,
   "metadata": {},
   "outputs": [
    {
     "name": "stdout",
     "output_type": "stream",
     "text": [
      "0 ('david', 'largitdata.', 'com')\n",
      "1 ('david', 'largitdata.', 'com.tw')\n",
      "2 ('david', 'largitdata.', 'org.tw')\n"
     ]
    }
   ],
   "source": [
    "s = ['david@largitdata.com', \\\n",
    "     'david@largitdata.com.tw', \\\n",
    "     'david@largitdata.org.tw']\n",
    "for idx, ele in enumerate(s):\n",
    "    m = re.search('(\\w+)@([\\w\\.]+)(com?[\\w\\.]+|org?[\\w\\.]+)', ele)\n",
    "    print(idx, m.groups())"
   ]
  },
  {
   "cell_type": "code",
   "execution_count": 86,
   "metadata": {},
   "outputs": [
    {
     "name": "stdout",
     "output_type": "stream",
     "text": [
      "largitdata com\n",
      "largitdata com.tw\n",
      "largitdata org.tw\n"
     ]
    }
   ],
   "source": [
    "for idx, ele in enumerate(s):\n",
    "    m = re.search('(\\w+)@([\\w\\.]+)', ele)\n",
    "    dns = m.group(2).split('.')\n",
    "    print(dns[0],'.'.join(dns[1:]))"
   ]
  },
  {
   "cell_type": "code",
   "execution_count": 90,
   "metadata": {},
   "outputs": [
    {
     "name": "stdout",
     "output_type": "stream",
     "text": [
      "0912345678\n"
     ]
    }
   ],
   "source": [
    "email = '\\w+@[\\w.]+'\n",
    "phone = '09\\d{2}-?\\d{3}-?\\d{3}'\n",
    "\n",
    "s= '0912345678'\n",
    "e = re.match(email, s)\n",
    "p = re.match(phone, s)\n",
    "\n",
    "if e or p:\n",
    "    print(s)"
   ]
  },
  {
   "cell_type": "code",
   "execution_count": 92,
   "metadata": {},
   "outputs": [
    {
     "name": "stdout",
     "output_type": "stream",
     "text": [
      "David\n",
      "Chiu\n"
     ]
    }
   ],
   "source": [
    "m=re.match(\"(\\w+) (\\w+)\",\"David Chiu\")\n",
    "print(m.group(1))\n",
    "print(m.group(2))\n"
   ]
  },
  {
   "cell_type": "code",
   "execution_count": 93,
   "metadata": {},
   "outputs": [
    {
     "name": "stdout",
     "output_type": "stream",
     "text": [
      "David Chiu\n"
     ]
    }
   ],
   "source": [
    "m=re.match(\"(?P<first_name>\\w+) (?P<last_name>\\w+)\",\"David Chiu\")\n",
    "\n",
    "print(m.group('first_name'),m.group('last_name'))"
   ]
  },
  {
   "cell_type": "code",
   "execution_count": 95,
   "metadata": {},
   "outputs": [
    {
     "name": "stdout",
     "output_type": "stream",
     "text": [
      "file.txt root 10.0.0.1 ./\n"
     ]
    }
   ],
   "source": [
    "str1='scp file.txt root@10.0.0.1:./'\n",
    "m = re.search('^scp ([\\w\\.]+) (\\w+)@([\\d.]+):(.+)', str1)\n",
    "filename =  m.group(1)\n",
    "acctname =  m.group(2)\n",
    "ipaddr   =  m.group(3)\n",
    "filepath =  m.group(4)\n",
    "\n",
    "print(filename, acctname, ipaddr, filepath)"
   ]
  },
  {
   "cell_type": "markdown",
   "metadata": {},
   "source": [
    "### 將正規表達法應用在Pandas 上"
   ]
  },
  {
   "cell_type": "code",
   "execution_count": 98,
   "metadata": {
    "collapsed": true
   },
   "outputs": [],
   "source": [
    "import pandas\n",
    "house = pandas.read_csv('https://raw.githubusercontent.com/ywchiu/tibamepy/master/data/rent_591_sample.csv', index_col=0)"
   ]
  },
  {
   "cell_type": "code",
   "execution_count": 105,
   "metadata": {},
   "outputs": [
    {
     "name": "stderr",
     "output_type": "stream",
     "text": [
      "C:\\ProgramData\\Anaconda3\\lib\\site-packages\\ipykernel_launcher.py:1: FutureWarning: currently extract(expand=None) means expand=False (return Index/Series/DataFrame) but in a future version of pandas this will be changed to expand=True (return DataFrame)\n",
      "  \"\"\"Entry point for launching an IPython kernel.\n"
     ]
    },
    {
     "data": {
      "text/html": [
       "<div>\n",
       "<style>\n",
       "    .dataframe thead tr:only-child th {\n",
       "        text-align: right;\n",
       "    }\n",
       "\n",
       "    .dataframe thead th {\n",
       "        text-align: left;\n",
       "    }\n",
       "\n",
       "    .dataframe tbody tr th {\n",
       "        vertical-align: top;\n",
       "    }\n",
       "</style>\n",
       "<table border=\"1\" class=\"dataframe\">\n",
       "  <thead>\n",
       "    <tr style=\"text-align: right;\">\n",
       "      <th></th>\n",
       "      <th>0</th>\n",
       "      <th>1</th>\n",
       "      <th>2</th>\n",
       "    </tr>\n",
       "  </thead>\n",
       "  <tbody>\n",
       "    <tr>\n",
       "      <th>0</th>\n",
       "      <td>5</td>\n",
       "      <td>3</td>\n",
       "      <td>3</td>\n",
       "    </tr>\n",
       "    <tr>\n",
       "      <th>1</th>\n",
       "      <td>4</td>\n",
       "      <td>2</td>\n",
       "      <td>2</td>\n",
       "    </tr>\n",
       "    <tr>\n",
       "      <th>2</th>\n",
       "      <td>4</td>\n",
       "      <td>2</td>\n",
       "      <td>2</td>\n",
       "    </tr>\n",
       "    <tr>\n",
       "      <th>3</th>\n",
       "      <td>2</td>\n",
       "      <td>1</td>\n",
       "      <td>1</td>\n",
       "    </tr>\n",
       "    <tr>\n",
       "      <th>4</th>\n",
       "      <td>2</td>\n",
       "      <td>2</td>\n",
       "      <td>1</td>\n",
       "    </tr>\n",
       "  </tbody>\n",
       "</table>\n",
       "</div>"
      ],
      "text/plain": [
       "   0  1  2\n",
       "0  5  3  3\n",
       "1  4  2  2\n",
       "2  4  2  2\n",
       "3  2  1  1\n",
       "4  2  2  1"
      ]
     },
     "execution_count": 105,
     "metadata": {},
     "output_type": "execute_result"
    }
   ],
   "source": [
    "house['layout'].str.extract('(\\d+)房(\\d+)廳(\\d+)衛').head()"
   ]
  },
  {
   "cell_type": "code",
   "execution_count": 106,
   "metadata": {},
   "outputs": [
    {
     "name": "stderr",
     "output_type": "stream",
     "text": [
      "C:\\ProgramData\\Anaconda3\\lib\\site-packages\\ipykernel_launcher.py:1: FutureWarning: currently extract(expand=None) means expand=False (return Index/Series/DataFrame) but in a future version of pandas this will be changed to expand=True (return DataFrame)\n",
      "  \"\"\"Entry point for launching an IPython kernel.\n"
     ]
    }
   ],
   "source": [
    "house[['bedroom', 'livinroom', 'bathroom']] = house['layout'].str.extract('(\\d+)房(\\d+)廳(\\d+)衛')"
   ]
  },
  {
   "cell_type": "code",
   "execution_count": 110,
   "metadata": {},
   "outputs": [],
   "source": [
    "house['full_address'] = '台北市大安區' + house['address']"
   ]
  },
  {
   "cell_type": "code",
   "execution_count": 115,
   "metadata": {},
   "outputs": [
    {
     "name": "stderr",
     "output_type": "stream",
     "text": [
      "C:\\ProgramData\\Anaconda3\\lib\\site-packages\\ipykernel_launcher.py:1: FutureWarning: currently extract(expand=None) means expand=False (return Index/Series/DataFrame) but in a future version of pandas this will be changed to expand=True (return DataFrame)\n",
      "  \"\"\"Entry point for launching an IPython kernel.\n"
     ]
    }
   ],
   "source": [
    "house[['city', 'area', 'road']] = house['full_address'].str.extract('(.+[市|縣])(.+區)(.+?[街|路])')"
   ]
  },
  {
   "cell_type": "code",
   "execution_count": 116,
   "metadata": {},
   "outputs": [
    {
     "data": {
      "text/html": [
       "<div>\n",
       "<style>\n",
       "    .dataframe thead tr:only-child th {\n",
       "        text-align: right;\n",
       "    }\n",
       "\n",
       "    .dataframe thead th {\n",
       "        text-align: left;\n",
       "    }\n",
       "\n",
       "    .dataframe tbody tr th {\n",
       "        vertical-align: top;\n",
       "    }\n",
       "</style>\n",
       "<table border=\"1\" class=\"dataframe\">\n",
       "  <thead>\n",
       "    <tr style=\"text-align: right;\">\n",
       "      <th></th>\n",
       "      <th>id</th>\n",
       "      <th>address</th>\n",
       "      <th>floor</th>\n",
       "      <th>allfloor</th>\n",
       "      <th>layout</th>\n",
       "      <th>area</th>\n",
       "      <th>price</th>\n",
       "      <th>browsenum_all</th>\n",
       "      <th>bedroom</th>\n",
       "      <th>livinroom</th>\n",
       "      <th>bathroom</th>\n",
       "      <th>full_address</th>\n",
       "      <th>city</th>\n",
       "      <th>road</th>\n",
       "    </tr>\n",
       "  </thead>\n",
       "  <tbody>\n",
       "    <tr>\n",
       "      <th>0</th>\n",
       "      <td>6032971</td>\n",
       "      <td>永康街47巷永康街五樓頂加..</td>\n",
       "      <td>5</td>\n",
       "      <td>5</td>\n",
       "      <td>5房3廳3衛</td>\n",
       "      <td>大安區</td>\n",
       "      <td>60,000</td>\n",
       "      <td>751</td>\n",
       "      <td>5</td>\n",
       "      <td>3</td>\n",
       "      <td>3</td>\n",
       "      <td>台北市大安區永康街47巷永康街五樓頂加..</td>\n",
       "      <td>台北市</td>\n",
       "      <td>永康街</td>\n",
       "    </tr>\n",
       "    <tr>\n",
       "      <th>1</th>\n",
       "      <td>6054083</td>\n",
       "      <td>仁愛路四段仁愛路樹海景觀..</td>\n",
       "      <td>7</td>\n",
       "      <td>12</td>\n",
       "      <td>4房2廳2衛</td>\n",
       "      <td>大安區</td>\n",
       "      <td>100,000</td>\n",
       "      <td>162</td>\n",
       "      <td>4</td>\n",
       "      <td>2</td>\n",
       "      <td>2</td>\n",
       "      <td>台北市大安區仁愛路四段仁愛路樹海景觀..</td>\n",
       "      <td>台北市</td>\n",
       "      <td>仁愛路</td>\n",
       "    </tr>\n",
       "    <tr>\n",
       "      <th>2</th>\n",
       "      <td>5957980</td>\n",
       "      <td>光復南路高樓層大巨蛋正對..</td>\n",
       "      <td>10</td>\n",
       "      <td>13</td>\n",
       "      <td>4房2廳2衛</td>\n",
       "      <td>大安區</td>\n",
       "      <td>150,000</td>\n",
       "      <td>2385</td>\n",
       "      <td>4</td>\n",
       "      <td>2</td>\n",
       "      <td>2</td>\n",
       "      <td>台北市大安區光復南路高樓層大巨蛋正對..</td>\n",
       "      <td>台北市</td>\n",
       "      <td>光復南路</td>\n",
       "    </tr>\n",
       "    <tr>\n",
       "      <th>3</th>\n",
       "      <td>6043839</td>\n",
       "      <td>永康街23巷永康商圈..</td>\n",
       "      <td>3</td>\n",
       "      <td>4</td>\n",
       "      <td>2房1廳1衛</td>\n",
       "      <td>大安區</td>\n",
       "      <td>29,000</td>\n",
       "      <td>1323</td>\n",
       "      <td>2</td>\n",
       "      <td>1</td>\n",
       "      <td>1</td>\n",
       "      <td>台北市大安區永康街23巷永康商圈..</td>\n",
       "      <td>台北市</td>\n",
       "      <td>永康街</td>\n",
       "    </tr>\n",
       "    <tr>\n",
       "      <th>4</th>\n",
       "      <td>5181793</td>\n",
       "      <td>雲和街師大*已收訂..</td>\n",
       "      <td>5</td>\n",
       "      <td>5</td>\n",
       "      <td>2房2廳1衛</td>\n",
       "      <td>大安區</td>\n",
       "      <td>31,800</td>\n",
       "      <td>2303</td>\n",
       "      <td>2</td>\n",
       "      <td>2</td>\n",
       "      <td>1</td>\n",
       "      <td>台北市大安區雲和街師大*已收訂..</td>\n",
       "      <td>台北市</td>\n",
       "      <td>雲和街</td>\n",
       "    </tr>\n",
       "  </tbody>\n",
       "</table>\n",
       "</div>"
      ],
      "text/plain": [
       "        id          address  floor  allfloor  layout area    price  \\\n",
       "0  6032971  永康街47巷永康街五樓頂加..      5         5  5房3廳3衛  大安區   60,000   \n",
       "1  6054083   仁愛路四段仁愛路樹海景觀..      7        12  4房2廳2衛  大安區  100,000   \n",
       "2  5957980   光復南路高樓層大巨蛋正對..     10        13  4房2廳2衛  大安區  150,000   \n",
       "3  6043839     永康街23巷永康商圈..      3         4  2房1廳1衛  大安區   29,000   \n",
       "4  5181793      雲和街師大*已收訂..      5         5  2房2廳1衛  大安區   31,800   \n",
       "\n",
       "   browsenum_all bedroom livinroom bathroom           full_address city  road  \n",
       "0            751       5         3        3  台北市大安區永康街47巷永康街五樓頂加..  台北市   永康街  \n",
       "1            162       4         2        2   台北市大安區仁愛路四段仁愛路樹海景觀..  台北市   仁愛路  \n",
       "2           2385       4         2        2   台北市大安區光復南路高樓層大巨蛋正對..  台北市  光復南路  \n",
       "3           1323       2         1        1     台北市大安區永康街23巷永康商圈..  台北市   永康街  \n",
       "4           2303       2         2        1      台北市大安區雲和街師大*已收訂..  台北市   雲和街  "
      ]
     },
     "execution_count": 116,
     "metadata": {},
     "output_type": "execute_result"
    }
   ],
   "source": [
    "house.head()"
   ]
  },
  {
   "cell_type": "markdown",
   "metadata": {},
   "source": [
    "## 抓取PDF 資料案例"
   ]
  },
  {
   "cell_type": "code",
   "execution_count": 117,
   "metadata": {
    "collapsed": true
   },
   "outputs": [],
   "source": [
    "import requests\n",
    "res = requests.get('http://doc.twse.com.tw/pdf/201701_2330_AI1_20180224_120208.pdf')\n",
    "with open('2330.pdf', 'wb') as f:\n",
    "    f.write(res.content)"
   ]
  },
  {
   "cell_type": "code",
   "execution_count": 119,
   "metadata": {},
   "outputs": [
    {
     "name": "stdout",
     "output_type": "stream",
     "text": [
      "Collecting pdfminer3k\n",
      "  Downloading pdfminer3k-1.3.1.tar.gz (4.1MB)\n",
      "Requirement already satisfied: pytest>=2.0 in c:\\programdata\\anaconda3\\lib\\site-packages (from pdfminer3k)\n",
      "Requirement already satisfied: ply>=3.4 in c:\\programdata\\anaconda3\\lib\\site-packages (from pdfminer3k)\n",
      "Requirement already satisfied: py>=1.4.33 in c:\\programdata\\anaconda3\\lib\\site-packages (from pytest>=2.0->pdfminer3k)\n",
      "Requirement already satisfied: setuptools in c:\\programdata\\anaconda3\\lib\\site-packages (from pytest>=2.0->pdfminer3k)\n",
      "Requirement already satisfied: colorama in c:\\programdata\\anaconda3\\lib\\site-packages (from pytest>=2.0->pdfminer3k)\n",
      "Building wheels for collected packages: pdfminer3k\n",
      "  Running setup.py bdist_wheel for pdfminer3k: started\n",
      "  Running setup.py bdist_wheel for pdfminer3k: finished with status 'done'\n",
      "  Stored in directory: C:\\Users\\USER\\AppData\\Local\\pip\\Cache\\wheels\\cd\\84\\67\\3eb20c984d51d38db1ca65ecba0d866407f46d8b3a9e72f7b2\n",
      "Successfully built pdfminer3k\n",
      "Installing collected packages: pdfminer3k\n",
      "Successfully installed pdfminer3k-1.3.1\n"
     ]
    }
   ],
   "source": [
    "! pip install pdfminer3k"
   ]
  },
  {
   "cell_type": "code",
   "execution_count": 120,
   "metadata": {},
   "outputs": [
    {
     "name": "stderr",
     "output_type": "stream",
     "text": [
      "WARNING:pdfminer.layout:Too many boxes (139) to group, skipping.\n",
      "WARNING:pdfminer.layout:Too many boxes (101) to group, skipping.\n"
     ]
    }
   ],
   "source": [
    "from pdfminer.pdfparser import PDFParser, PDFDocument\n",
    "from pdfminer.pdfinterp import PDFResourceManager, PDFPageInterpreter\n",
    "from pdfminer.converter import PDFPageAggregator\n",
    "from pdfminer.layout import LAParams, LTTextBox, LTTextLine\n",
    "\n",
    "s = ''\n",
    "fp = open('2330.pdf', 'rb')\n",
    "parser = PDFParser(fp)\n",
    "doc    = PDFDocument()\n",
    "parser.set_document(doc)\n",
    "doc.set_parser(parser)\n",
    "doc.initialize('')\n",
    "rsrcmgr = PDFResourceManager()\n",
    "laparams = LAParams()\n",
    "device = PDFPageAggregator(rsrcmgr, laparams=laparams)\n",
    "interpreter = PDFPageInterpreter(rsrcmgr, device)\n",
    "# Process each page contained in the document.\n",
    "for page in doc.get_pages():\n",
    "    interpreter.process_page(page)\n",
    "    layout = device.get_result()\n",
    "    for lt_obj in layout:\n",
    "        if isinstance(lt_obj, LTTextBox) or isinstance(lt_obj, LTTextLine):\n",
    "            s = s + lt_obj.get_text()"
   ]
  },
  {
   "cell_type": "code",
   "execution_count": 140,
   "metadata": {},
   "outputs": [
    {
     "data": {
      "text/plain": [
       "[('本公司', 57),\n",
       " ('台積公司', 14),\n",
       " ('持有之公司', 13),\n",
       " ('台灣積體電路製造股份有限公司', 12),\n",
       " ('世界先進公司', 5),\n",
       " ('應付公司', 5),\n",
       " ('精材公司', 3),\n",
       " ('創意公司', 3),\n",
       " ('母子公司', 3),\n",
       " ('投資公司', 2)]"
      ]
     },
     "execution_count": 140,
     "metadata": {},
     "output_type": "execute_result"
    }
   ],
   "source": [
    "import re\n",
    "from collections import Counter\n",
    "sentenses = re.split('，|：|。|（|）|/|\\n', s)\n",
    "#re.findall('.{3} 公 司',s)\n",
    "company_ary = []\n",
    "for sentence in sentenses:\n",
    "    phrase = ''.join(sentence.split())\n",
    "    m = re.search('.+?公司',phrase)\n",
    "    if m:\n",
    "        company_ary.append(m.group(0))\n",
    "c = Counter(company_ary)\n",
    "c.most_common(10)"
   ]
  },
  {
   "cell_type": "markdown",
   "metadata": {},
   "source": [
    "## 表示關係"
   ]
  },
  {
   "cell_type": "code",
   "execution_count": 141,
   "metadata": {
    "collapsed": true
   },
   "outputs": [],
   "source": [
    "a = [('台積電', '世界先進'),\n",
    "    ('世界先進', '采鈺公司')]"
   ]
  },
  {
   "cell_type": "code",
   "execution_count": 143,
   "metadata": {
    "collapsed": true
   },
   "outputs": [],
   "source": [
    "import networkx"
   ]
  },
  {
   "cell_type": "code",
   "execution_count": 145,
   "metadata": {
    "collapsed": true
   },
   "outputs": [],
   "source": [
    "import networkx as nx\n",
    "graph = nx.Graph()"
   ]
  },
  {
   "cell_type": "code",
   "execution_count": 146,
   "metadata": {
    "collapsed": true
   },
   "outputs": [],
   "source": [
    "graph.add_edge('台北101', '忠孝敦化', duration=5)\n",
    "graph.add_edge('台北車站', '忠孝復興', duration=10)\n",
    "graph.add_edge('忠孝復興', '忠孝敦化', duration=2)\n",
    "graph.add_edge('忠孝敦化', '敦化南路二段', duration=10)"
   ]
  },
  {
   "cell_type": "code",
   "execution_count": 148,
   "metadata": {},
   "outputs": [
    {
     "name": "stdout",
     "output_type": "stream",
     "text": [
      "Populating the interactive namespace from numpy and matplotlib\n"
     ]
    },
    {
     "name": "stderr",
     "output_type": "stream",
     "text": [
      "C:\\ProgramData\\Anaconda3\\lib\\site-packages\\IPython\\core\\magics\\pylab.py:160: UserWarning: pylab import has clobbered these variables: ['e', 'f']\n",
      "`%matplotlib` prevents importing * from pylab and numpy\n",
      "  \"\\n`%matplotlib` prevents importing * from pylab and numpy\"\n"
     ]
    },
    {
     "data": {
      "image/png": "[encoded data removed]",
      "text/plain": [
       "<matplotlib.figure.Figure at 0xe6f5438>"
      ]
     },
     "metadata": {},
     "output_type": "display_data"
    }
   ],
   "source": [
    "%pylab inline\n",
    "nx.draw(graph)"
   ]
  },
  {
   "cell_type": "markdown",
   "metadata": {},
   "source": [
    "## Pandas IO"
   ]
  },
  {
   "cell_type": "code",
   "execution_count": 153,
   "metadata": {
    "scrolled": true
   },
   "outputs": [
    {
     "name": "stdout",
     "output_type": "stream",
     "text": [
      "<class 'pandas.core.frame.DataFrame'>\n",
      "RangeIndex: 54772 entries, 0 to 54771\n",
      "Data columns (total 6 columns):\n",
      "Dates       54772 non-null datetime64[ns]\n",
      "Action      54772 non-null object\n",
      "User        54772 non-null object\n",
      "Product     54772 non-null object\n",
      "Quantity    54772 non-null int64\n",
      "Price       54721 non-null float64\n",
      "dtypes: datetime64[ns](1), float64(1), int64(1), object(3)\n",
      "memory usage: 2.5+ MB\n"
     ]
    }
   ],
   "source": [
    "import pandas\n",
    "m_cols=['Time','Action','User','Product','Quantity','Price']\n",
    "orders = pandas.read_csv('https://raw.githubusercontent.com/ywchiu/tibamepy/master/data/purchase_order.tab', \\\n",
    "                         sep = '\\t', names = m_cols,parse_dates={'Dates':[0]})\n",
    "orders.info()"
   ]
  },
  {
   "cell_type": "code",
   "execution_count": 154,
   "metadata": {
    "collapsed": true
   },
   "outputs": [],
   "source": [
    "orders.to_csv('orders.csv')"
   ]
  },
  {
   "cell_type": "code",
   "execution_count": 155,
   "metadata": {
    "collapsed": true
   },
   "outputs": [],
   "source": [
    "orders.to_excel('orders.xlsx')"
   ]
  },
  {
   "cell_type": "code",
   "execution_count": 158,
   "metadata": {},
   "outputs": [
    {
     "data": {
      "text/plain": [
       "'{\"Dates\":{\"0\":1435708801000,\"1\":1435708803000,\"2\":1435708819000,\"3\":1435708870000,\"4\":1435708896000},\"Action\":{\"0\":\"order\",\"1\":\"order\",\"2\":\"order\",\"3\":\"order\",\"4\":\"order\"},\"User\":{\"0\":\"U312622727\",\"1\":\"U239012343\",\"2\":\"U10007697373\",\"3\":\"U296328517\",\"4\":\"U300884570\"},\"Product\":{\"0\":\"P0006944501\",\"1\":\"P0006018073\",\"2\":\"P0002267974\",\"3\":\"P0016144236\",\"4\":\"P0014516980122\"},\"Quantity\":{\"0\":1,\"1\":1,\"2\":1,\"3\":1,\"4\":1},\"Price\":{\"0\":1069.0,\"1\":1680.0,\"2\":285.0,\"3\":550.0,\"4\":249.0}}'"
      ]
     },
     "execution_count": 158,
     "metadata": {},
     "output_type": "execute_result"
    }
   ],
   "source": [
    "orders.head().to_json()"
   ]
  },
  {
   "cell_type": "code",
   "execution_count": 159,
   "metadata": {},
   "outputs": [
    {
     "data": {
      "text/html": [
       "<div>\n",
       "<style>\n",
       "    .dataframe thead tr:only-child th {\n",
       "        text-align: right;\n",
       "    }\n",
       "\n",
       "    .dataframe thead th {\n",
       "        text-align: left;\n",
       "    }\n",
       "\n",
       "    .dataframe tbody tr th {\n",
       "        vertical-align: top;\n",
       "    }\n",
       "</style>\n",
       "<table border=\"1\" class=\"dataframe\">\n",
       "  <thead>\n",
       "    <tr style=\"text-align: right;\">\n",
       "      <th></th>\n",
       "      <th>Dates</th>\n",
       "      <th>Action</th>\n",
       "      <th>User</th>\n",
       "      <th>Product</th>\n",
       "      <th>Quantity</th>\n",
       "      <th>Price</th>\n",
       "    </tr>\n",
       "  </thead>\n",
       "  <tbody>\n",
       "    <tr>\n",
       "      <th>0</th>\n",
       "      <td>2015-07-01 00:00:01</td>\n",
       "      <td>order</td>\n",
       "      <td>U312622727</td>\n",
       "      <td>P0006944501</td>\n",
       "      <td>1</td>\n",
       "      <td>1069</td>\n",
       "    </tr>\n",
       "    <tr>\n",
       "      <th>1</th>\n",
       "      <td>2015-07-01 00:00:03</td>\n",
       "      <td>order</td>\n",
       "      <td>U239012343</td>\n",
       "      <td>P0006018073</td>\n",
       "      <td>1</td>\n",
       "      <td>1680</td>\n",
       "    </tr>\n",
       "    <tr>\n",
       "      <th>2</th>\n",
       "      <td>2015-07-01 00:00:19</td>\n",
       "      <td>order</td>\n",
       "      <td>U10007697373</td>\n",
       "      <td>P0002267974</td>\n",
       "      <td>1</td>\n",
       "      <td>285</td>\n",
       "    </tr>\n",
       "    <tr>\n",
       "      <th>3</th>\n",
       "      <td>2015-07-01 00:01:10</td>\n",
       "      <td>order</td>\n",
       "      <td>U296328517</td>\n",
       "      <td>P0016144236</td>\n",
       "      <td>1</td>\n",
       "      <td>550</td>\n",
       "    </tr>\n",
       "    <tr>\n",
       "      <th>4</th>\n",
       "      <td>2015-07-01 00:01:36</td>\n",
       "      <td>order</td>\n",
       "      <td>U300884570</td>\n",
       "      <td>P0014516980122</td>\n",
       "      <td>1</td>\n",
       "      <td>249</td>\n",
       "    </tr>\n",
       "  </tbody>\n",
       "</table>\n",
       "</div>"
      ],
      "text/plain": [
       "                 Dates Action          User         Product  Quantity  Price\n",
       "0  2015-07-01 00:00:01  order    U312622727     P0006944501         1   1069\n",
       "1  2015-07-01 00:00:03  order    U239012343     P0006018073         1   1680\n",
       "2  2015-07-01 00:00:19  order  U10007697373     P0002267974         1    285\n",
       "3  2015-07-01 00:01:10  order    U296328517     P0016144236         1    550\n",
       "4  2015-07-01 00:01:36  order    U300884570  P0014516980122         1    249"
      ]
     },
     "execution_count": 159,
     "metadata": {},
     "output_type": "execute_result"
    }
   ],
   "source": [
    "df = pandas.read_clipboard()\n",
    "df"
   ]
  },
  {
   "cell_type": "code",
   "execution_count": 165,
   "metadata": {
    "collapsed": true
   },
   "outputs": [],
   "source": [
    "import requests\n",
    "payload = {\n",
    "'encodeURIComponent':'1',\n",
    "'step':'1',\n",
    "'firstin':'1',\n",
    "'TYPEK':'sii',\n",
    "'code':'17',\n",
    "'year':'106',\n",
    "'season':'03'    \n",
    "}\n",
    "res = requests.post('http://mops.twse.com.tw/mops/web/ajax_t163sb19', data = payload)\n",
    "res.encoding = 'utf-8'"
   ]
  },
  {
   "cell_type": "code",
   "execution_count": 167,
   "metadata": {},
   "outputs": [],
   "source": [
    "import pandas\n",
    "dfs = pandas.read_html(res.text)\n"
   ]
  },
  {
   "cell_type": "code",
   "execution_count": 168,
   "metadata": {},
   "outputs": [
    {
     "data": {
      "text/plain": [
       "list"
      ]
     },
     "execution_count": 168,
     "metadata": {},
     "output_type": "execute_result"
    }
   ],
   "source": [
    "type(dfs)"
   ]
  },
  {
   "cell_type": "code",
   "execution_count": 171,
   "metadata": {
    "scrolled": true
   },
   "outputs": [
    {
     "data": {
      "text/html": [
       "<div>\n",
       "<style>\n",
       "    .dataframe thead tr:only-child th {\n",
       "        text-align: right;\n",
       "    }\n",
       "\n",
       "    .dataframe thead th {\n",
       "        text-align: left;\n",
       "    }\n",
       "\n",
       "    .dataframe tbody tr th {\n",
       "        vertical-align: top;\n",
       "    }\n",
       "</style>\n",
       "<table border=\"1\" class=\"dataframe\">\n",
       "  <thead>\n",
       "    <tr style=\"text-align: right;\">\n",
       "      <th></th>\n",
       "      <th>公司代號</th>\n",
       "      <th>公司名稱</th>\n",
       "      <th>產業別</th>\n",
       "      <th>基本每股盈餘(元)</th>\n",
       "      <th>普通股每股面額</th>\n",
       "      <th>營業收入</th>\n",
       "      <th>營業利益</th>\n",
       "      <th>營業外收入及支出</th>\n",
       "      <th>稅後淨利</th>\n",
       "    </tr>\n",
       "  </thead>\n",
       "  <tbody>\n",
       "    <tr>\n",
       "      <th>1</th>\n",
       "      <td>2881</td>\n",
       "      <td>富邦金融控股股份有限公司</td>\n",
       "      <td>金融保險業</td>\n",
       "      <td>4.23</td>\n",
       "      <td>新台幣 10.0000元</td>\n",
       "      <td>318115766</td>\n",
       "      <td>--</td>\n",
       "      <td>--</td>\n",
       "      <td>44188002</td>\n",
       "    </tr>\n",
       "    <tr>\n",
       "      <th>2</th>\n",
       "      <td>2882</td>\n",
       "      <td>國泰金融控股股份有限公司</td>\n",
       "      <td>金融保險業</td>\n",
       "      <td>3.81</td>\n",
       "      <td>新台幣 10.0000元</td>\n",
       "      <td>428239759</td>\n",
       "      <td>--</td>\n",
       "      <td>--</td>\n",
       "      <td>48260754</td>\n",
       "    </tr>\n",
       "    <tr>\n",
       "      <th>3</th>\n",
       "      <td>2809</td>\n",
       "      <td>京城商業銀行股份有限公司</td>\n",
       "      <td>金融保險業</td>\n",
       "      <td>3.74</td>\n",
       "      <td>新台幣 10.0000元</td>\n",
       "      <td>6547676</td>\n",
       "      <td>--</td>\n",
       "      <td>--</td>\n",
       "      <td>4285150</td>\n",
       "    </tr>\n",
       "    <tr>\n",
       "      <th>4</th>\n",
       "      <td>6024</td>\n",
       "      <td>群益期貨股份有限公司</td>\n",
       "      <td>金融保險業</td>\n",
       "      <td>3.67</td>\n",
       "      <td>新台幣 10.0000元</td>\n",
       "      <td>2019512</td>\n",
       "      <td>398305</td>\n",
       "      <td>250083</td>\n",
       "      <td>571514</td>\n",
       "    </tr>\n",
       "    <tr>\n",
       "      <th>5</th>\n",
       "      <td>2850</td>\n",
       "      <td>新光產物保險股份有限公司</td>\n",
       "      <td>金融保險業</td>\n",
       "      <td>3.26</td>\n",
       "      <td>新台幣 10.0000元</td>\n",
       "      <td>10490543</td>\n",
       "      <td>1156934</td>\n",
       "      <td>14168</td>\n",
       "      <td>1030517</td>\n",
       "    </tr>\n",
       "  </tbody>\n",
       "</table>\n",
       "</div>"
      ],
      "text/plain": [
       "0  公司代號          公司名稱    產業別 基本每股盈餘(元)       普通股每股面額       營業收入     營業利益  \\\n",
       "1  2881  富邦金融控股股份有限公司  金融保險業      4.23  新台幣 10.0000元  318115766       --   \n",
       "2  2882  國泰金融控股股份有限公司  金融保險業      3.81  新台幣 10.0000元  428239759       --   \n",
       "3  2809  京城商業銀行股份有限公司  金融保險業      3.74  新台幣 10.0000元    6547676       --   \n",
       "4  6024    群益期貨股份有限公司  金融保險業      3.67  新台幣 10.0000元    2019512   398305   \n",
       "5  2850  新光產物保險股份有限公司  金融保險業      3.26  新台幣 10.0000元   10490543  1156934   \n",
       "\n",
       "0 營業外收入及支出      稅後淨利  \n",
       "1       --  44188002  \n",
       "2       --  48260754  \n",
       "3       --   4285150  \n",
       "4   250083    571514  \n",
       "5    14168   1030517  "
      ]
     },
     "execution_count": 171,
     "metadata": {},
     "output_type": "execute_result"
    }
   ],
   "source": [
    "df = dfs[0]\n",
    "df.columns = df.iloc[0]\n",
    "df.drop([0], inplace=True)\n",
    "df.head()"
   ]
  },
  {
   "cell_type": "markdown",
   "metadata": {},
   "source": [
    "## 資料存儲"
   ]
  },
  {
   "cell_type": "code",
   "execution_count": 174,
   "metadata": {},
   "outputs": [
    {
     "name": "stdout",
     "output_type": "stream",
     "text": [
      "('3.14.2',)\n"
     ]
    }
   ],
   "source": [
    "import sqlite3 as lite\n",
    "# 建立連線\n",
    "con = lite.connect('test.sqlite')\n",
    "# 建立游標\n",
    "cur = con.cursor()\n",
    "# 透過游標下SQL 查詢資料\n",
    "cur.execute('SELECT SQLITE_VERSION()')\n",
    "# 取得資料\n",
    "data = cur.fetchone()\n",
    "print(data)\n",
    "# 關閉連線\n",
    "con.close()"
   ]
  },
  {
   "cell_type": "code",
   "execution_count": 175,
   "metadata": {},
   "outputs": [
    {
     "name": "stdout",
     "output_type": "stream",
     "text": [
      "('3.14.2',)\n"
     ]
    }
   ],
   "source": [
    "import sqlite3 as lite\n",
    "# 建立連線\n",
    "with lite.connect('test.sqlite') as con:\n",
    "    # 建立游標\n",
    "    cur = con.cursor()\n",
    "    # 透過游標下SQL 查詢資料\n",
    "    cur.execute('SELECT SQLITE_VERSION()')\n",
    "    # 取得資料\n",
    "    data = cur.fetchone()\n",
    "    print(data)"
   ]
  },
  {
   "cell_type": "code",
   "execution_count": 176,
   "metadata": {},
   "outputs": [
    {
     "name": "stdout",
     "output_type": "stream",
     "text": [
      "0912173381 United State\n",
      "0928375018 Tokyo Japan\n",
      "0957209108 Taipei\n"
     ]
    }
   ],
   "source": [
    "import sqlite3 as lite \n",
    "with lite.connect(\"test.sqlite\") as con:\n",
    "    cur=con.cursor()\n",
    "    \n",
    "    # 檢查 PhoneAddress 表格是否存在 , 如果存在刪除該表格\n",
    "    cur.execute(\"DROP TABLE IF EXISTS PhoneAddress\")\n",
    "    \n",
    "    # 建立 PhoneAddress 表格\n",
    "    cur.execute(\"CREATE TABLE PhoneAddress(\\\n",
    "                           phone CHAR(10) PRIMARY KEY, \\\n",
    "                           address TEXT, \\\n",
    "                           name TEXT unique, \\\n",
    "                           age INT NOT NULL)\")\n",
    "    # 插入三筆資料\n",
    "    cur.execute(\"INSERT INTO PhoneAddress \\\n",
    "         VALUES('0912173381','United State','JhonDoe',53)\")\n",
    "    cur.execute(\"INSERT INTO PhoneAddress \\\n",
    "          VALUES('0928375018','Tokyo Japan','MuMuCat',6)\")\n",
    "    cur.execute(\"INSERT INTO PhoneAddress \\\n",
    "          VALUES('0957209108','Taipei','Richard',29)\")\n",
    "    \n",
    "    # 從 PhoneAddress 之中 取得電話與地址\n",
    "    cur.execute(\"SELECT phone,address FROM PhoneAddress\")\n",
    "    \n",
    "    # 拿所有資料, 並將資料放置於list 之中\n",
    "    data=cur.fetchall()\n",
    "    \n",
    "    for rec in data:\n",
    "        print(rec[0],rec[1])"
   ]
  },
  {
   "cell_type": "code",
   "execution_count": 178,
   "metadata": {},
   "outputs": [
    {
     "name": "stdout",
     "output_type": "stream",
     "text": [
      "('0912173381', 'United State')\n",
      "[('0928375018', 'Tokyo Japan'), ('0957209108', 'Taipei')]\n"
     ]
    }
   ],
   "source": [
    "import sqlite3 as lite \n",
    "with lite.connect(\"test.sqlite\") as con:\n",
    "    cur=con.cursor()\n",
    "    \n",
    "    # 檢查 PhoneAddress 表格是否存在 , 如果存在刪除該表格\n",
    "    cur.execute(\"DROP TABLE IF EXISTS PhoneAddress\")\n",
    "    \n",
    "    # 建立 PhoneAddress 表格\n",
    "    cur.execute(\"CREATE TABLE PhoneAddress(\\\n",
    "                           phone CHAR(10) PRIMARY KEY, \\\n",
    "                           address TEXT, \\\n",
    "                           name TEXT unique, \\\n",
    "                           age INT NOT NULL)\")\n",
    "    # 插入三筆資料\n",
    "    cur.execute(\"INSERT INTO PhoneAddress \\\n",
    "         VALUES('0912173381','United State','JhonDoe',53)\")\n",
    "    cur.execute(\"INSERT INTO PhoneAddress \\\n",
    "          VALUES('0928375018','Tokyo Japan','MuMuCat',6)\")\n",
    "    cur.execute(\"INSERT INTO PhoneAddress \\\n",
    "          VALUES('0957209108','Taipei','Richard',29)\")\n",
    "    \n",
    "    # 從 PhoneAddress 之中 取得電話與地址\n",
    "    cur.execute(\"SELECT phone,address FROM PhoneAddress\")\n",
    "    \n",
    "    # 拿取一筆資料\n",
    "    data1=cur.fetchone()\n",
    "    print(data1)\n",
    "    \n",
    "    # 拿所有資料, 並將資料放置於list 之中\n",
    "    data2=cur.fetchall()\n",
    "    print(data2)"
   ]
  },
  {
   "cell_type": "code",
   "execution_count": 179,
   "metadata": {},
   "outputs": [
    {
     "data": {
      "text/html": [
       "<div>\n",
       "<style>\n",
       "    .dataframe thead tr:only-child th {\n",
       "        text-align: right;\n",
       "    }\n",
       "\n",
       "    .dataframe thead th {\n",
       "        text-align: left;\n",
       "    }\n",
       "\n",
       "    .dataframe tbody tr th {\n",
       "        vertical-align: top;\n",
       "    }\n",
       "</style>\n",
       "<table border=\"1\" class=\"dataframe\">\n",
       "  <thead>\n",
       "    <tr style=\"text-align: right;\">\n",
       "      <th></th>\n",
       "      <th>age</th>\n",
       "      <th>gender</th>\n",
       "      <th>name</th>\n",
       "    </tr>\n",
       "  </thead>\n",
       "  <tbody>\n",
       "    <tr>\n",
       "      <th>0</th>\n",
       "      <td>23</td>\n",
       "      <td>F</td>\n",
       "      <td>Mary</td>\n",
       "    </tr>\n",
       "    <tr>\n",
       "      <th>1</th>\n",
       "      <td>33</td>\n",
       "      <td>M</td>\n",
       "      <td>John</td>\n",
       "    </tr>\n",
       "  </tbody>\n",
       "</table>\n",
       "</div>"
      ],
      "text/plain": [
       "   age gender  name\n",
       "0   23      F  Mary\n",
       "1   33      M  John"
      ]
     },
     "execution_count": 179,
     "metadata": {},
     "output_type": "execute_result"
    }
   ],
   "source": [
    "import sqlite3 as lite\n",
    "import pandas\n",
    "employee=[{'name':'Mary','age':23,'gender':'F'},\\\n",
    "          {'name':'John','age':33,'gender':'M'}]\n",
    "\n",
    "df=pandas.DataFrame(employee)\n",
    "df"
   ]
  },
  {
   "cell_type": "code",
   "execution_count": 180,
   "metadata": {
    "collapsed": true
   },
   "outputs": [],
   "source": [
    "with lite.connect('test.sqlite') as db:\n",
    "    df.to_sql(name='employee', index=False,\\\n",
    "              con=db, if_exists='replace')"
   ]
  },
  {
   "cell_type": "code",
   "execution_count": 181,
   "metadata": {},
   "outputs": [
    {
     "data": {
      "text/html": [
       "<div>\n",
       "<style>\n",
       "    .dataframe thead tr:only-child th {\n",
       "        text-align: right;\n",
       "    }\n",
       "\n",
       "    .dataframe thead th {\n",
       "        text-align: left;\n",
       "    }\n",
       "\n",
       "    .dataframe tbody tr th {\n",
       "        vertical-align: top;\n",
       "    }\n",
       "</style>\n",
       "<table border=\"1\" class=\"dataframe\">\n",
       "  <thead>\n",
       "    <tr style=\"text-align: right;\">\n",
       "      <th></th>\n",
       "      <th>age</th>\n",
       "      <th>gender</th>\n",
       "      <th>name</th>\n",
       "    </tr>\n",
       "  </thead>\n",
       "  <tbody>\n",
       "    <tr>\n",
       "      <th>0</th>\n",
       "      <td>23</td>\n",
       "      <td>F</td>\n",
       "      <td>Mary</td>\n",
       "    </tr>\n",
       "    <tr>\n",
       "      <th>1</th>\n",
       "      <td>33</td>\n",
       "      <td>M</td>\n",
       "      <td>John</td>\n",
       "    </tr>\n",
       "  </tbody>\n",
       "</table>\n",
       "</div>"
      ],
      "text/plain": [
       "   age gender  name\n",
       "0   23      F  Mary\n",
       "1   33      M  John"
      ]
     },
     "execution_count": 181,
     "metadata": {},
     "output_type": "execute_result"
    }
   ],
   "source": [
    "with lite.connect('test.sqlite') as db:\n",
    "    df2 = pandas.read_sql_query('SELECT * FROM employee', con = db)\n",
    "df2"
   ]
  },
  {
   "cell_type": "markdown",
   "metadata": {},
   "source": [
    "## 處理中型資料\n",
    "- https://dumps.wikimedia.org/other/pageviews/2018/2018-01/pageviews-20180101-000000.gz"
   ]
  },
  {
   "cell_type": "code",
   "execution_count": 182,
   "metadata": {
    "collapsed": true
   },
   "outputs": [],
   "source": [
    "import pandas\n",
    "pageview = pandas.read_csv('pageviews-20180101-000000', sep = ' ', header=None)"
   ]
  },
  {
   "cell_type": "code",
   "execution_count": 184,
   "metadata": {},
   "outputs": [],
   "source": [
    "pageview.columns = ['language', 'item', 'cnt', 'type']"
   ]
  },
  {
   "cell_type": "code",
   "execution_count": 186,
   "metadata": {},
   "outputs": [
    {
     "name": "stdout",
     "output_type": "stream",
     "text": [
      "<class 'pandas.core.frame.DataFrame'>\n",
      "RangeIndex: 4679669 entries, 0 to 4679668\n",
      "Data columns (total 4 columns):\n",
      "language    object\n",
      "item        object\n",
      "cnt         int64\n",
      "type        int64\n",
      "dtypes: int64(2), object(2)\n",
      "memory usage: 142.8+ MB\n"
     ]
    }
   ],
   "source": [
    "pageview.info()"
   ]
  },
  {
   "cell_type": "code",
   "execution_count": 187,
   "metadata": {
    "collapsed": true
   },
   "outputs": [],
   "source": [
    "with lite.connect('test.sqlite') as db:\n",
    "    pageview.to_sql(name='pageview', index=False,\\\n",
    "              con=db, if_exists='replace')"
   ]
  },
  {
   "cell_type": "code",
   "execution_count": 190,
   "metadata": {},
   "outputs": [
    {
     "data": {
      "text/html": [
       "<div>\n",
       "<style>\n",
       "    .dataframe thead tr:only-child th {\n",
       "        text-align: right;\n",
       "    }\n",
       "\n",
       "    .dataframe thead th {\n",
       "        text-align: left;\n",
       "    }\n",
       "\n",
       "    .dataframe tbody tr th {\n",
       "        vertical-align: top;\n",
       "    }\n",
       "</style>\n",
       "<table border=\"1\" class=\"dataframe\">\n",
       "  <thead>\n",
       "    <tr style=\"text-align: right;\">\n",
       "      <th></th>\n",
       "      <th>item</th>\n",
       "      <th>cnt</th>\n",
       "    </tr>\n",
       "  </thead>\n",
       "  <tbody>\n",
       "    <tr>\n",
       "      <th>0</th>\n",
       "      <td>Main_Page</td>\n",
       "      <td>358858</td>\n",
       "    </tr>\n",
       "    <tr>\n",
       "      <th>1</th>\n",
       "      <td>Nile_Rodgers</td>\n",
       "      <td>73814</td>\n",
       "    </tr>\n",
       "    <tr>\n",
       "      <th>2</th>\n",
       "      <td>Bee_Gees</td>\n",
       "      <td>67012</td>\n",
       "    </tr>\n",
       "    <tr>\n",
       "      <th>3</th>\n",
       "      <td>-</td>\n",
       "      <td>64333</td>\n",
       "    </tr>\n",
       "    <tr>\n",
       "      <th>4</th>\n",
       "      <td>José_Feliciano</td>\n",
       "      <td>62931</td>\n",
       "    </tr>\n",
       "    <tr>\n",
       "      <th>5</th>\n",
       "      <td>Special:Search</td>\n",
       "      <td>62909</td>\n",
       "    </tr>\n",
       "    <tr>\n",
       "      <th>6</th>\n",
       "      <td>Special:ItemDisambiguation</td>\n",
       "      <td>62296</td>\n",
       "    </tr>\n",
       "    <tr>\n",
       "      <th>7</th>\n",
       "      <td>Leading_Ladies_(group)</td>\n",
       "      <td>57335</td>\n",
       "    </tr>\n",
       "    <tr>\n",
       "      <th>8</th>\n",
       "      <td>Gary_Oldman</td>\n",
       "      <td>55331</td>\n",
       "    </tr>\n",
       "    <tr>\n",
       "      <th>9</th>\n",
       "      <td>Wikipedia:Hauptseite</td>\n",
       "      <td>44901</td>\n",
       "    </tr>\n",
       "  </tbody>\n",
       "</table>\n",
       "</div>"
      ],
      "text/plain": [
       "                         item     cnt\n",
       "0                   Main_Page  358858\n",
       "1                Nile_Rodgers   73814\n",
       "2                    Bee_Gees   67012\n",
       "3                           -   64333\n",
       "4              José_Feliciano   62931\n",
       "5              Special:Search   62909\n",
       "6  Special:ItemDisambiguation   62296\n",
       "7      Leading_Ladies_(group)   57335\n",
       "8                 Gary_Oldman   55331\n",
       "9        Wikipedia:Hauptseite   44901"
      ]
     },
     "execution_count": 190,
     "metadata": {},
     "output_type": "execute_result"
    }
   ],
   "source": [
    "with lite.connect('test.sqlite') as db:\n",
    "    df2 = pandas.read_sql_query('SELECT item, sum(cnt) as cnt FROM pageview GROUP BY item ORDER BY sum(cnt) DESC LIMIT 10', con = db)\n",
    "df2"
   ]
  },
  {
   "cell_type": "markdown",
   "metadata": {},
   "source": [
    "## MySQL\n",
    "- https://dev.mysql.com/get/Downloads/MySQLInstaller/mysql-installer-community-5.7.21.0.msi"
   ]
  },
  {
   "cell_type": "code",
   "execution_count": null,
   "metadata": {
    "collapsed": true
   },
   "outputs": [],
   "source": []
  }
 ],
 "metadata": {
  "kernelspec": {
   "display_name": "Python 3",
   "language": "python",
   "name": "python3"
  },
  "language_info": {
   "codemirror_mode": {
    "name": "ipython",
    "version": 3
   },
   "file_extension": ".py",
   "mimetype": "text/x-python",
   "name": "python",
   "nbconvert_exporter": "python",
   "pygments_lexer": "ipython3",
   "version": "3.6.3"
  }
 },
 "nbformat": 4,
 "nbformat_minor": 2
}
