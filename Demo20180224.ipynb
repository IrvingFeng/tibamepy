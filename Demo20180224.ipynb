{
 "cells": [
  {
   "cell_type": "markdown",
   "metadata": {},
   "source": [
    "## 正規表達法"
   ]
  },
  {
   "cell_type": "code",
   "execution_count": 1,
   "metadata": {},
   "outputs": [
    {
     "data": {
      "text/plain": [
       "True"
      ]
     },
     "execution_count": 1,
     "metadata": {},
     "output_type": "execute_result"
    }
   ],
   "source": [
    "phone = '0912345678'\n",
    "phone == '0912345678'"
   ]
  },
  {
   "cell_type": "code",
   "execution_count": 2,
   "metadata": {},
   "outputs": [
    {
     "data": {
      "text/plain": [
       "True"
      ]
     },
     "execution_count": 2,
     "metadata": {},
     "output_type": "execute_result"
    }
   ],
   "source": [
    "n = '3'\n",
    "n == '3'"
   ]
  },
  {
   "cell_type": "code",
   "execution_count": 3,
   "metadata": {
    "collapsed": true
   },
   "outputs": [],
   "source": [
    "import re\n",
    "#re.match: 需要字串百分之百跟規則相符\n",
    "#re.search: 需要字串部分內容跟規則相符"
   ]
  },
  {
   "cell_type": "code",
   "execution_count": 4,
   "metadata": {},
   "outputs": [
    {
     "data": {
      "text/plain": [
       "<_sre.SRE_Match object; span=(0, 1), match='3'>"
      ]
     },
     "execution_count": 4,
     "metadata": {},
     "output_type": "execute_result"
    }
   ],
   "source": [
    "n = '3'\n",
    "import re\n",
    "re.match('3', n)"
   ]
  },
  {
   "cell_type": "code",
   "execution_count": 5,
   "metadata": {
    "collapsed": true
   },
   "outputs": [],
   "source": [
    "re.match('5', n)"
   ]
  },
  {
   "cell_type": "markdown",
   "metadata": {},
   "source": [
    "### 數字比對"
   ]
  },
  {
   "cell_type": "code",
   "execution_count": 8,
   "metadata": {},
   "outputs": [
    {
     "data": {
      "text/plain": [
       "<_sre.SRE_Match object; span=(0, 1), match='3'>"
      ]
     },
     "execution_count": 8,
     "metadata": {},
     "output_type": "execute_result"
    }
   ],
   "source": [
    "# [] : 比對 [] 內的任意字元\n",
    "re.match('[0123456789]', n)\n",
    "\n",
    "# - : 連續\n",
    "re.match('[0-9]', n) #[0123456789] => [0-9]\n",
    "\n",
    "# \\d : 比對數字\n",
    "re.match('\\d', n) # [0-9] => \\d"
   ]
  },
  {
   "cell_type": "code",
   "execution_count": 10,
   "metadata": {},
   "outputs": [
    {
     "name": "stdout",
     "output_type": "stream",
     "text": [
      "None\n"
     ]
    }
   ],
   "source": [
    "s = 'w'\n",
    "print(re.match('\\d', s))"
   ]
  },
  {
   "cell_type": "markdown",
   "metadata": {},
   "source": [
    "### 比對文字"
   ]
  },
  {
   "cell_type": "code",
   "execution_count": 12,
   "metadata": {},
   "outputs": [
    {
     "data": {
      "text/plain": [
       "<_sre.SRE_Match object; span=(0, 1), match='w'>"
      ]
     },
     "execution_count": 12,
     "metadata": {},
     "output_type": "execute_result"
    }
   ],
   "source": [
    "# [] : 比對 [] 內的任意字元\n",
    "s = 'w'\n",
    "re.match('[abcdefghijklmnopqrstuvwxyz]',s)\n",
    "\n",
    "# - : 連續\n",
    "re.match('[a-z]', s) # [abcdefghijklmnopqrstuvwxyz] => [a-z]"
   ]
  },
  {
   "cell_type": "code",
   "execution_count": 13,
   "metadata": {
    "collapsed": true
   },
   "outputs": [],
   "source": [
    "s= 'A'\n",
    "re.match('[a-z]', s)"
   ]
  },
  {
   "cell_type": "code",
   "execution_count": 14,
   "metadata": {},
   "outputs": [
    {
     "data": {
      "text/plain": [
       "<_sre.SRE_Match object; span=(0, 1), match='A'>"
      ]
     },
     "execution_count": 14,
     "metadata": {},
     "output_type": "execute_result"
    }
   ],
   "source": [
    "s= 'A'\n",
    "re.match('[a-zA-Z]', s)"
   ]
  },
  {
   "cell_type": "code",
   "execution_count": 15,
   "metadata": {
    "collapsed": true
   },
   "outputs": [],
   "source": [
    "s= '7'\n",
    "re.match('[a-zA-Z]', s)"
   ]
  },
  {
   "cell_type": "code",
   "execution_count": 17,
   "metadata": {},
   "outputs": [
    {
     "data": {
      "text/plain": [
       "<_sre.SRE_Match object; span=(0, 1), match='7'>"
      ]
     },
     "execution_count": 17,
     "metadata": {},
     "output_type": "execute_result"
    }
   ],
   "source": [
    "s= '7'\n",
    "re.match('[a-zA-Z0-9]', s)"
   ]
  },
  {
   "cell_type": "code",
   "execution_count": 16,
   "metadata": {},
   "outputs": [
    {
     "data": {
      "text/plain": [
       "<_sre.SRE_Match object; span=(0, 1), match='7'>"
      ]
     },
     "execution_count": 16,
     "metadata": {},
     "output_type": "execute_result"
    }
   ],
   "source": [
    "# \\w 比對任意英文字元或是數字\n",
    "s = '7'\n",
    "re.match('\\w', s) # [a-zA-Z0-9] => \\w"
   ]
  },
  {
   "cell_type": "code",
   "execution_count": 18,
   "metadata": {},
   "outputs": [
    {
     "data": {
      "text/plain": [
       "<_sre.SRE_Match object; span=(0, 1), match='i'>"
      ]
     },
     "execution_count": 18,
     "metadata": {},
     "output_type": "execute_result"
    }
   ],
   "source": [
    "s = 'iphone'\n",
    "re.match('\\w', s)"
   ]
  },
  {
   "cell_type": "markdown",
   "metadata": {},
   "source": [
    "### 比對多個字元"
   ]
  },
  {
   "cell_type": "code",
   "execution_count": 20,
   "metadata": {},
   "outputs": [
    {
     "data": {
      "text/plain": [
       "<_sre.SRE_Match object; span=(0, 6), match='iphone'>"
      ]
     },
     "execution_count": 20,
     "metadata": {},
     "output_type": "execute_result"
    }
   ],
   "source": [
    "s = 'iphone'\n",
    "re.match('\\w\\w\\w\\w\\w\\w', s)"
   ]
  },
  {
   "cell_type": "code",
   "execution_count": 21,
   "metadata": {},
   "outputs": [
    {
     "data": {
      "text/plain": [
       "<_sre.SRE_Match object; span=(0, 6), match='iphone'>"
      ]
     },
     "execution_count": 21,
     "metadata": {},
     "output_type": "execute_result"
    }
   ],
   "source": [
    "# {n}: 比對 n 個字元  \n",
    "re.match('\\w{6}', s) # \\w\\w\\w\\w\\w\\w => \\w{6}"
   ]
  },
  {
   "cell_type": "code",
   "execution_count": 24,
   "metadata": {},
   "outputs": [
    {
     "data": {
      "text/plain": [
       "<_sre.SRE_Match object; span=(0, 6), match='Iphone'>"
      ]
     },
     "execution_count": 24,
     "metadata": {},
     "output_type": "execute_result"
    }
   ],
   "source": [
    "s = 'IphoneX'\n",
    "re.match('\\w{6}', s) \n",
    "\n",
    "s = 'Iphone4S'\n",
    "re.match('\\w{6}', s) "
   ]
  },
  {
   "cell_type": "code",
   "execution_count": 27,
   "metadata": {},
   "outputs": [
    {
     "data": {
      "text/plain": [
       "<_sre.SRE_Match object; span=(0, 9), match='Iphone3GS'>"
      ]
     },
     "execution_count": 27,
     "metadata": {},
     "output_type": "execute_result"
    }
   ],
   "source": [
    "# {m,n}: 比對至少m 個字元, 至多n 個字元\n",
    "s = 'Iphone3GS'\n",
    "re.match('\\w{6,9}', s) "
   ]
  },
  {
   "cell_type": "code",
   "execution_count": 29,
   "metadata": {},
   "outputs": [
    {
     "data": {
      "text/plain": [
       "<_sre.SRE_Match object; span=(0, 6), match='Iphone'>"
      ]
     },
     "execution_count": 29,
     "metadata": {},
     "output_type": "execute_result"
    }
   ],
   "source": [
    "# {m,}: 比對至少m 個字元, 至多 未知數量字元\n",
    "s = 'IphoneTimCook'\n",
    "re.match('\\w{6,}', s) \n",
    "\n",
    "# {,n}: 比對至少未知數量字元, 至多n 個字元\n",
    "re.match('\\w{,6}', s) "
   ]
  },
  {
   "cell_type": "code",
   "execution_count": 31,
   "metadata": {},
   "outputs": [
    {
     "data": {
      "text/plain": [
       "<_sre.SRE_Match object; span=(0, 0), match=''>"
      ]
     },
     "execution_count": 31,
     "metadata": {},
     "output_type": "execute_result"
    }
   ],
   "source": [
    "# {0,} :  比對 0 個以上的字元\n",
    "s = ''\n",
    "re.match('\\w{0,}', s) \n",
    "\n",
    "# * : 比對 0 個以上的字元\n",
    "re.match('\\w*', s) # \\w{0,} => \\w*"
   ]
  },
  {
   "cell_type": "code",
   "execution_count": 35,
   "metadata": {},
   "outputs": [
    {
     "data": {
      "text/plain": [
       "<_sre.SRE_Match object; span=(0, 7), match='IphoneX'>"
      ]
     },
     "execution_count": 35,
     "metadata": {},
     "output_type": "execute_result"
    }
   ],
   "source": [
    "# {1,} :  比對 1 個以上的字元\n",
    "s = 'IphoneX'\n",
    "re.match('\\w{1,}', s) \n",
    "\n",
    "# + : 比對 1 個以上的字元\n",
    "re.match('\\w+', s) # \\w{1,} => \\w+"
   ]
  },
  {
   "cell_type": "markdown",
   "metadata": {},
   "source": [
    "### 比對電話號碼 (手機)"
   ]
  },
  {
   "cell_type": "code",
   "execution_count": null,
   "metadata": {
    "collapsed": true
   },
   "outputs": [],
   "source": []
  },
  {
   "cell_type": "code",
   "execution_count": 37,
   "metadata": {},
   "outputs": [
    {
     "name": "stdout",
     "output_type": "stream",
     "text": [
      "0 0912345678\n",
      "1 0222133333\n",
      "2 0912-345-678\n",
      "3 0912-345678\n",
      "4 09129381290890235839582390\n"
     ]
    }
   ],
   "source": [
    "phones = ['0912345678', '0222133333', '0912-345-678', \\\n",
    "          '0912-345678', '09129381290890235839582390']\n",
    "\n",
    "for idx,p in enumerate(phones):\n",
    "    print(idx,p)"
   ]
  },
  {
   "cell_type": "code",
   "execution_count": 45,
   "metadata": {},
   "outputs": [
    {
     "name": "stdout",
     "output_type": "stream",
     "text": [
      "0 <_sre.SRE_Match object; span=(0, 10), match='0912345678'>\n",
      "1 None\n",
      "2 <_sre.SRE_Match object; span=(0, 12), match='0912-345-678'>\n",
      "3 <_sre.SRE_Match object; span=(0, 11), match='0912-345678'>\n",
      "4 None\n"
     ]
    }
   ],
   "source": [
    "for idx,p in enumerate(phones):\n",
    "    #print(idx, re.match('\\d{10}', p) )\n",
    "    #print(idx, re.match('09\\d{8}', p) )\n",
    "    \n",
    "    #print(idx, re.match('09\\d{2}-{0,1}\\d{3}-{0,1}\\d{3}', p) )\n",
    "    #print(idx, re.match('09\\d{2}-?\\d{3}-?\\d{3}', p) ) # {0,1} => ?\n",
    "    \n",
    "    # ^ : 比對字串的開端, $: 比對字串的結尾\n",
    "    print(idx, re.match('^09\\d{2}-?\\d{3}-?\\d{3}$', p) )"
   ]
  },
  {
   "cell_type": "code",
   "execution_count": 49,
   "metadata": {},
   "outputs": [
    {
     "data": {
      "text/plain": [
       "'0935492641'"
      ]
     },
     "execution_count": 49,
     "metadata": {},
     "output_type": "execute_result"
    }
   ],
   "source": [
    "article = '''\n",
    "※ 引述《wasd (運動去了)》之銘言：\n",
    ": 上次同學會有很些人都沒去\n",
    ": 所以要不要請沒去的人PO個聯絡方式\n",
    ": 就這樣.......\n",
    "致光    0935492641      msn:ddm702@hotmail.com\n",
    "'''\n",
    "\n",
    "m = re.search('09\\d{2}-?\\d{3}-?\\d{3}', article)\n",
    "m.group(0)"
   ]
  },
  {
   "cell_type": "markdown",
   "metadata": {},
   "source": [
    "### Enumerate"
   ]
  },
  {
   "cell_type": "code",
   "execution_count": 40,
   "metadata": {},
   "outputs": [
    {
     "name": "stdout",
     "output_type": "stream",
     "text": [
      "0 4\n",
      "1 5\n",
      "2 7\n",
      "3 1\n",
      "4 2\n",
      "================\n",
      "0 4\n",
      "1 5\n",
      "2 7\n",
      "3 1\n",
      "4 2\n"
     ]
    }
   ],
   "source": [
    "a = [4,5,7,1,2]\n",
    "cnt = 0\n",
    "for ele in a:\n",
    "    print(cnt, ele)\n",
    "    cnt = cnt + 1\n",
    "print('================')\n",
    "for cnt, ele in enumerate(a):\n",
    "    print(cnt,ele)"
   ]
  }
 ],
 "metadata": {
  "kernelspec": {
   "display_name": "Python 3",
   "language": "python",
   "name": "python3"
  },
  "language_info": {
   "codemirror_mode": {
    "name": "ipython",
    "version": 3
   },
   "file_extension": ".py",
   "mimetype": "text/x-python",
   "name": "python",
   "nbconvert_exporter": "python",
   "pygments_lexer": "ipython3",
   "version": "3.6.3"
  }
 },
 "nbformat": 4,
 "nbformat_minor": 2
}
