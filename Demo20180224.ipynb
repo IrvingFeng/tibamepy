{
 "cells": [
  {
   "cell_type": "markdown",
   "metadata": {},
   "source": [
    "## 正規表達法"
   ]
  },
  {
   "cell_type": "code",
   "execution_count": 1,
   "metadata": {},
   "outputs": [
    {
     "data": {
      "text/plain": [
       "True"
      ]
     },
     "execution_count": 1,
     "metadata": {},
     "output_type": "execute_result"
    }
   ],
   "source": [
    "phone = '0912345678'\n",
    "phone == '0912345678'"
   ]
  },
  {
   "cell_type": "code",
   "execution_count": 2,
   "metadata": {},
   "outputs": [
    {
     "data": {
      "text/plain": [
       "True"
      ]
     },
     "execution_count": 2,
     "metadata": {},
     "output_type": "execute_result"
    }
   ],
   "source": [
    "n = '3'\n",
    "n == '3'"
   ]
  },
  {
   "cell_type": "code",
   "execution_count": 3,
   "metadata": {
    "collapsed": true
   },
   "outputs": [],
   "source": [
    "import re\n",
    "#re.match: 需要字串百分之百跟規則相符\n",
    "#re.search: 需要字串部分內容跟規則相符"
   ]
  },
  {
   "cell_type": "code",
   "execution_count": 4,
   "metadata": {},
   "outputs": [
    {
     "data": {
      "text/plain": [
       "<_sre.SRE_Match object; span=(0, 1), match='3'>"
      ]
     },
     "execution_count": 4,
     "metadata": {},
     "output_type": "execute_result"
    }
   ],
   "source": [
    "n = '3'\n",
    "import re\n",
    "re.match('3', n)"
   ]
  },
  {
   "cell_type": "code",
   "execution_count": 5,
   "metadata": {
    "collapsed": true
   },
   "outputs": [],
   "source": [
    "re.match('5', n)"
   ]
  },
  {
   "cell_type": "markdown",
   "metadata": {},
   "source": [
    "### 數字比對"
   ]
  },
  {
   "cell_type": "code",
   "execution_count": 8,
   "metadata": {},
   "outputs": [
    {
     "data": {
      "text/plain": [
       "<_sre.SRE_Match object; span=(0, 1), match='3'>"
      ]
     },
     "execution_count": 8,
     "metadata": {},
     "output_type": "execute_result"
    }
   ],
   "source": [
    "# [] : 比對 [] 內的任意字元\n",
    "re.match('[0123456789]', n)\n",
    "\n",
    "# - : 連續\n",
    "re.match('[0-9]', n) #[0123456789] => [0-9]\n",
    "\n",
    "# \\d : 比對數字\n",
    "re.match('\\d', n) # [0-9] => \\d"
   ]
  },
  {
   "cell_type": "code",
   "execution_count": 10,
   "metadata": {},
   "outputs": [
    {
     "name": "stdout",
     "output_type": "stream",
     "text": [
      "None\n"
     ]
    }
   ],
   "source": [
    "s = 'w'\n",
    "print(re.match('\\d', s))"
   ]
  },
  {
   "cell_type": "markdown",
   "metadata": {},
   "source": [
    "### 比對文字"
   ]
  },
  {
   "cell_type": "code",
   "execution_count": 12,
   "metadata": {},
   "outputs": [
    {
     "data": {
      "text/plain": [
       "<_sre.SRE_Match object; span=(0, 1), match='w'>"
      ]
     },
     "execution_count": 12,
     "metadata": {},
     "output_type": "execute_result"
    }
   ],
   "source": [
    "# [] : 比對 [] 內的任意字元\n",
    "s = 'w'\n",
    "re.match('[abcdefghijklmnopqrstuvwxyz]',s)\n",
    "\n",
    "# - : 連續\n",
    "re.match('[a-z]', s) # [abcdefghijklmnopqrstuvwxyz] => [a-z]"
   ]
  },
  {
   "cell_type": "code",
   "execution_count": 13,
   "metadata": {
    "collapsed": true
   },
   "outputs": [],
   "source": [
    "s= 'A'\n",
    "re.match('[a-z]', s)"
   ]
  },
  {
   "cell_type": "code",
   "execution_count": 14,
   "metadata": {},
   "outputs": [
    {
     "data": {
      "text/plain": [
       "<_sre.SRE_Match object; span=(0, 1), match='A'>"
      ]
     },
     "execution_count": 14,
     "metadata": {},
     "output_type": "execute_result"
    }
   ],
   "source": [
    "s= 'A'\n",
    "re.match('[a-zA-Z]', s)"
   ]
  },
  {
   "cell_type": "code",
   "execution_count": 15,
   "metadata": {
    "collapsed": true
   },
   "outputs": [],
   "source": [
    "s= '7'\n",
    "re.match('[a-zA-Z]', s)"
   ]
  },
  {
   "cell_type": "code",
   "execution_count": 17,
   "metadata": {},
   "outputs": [
    {
     "data": {
      "text/plain": [
       "<_sre.SRE_Match object; span=(0, 1), match='7'>"
      ]
     },
     "execution_count": 17,
     "metadata": {},
     "output_type": "execute_result"
    }
   ],
   "source": [
    "s= '7'\n",
    "re.match('[a-zA-Z0-9]', s)"
   ]
  },
  {
   "cell_type": "code",
   "execution_count": 16,
   "metadata": {},
   "outputs": [
    {
     "data": {
      "text/plain": [
       "<_sre.SRE_Match object; span=(0, 1), match='7'>"
      ]
     },
     "execution_count": 16,
     "metadata": {},
     "output_type": "execute_result"
    }
   ],
   "source": [
    "# \\w 比對任意英文字元或是數字\n",
    "s = '7'\n",
    "re.match('\\w', s) # [a-zA-Z0-9] => \\w"
   ]
  },
  {
   "cell_type": "code",
   "execution_count": 18,
   "metadata": {},
   "outputs": [
    {
     "data": {
      "text/plain": [
       "<_sre.SRE_Match object; span=(0, 1), match='i'>"
      ]
     },
     "execution_count": 18,
     "metadata": {},
     "output_type": "execute_result"
    }
   ],
   "source": [
    "s = 'iphone'\n",
    "re.match('\\w', s)"
   ]
  },
  {
   "cell_type": "markdown",
   "metadata": {},
   "source": [
    "### 比對多個字元"
   ]
  },
  {
   "cell_type": "code",
   "execution_count": 20,
   "metadata": {},
   "outputs": [
    {
     "data": {
      "text/plain": [
       "<_sre.SRE_Match object; span=(0, 6), match='iphone'>"
      ]
     },
     "execution_count": 20,
     "metadata": {},
     "output_type": "execute_result"
    }
   ],
   "source": [
    "s = 'iphone'\n",
    "re.match('\\w\\w\\w\\w\\w\\w', s)"
   ]
  },
  {
   "cell_type": "code",
   "execution_count": 21,
   "metadata": {},
   "outputs": [
    {
     "data": {
      "text/plain": [
       "<_sre.SRE_Match object; span=(0, 6), match='iphone'>"
      ]
     },
     "execution_count": 21,
     "metadata": {},
     "output_type": "execute_result"
    }
   ],
   "source": [
    "# {n}: 比對 n 個字元  \n",
    "re.match('\\w{6}', s) # \\w\\w\\w\\w\\w\\w => \\w{6}"
   ]
  },
  {
   "cell_type": "code",
   "execution_count": 24,
   "metadata": {},
   "outputs": [
    {
     "data": {
      "text/plain": [
       "<_sre.SRE_Match object; span=(0, 6), match='Iphone'>"
      ]
     },
     "execution_count": 24,
     "metadata": {},
     "output_type": "execute_result"
    }
   ],
   "source": [
    "s = 'IphoneX'\n",
    "re.match('\\w{6}', s) \n",
    "\n",
    "s = 'Iphone4S'\n",
    "re.match('\\w{6}', s) "
   ]
  },
  {
   "cell_type": "code",
   "execution_count": 27,
   "metadata": {},
   "outputs": [
    {
     "data": {
      "text/plain": [
       "<_sre.SRE_Match object; span=(0, 9), match='Iphone3GS'>"
      ]
     },
     "execution_count": 27,
     "metadata": {},
     "output_type": "execute_result"
    }
   ],
   "source": [
    "# {m,n}: 比對至少m 個字元, 至多n 個字元\n",
    "s = 'Iphone3GS'\n",
    "re.match('\\w{6,9}', s) "
   ]
  },
  {
   "cell_type": "code",
   "execution_count": 29,
   "metadata": {},
   "outputs": [
    {
     "data": {
      "text/plain": [
       "<_sre.SRE_Match object; span=(0, 6), match='Iphone'>"
      ]
     },
     "execution_count": 29,
     "metadata": {},
     "output_type": "execute_result"
    }
   ],
   "source": [
    "# {m,}: 比對至少m 個字元, 至多 未知數量字元\n",
    "s = 'IphoneTimCook'\n",
    "re.match('\\w{6,}', s) \n",
    "\n",
    "# {,n}: 比對至少未知數量字元, 至多n 個字元\n",
    "re.match('\\w{,6}', s) "
   ]
  },
  {
   "cell_type": "code",
   "execution_count": 31,
   "metadata": {},
   "outputs": [
    {
     "data": {
      "text/plain": [
       "<_sre.SRE_Match object; span=(0, 0), match=''>"
      ]
     },
     "execution_count": 31,
     "metadata": {},
     "output_type": "execute_result"
    }
   ],
   "source": [
    "# {0,} :  比對 0 個以上的字元\n",
    "s = ''\n",
    "re.match('\\w{0,}', s) \n",
    "\n",
    "# * : 比對 0 個以上的字元\n",
    "re.match('\\w*', s) # \\w{0,} => \\w*"
   ]
  },
  {
   "cell_type": "code",
   "execution_count": 35,
   "metadata": {},
   "outputs": [
    {
     "data": {
      "text/plain": [
       "<_sre.SRE_Match object; span=(0, 7), match='IphoneX'>"
      ]
     },
     "execution_count": 35,
     "metadata": {},
     "output_type": "execute_result"
    }
   ],
   "source": [
    "# {1,} :  比對 1 個以上的字元\n",
    "s = 'IphoneX'\n",
    "re.match('\\w{1,}', s) \n",
    "\n",
    "# + : 比對 1 個以上的字元\n",
    "re.match('\\w+', s) # \\w{1,} => \\w+"
   ]
  },
  {
   "cell_type": "markdown",
   "metadata": {},
   "source": [
    "### 比對電話號碼 (手機)"
   ]
  },
  {
   "cell_type": "code",
   "execution_count": null,
   "metadata": {
    "collapsed": true
   },
   "outputs": [],
   "source": []
  },
  {
   "cell_type": "code",
   "execution_count": 37,
   "metadata": {},
   "outputs": [
    {
     "name": "stdout",
     "output_type": "stream",
     "text": [
      "0 0912345678\n",
      "1 0222133333\n",
      "2 0912-345-678\n",
      "3 0912-345678\n",
      "4 09129381290890235839582390\n"
     ]
    }
   ],
   "source": [
    "phones = ['0912345678', '0222133333', '0912-345-678', \\\n",
    "          '0912-345678', '09129381290890235839582390']\n",
    "\n",
    "for idx,p in enumerate(phones):\n",
    "    print(idx,p)"
   ]
  },
  {
   "cell_type": "code",
   "execution_count": 45,
   "metadata": {},
   "outputs": [
    {
     "name": "stdout",
     "output_type": "stream",
     "text": [
      "0 <_sre.SRE_Match object; span=(0, 10), match='0912345678'>\n",
      "1 None\n",
      "2 <_sre.SRE_Match object; span=(0, 12), match='0912-345-678'>\n",
      "3 <_sre.SRE_Match object; span=(0, 11), match='0912-345678'>\n",
      "4 None\n"
     ]
    }
   ],
   "source": [
    "for idx,p in enumerate(phones):\n",
    "    #print(idx, re.match('\\d{10}', p) )\n",
    "    #print(idx, re.match('09\\d{8}', p) )\n",
    "    \n",
    "    #print(idx, re.match('09\\d{2}-{0,1}\\d{3}-{0,1}\\d{3}', p) )\n",
    "    #print(idx, re.match('09\\d{2}-?\\d{3}-?\\d{3}', p) ) # {0,1} => ?\n",
    "    \n",
    "    # ^ : 比對字串的開端, $: 比對字串的結尾\n",
    "    print(idx, re.match('^09\\d{2}-?\\d{3}-?\\d{3}$', p) )"
   ]
  },
  {
   "cell_type": "code",
   "execution_count": 49,
   "metadata": {},
   "outputs": [
    {
     "data": {
      "text/plain": [
       "'0935492641'"
      ]
     },
     "execution_count": 49,
     "metadata": {},
     "output_type": "execute_result"
    }
   ],
   "source": [
    "article = '''\n",
    "※ 引述《wasd (運動去了)》之銘言：\n",
    ": 上次同學會有很些人都沒去\n",
    ": 所以要不要請沒去的人PO個聯絡方式\n",
    ": 就這樣.......\n",
    "致光    0935492641      msn:ddm702@hotmail.com\n",
    "'''\n",
    "\n",
    "m = re.search('09\\d{2}-?\\d{3}-?\\d{3}', article)\n",
    "m.group(0)"
   ]
  },
  {
   "cell_type": "markdown",
   "metadata": {},
   "source": [
    "### Enumerate"
   ]
  },
  {
   "cell_type": "code",
   "execution_count": 40,
   "metadata": {},
   "outputs": [
    {
     "name": "stdout",
     "output_type": "stream",
     "text": [
      "0 4\n",
      "1 5\n",
      "2 7\n",
      "3 1\n",
      "4 2\n",
      "================\n",
      "0 4\n",
      "1 5\n",
      "2 7\n",
      "3 1\n",
      "4 2\n"
     ]
    }
   ],
   "source": [
    "a = [4,5,7,1,2]\n",
    "cnt = 0\n",
    "for ele in a:\n",
    "    print(cnt, ele)\n",
    "    cnt = cnt + 1\n",
    "print('================')\n",
    "for cnt, ele in enumerate(a):\n",
    "    print(cnt,ele)"
   ]
  },
  {
   "cell_type": "markdown",
   "metadata": {},
   "source": [
    "### 正規表達法範例"
   ]
  },
  {
   "cell_type": "code",
   "execution_count": 54,
   "metadata": {},
   "outputs": [
    {
     "data": {
      "text/plain": [
       "<_sre.SRE_Match object; span=(0, 16), match='david@largitdata'>"
      ]
     },
     "execution_count": 54,
     "metadata": {},
     "output_type": "execute_result"
    }
   ],
   "source": [
    "email = 'david@largitdata.com'\n",
    "\n",
    "import re\n",
    "re.search('\\w+@\\w+', email)"
   ]
  },
  {
   "cell_type": "code",
   "execution_count": 57,
   "metadata": {},
   "outputs": [
    {
     "data": {
      "text/plain": [
       "<_sre.SRE_Match object; span=(0, 20), match='david@largitdata.com'>"
      ]
     },
     "execution_count": 57,
     "metadata": {},
     "output_type": "execute_result"
    }
   ],
   "source": [
    "# 包含 . , [\\w\\.] \n",
    "re.search('\\w+@[\\w\\.]+', email)\n",
    "\n",
    "\n",
    "#  . : 比對任意符號\n",
    "# \\. : 比對單純句號\n",
    "# \\ : escape, 讓特殊字元跳脫原本的意義, 以單純字串表示規則\n",
    "re.search('\\w+@.+', email)"
   ]
  },
  {
   "cell_type": "code",
   "execution_count": 61,
   "metadata": {},
   "outputs": [
    {
     "name": "stdout",
     "output_type": "stream",
     "text": [
      "('david', 'largitdata.com')\n",
      "david@largitdata.com\n",
      "david\n",
      "largitdata.com\n"
     ]
    }
   ],
   "source": [
    "# () : 表示群組\n",
    "m = re.search('(\\w+)@(.+)', email)\n",
    "print(m.groups())\n",
    "print(m.group(0)) # group(0) : 把所有比對到的字串印出\n",
    "print(m.group(1)) # group(1) : 把比對到的第一個群組字串印出\n",
    "print(m.group(2)) # group(2) : 把比對到的第二個群組字串印出"
   ]
  },
  {
   "cell_type": "code",
   "execution_count": 65,
   "metadata": {},
   "outputs": [
    {
     "name": "stdout",
     "output_type": "stream",
     "text": [
      "('1999', '5')\n",
      "1999.5\n",
      "1999\n",
      "5\n"
     ]
    }
   ],
   "source": [
    "s = '1999.5'\n",
    "m = re.search('(\\d+)\\.(\\d+)', s)\n",
    "print(m.groups())\n",
    "print(m.group(0))\n",
    "print(m.group(1))\n",
    "print(m.group(2))"
   ]
  },
  {
   "cell_type": "code",
   "execution_count": 76,
   "metadata": {},
   "outputs": [
    {
     "name": "stdout",
     "output_type": "stream",
     "text": [
      "0 ('david', 'largitdata.', 'com')\n",
      "1 ('david', 'largitdata.', 'com.tw')\n",
      "2 ('david', 'largitdata.', 'org.tw')\n"
     ]
    }
   ],
   "source": [
    "s = ['david@largitdata.com', \\\n",
    "     'david@largitdata.com.tw', \\\n",
    "     'david@largitdata.org.tw']\n",
    "for idx, ele in enumerate(s):\n",
    "    m = re.search('(\\w+)@([\\w\\.]+)(com?[\\w\\.]+|org?[\\w\\.]+)', ele)\n",
    "    print(idx, m.groups())"
   ]
  },
  {
   "cell_type": "code",
   "execution_count": 86,
   "metadata": {},
   "outputs": [
    {
     "name": "stdout",
     "output_type": "stream",
     "text": [
      "largitdata com\n",
      "largitdata com.tw\n",
      "largitdata org.tw\n"
     ]
    }
   ],
   "source": [
    "for idx, ele in enumerate(s):\n",
    "    m = re.search('(\\w+)@([\\w\\.]+)', ele)\n",
    "    dns = m.group(2).split('.')\n",
    "    print(dns[0],'.'.join(dns[1:]))"
   ]
  },
  {
   "cell_type": "code",
   "execution_count": 90,
   "metadata": {},
   "outputs": [
    {
     "name": "stdout",
     "output_type": "stream",
     "text": [
      "0912345678\n"
     ]
    }
   ],
   "source": [
    "email = '\\w+@[\\w.]+'\n",
    "phone = '09\\d{2}-?\\d{3}-?\\d{3}'\n",
    "\n",
    "s= '0912345678'\n",
    "e = re.match(email, s)\n",
    "p = re.match(phone, s)\n",
    "\n",
    "if e or p:\n",
    "    print(s)"
   ]
  },
  {
   "cell_type": "code",
   "execution_count": 92,
   "metadata": {},
   "outputs": [
    {
     "name": "stdout",
     "output_type": "stream",
     "text": [
      "David\n",
      "Chiu\n"
     ]
    }
   ],
   "source": [
    "m=re.match(\"(\\w+) (\\w+)\",\"David Chiu\")\n",
    "print(m.group(1))\n",
    "print(m.group(2))\n"
   ]
  },
  {
   "cell_type": "code",
   "execution_count": 93,
   "metadata": {},
   "outputs": [
    {
     "name": "stdout",
     "output_type": "stream",
     "text": [
      "David Chiu\n"
     ]
    }
   ],
   "source": [
    "m=re.match(\"(?P<first_name>\\w+) (?P<last_name>\\w+)\",\"David Chiu\")\n",
    "\n",
    "print(m.group('first_name'),m.group('last_name'))"
   ]
  },
  {
   "cell_type": "code",
   "execution_count": 95,
   "metadata": {},
   "outputs": [
    {
     "name": "stdout",
     "output_type": "stream",
     "text": [
      "file.txt root 10.0.0.1 ./\n"
     ]
    }
   ],
   "source": [
    "str1='scp file.txt root@10.0.0.1:./'\n",
    "m = re.search('^scp ([\\w\\.]+) (\\w+)@([\\d.]+):(.+)', str1)\n",
    "filename =  m.group(1)\n",
    "acctname =  m.group(2)\n",
    "ipaddr   =  m.group(3)\n",
    "filepath =  m.group(4)\n",
    "\n",
    "print(filename, acctname, ipaddr, filepath)"
   ]
  },
  {
   "cell_type": "markdown",
   "metadata": {},
   "source": [
    "### 將正規表達法應用在Pandas 上"
   ]
  },
  {
   "cell_type": "code",
   "execution_count": 98,
   "metadata": {
    "collapsed": true
   },
   "outputs": [],
   "source": [
    "import pandas\n",
    "house = pandas.read_csv('https://raw.githubusercontent.com/ywchiu/tibamepy/master/data/rent_591_sample.csv', index_col=0)"
   ]
  },
  {
   "cell_type": "code",
   "execution_count": 105,
   "metadata": {},
   "outputs": [
    {
     "name": "stderr",
     "output_type": "stream",
     "text": [
      "C:\\ProgramData\\Anaconda3\\lib\\site-packages\\ipykernel_launcher.py:1: FutureWarning: currently extract(expand=None) means expand=False (return Index/Series/DataFrame) but in a future version of pandas this will be changed to expand=True (return DataFrame)\n",
      "  \"\"\"Entry point for launching an IPython kernel.\n"
     ]
    },
    {
     "data": {
      "text/html": [
       "<div>\n",
       "<style>\n",
       "    .dataframe thead tr:only-child th {\n",
       "        text-align: right;\n",
       "    }\n",
       "\n",
       "    .dataframe thead th {\n",
       "        text-align: left;\n",
       "    }\n",
       "\n",
       "    .dataframe tbody tr th {\n",
       "        vertical-align: top;\n",
       "    }\n",
       "</style>\n",
       "<table border=\"1\" class=\"dataframe\">\n",
       "  <thead>\n",
       "    <tr style=\"text-align: right;\">\n",
       "      <th></th>\n",
       "      <th>0</th>\n",
       "      <th>1</th>\n",
       "      <th>2</th>\n",
       "    </tr>\n",
       "  </thead>\n",
       "  <tbody>\n",
       "    <tr>\n",
       "      <th>0</th>\n",
       "      <td>5</td>\n",
       "      <td>3</td>\n",
       "      <td>3</td>\n",
       "    </tr>\n",
       "    <tr>\n",
       "      <th>1</th>\n",
       "      <td>4</td>\n",
       "      <td>2</td>\n",
       "      <td>2</td>\n",
       "    </tr>\n",
       "    <tr>\n",
       "      <th>2</th>\n",
       "      <td>4</td>\n",
       "      <td>2</td>\n",
       "      <td>2</td>\n",
       "    </tr>\n",
       "    <tr>\n",
       "      <th>3</th>\n",
       "      <td>2</td>\n",
       "      <td>1</td>\n",
       "      <td>1</td>\n",
       "    </tr>\n",
       "    <tr>\n",
       "      <th>4</th>\n",
       "      <td>2</td>\n",
       "      <td>2</td>\n",
       "      <td>1</td>\n",
       "    </tr>\n",
       "  </tbody>\n",
       "</table>\n",
       "</div>"
      ],
      "text/plain": [
       "   0  1  2\n",
       "0  5  3  3\n",
       "1  4  2  2\n",
       "2  4  2  2\n",
       "3  2  1  1\n",
       "4  2  2  1"
      ]
     },
     "execution_count": 105,
     "metadata": {},
     "output_type": "execute_result"
    }
   ],
   "source": [
    "house['layout'].str.extract('(\\d+)房(\\d+)廳(\\d+)衛').head()"
   ]
  },
  {
   "cell_type": "code",
   "execution_count": 106,
   "metadata": {},
   "outputs": [
    {
     "name": "stderr",
     "output_type": "stream",
     "text": [
      "C:\\ProgramData\\Anaconda3\\lib\\site-packages\\ipykernel_launcher.py:1: FutureWarning: currently extract(expand=None) means expand=False (return Index/Series/DataFrame) but in a future version of pandas this will be changed to expand=True (return DataFrame)\n",
      "  \"\"\"Entry point for launching an IPython kernel.\n"
     ]
    }
   ],
   "source": [
    "house[['bedroom', 'livinroom', 'bathroom']] = house['layout'].str.extract('(\\d+)房(\\d+)廳(\\d+)衛')"
   ]
  },
  {
   "cell_type": "code",
   "execution_count": 110,
   "metadata": {},
   "outputs": [],
   "source": [
    "house['full_address'] = '台北市大安區' + house['address']"
   ]
  },
  {
   "cell_type": "code",
   "execution_count": 115,
   "metadata": {},
   "outputs": [
    {
     "name": "stderr",
     "output_type": "stream",
     "text": [
      "C:\\ProgramData\\Anaconda3\\lib\\site-packages\\ipykernel_launcher.py:1: FutureWarning: currently extract(expand=None) means expand=False (return Index/Series/DataFrame) but in a future version of pandas this will be changed to expand=True (return DataFrame)\n",
      "  \"\"\"Entry point for launching an IPython kernel.\n"
     ]
    }
   ],
   "source": [
    "house[['city', 'area', 'road']] = house['full_address'].str.extract('(.+[市|縣])(.+區)(.+?[街|路])')"
   ]
  },
  {
   "cell_type": "code",
   "execution_count": 116,
   "metadata": {},
   "outputs": [
    {
     "data": {
      "text/html": [
       "<div>\n",
       "<style>\n",
       "    .dataframe thead tr:only-child th {\n",
       "        text-align: right;\n",
       "    }\n",
       "\n",
       "    .dataframe thead th {\n",
       "        text-align: left;\n",
       "    }\n",
       "\n",
       "    .dataframe tbody tr th {\n",
       "        vertical-align: top;\n",
       "    }\n",
       "</style>\n",
       "<table border=\"1\" class=\"dataframe\">\n",
       "  <thead>\n",
       "    <tr style=\"text-align: right;\">\n",
       "      <th></th>\n",
       "      <th>id</th>\n",
       "      <th>address</th>\n",
       "      <th>floor</th>\n",
       "      <th>allfloor</th>\n",
       "      <th>layout</th>\n",
       "      <th>area</th>\n",
       "      <th>price</th>\n",
       "      <th>browsenum_all</th>\n",
       "      <th>bedroom</th>\n",
       "      <th>livinroom</th>\n",
       "      <th>bathroom</th>\n",
       "      <th>full_address</th>\n",
       "      <th>city</th>\n",
       "      <th>road</th>\n",
       "    </tr>\n",
       "  </thead>\n",
       "  <tbody>\n",
       "    <tr>\n",
       "      <th>0</th>\n",
       "      <td>6032971</td>\n",
       "      <td>永康街47巷永康街五樓頂加..</td>\n",
       "      <td>5</td>\n",
       "      <td>5</td>\n",
       "      <td>5房3廳3衛</td>\n",
       "      <td>大安區</td>\n",
       "      <td>60,000</td>\n",
       "      <td>751</td>\n",
       "      <td>5</td>\n",
       "      <td>3</td>\n",
       "      <td>3</td>\n",
       "      <td>台北市大安區永康街47巷永康街五樓頂加..</td>\n",
       "      <td>台北市</td>\n",
       "      <td>永康街</td>\n",
       "    </tr>\n",
       "    <tr>\n",
       "      <th>1</th>\n",
       "      <td>6054083</td>\n",
       "      <td>仁愛路四段仁愛路樹海景觀..</td>\n",
       "      <td>7</td>\n",
       "      <td>12</td>\n",
       "      <td>4房2廳2衛</td>\n",
       "      <td>大安區</td>\n",
       "      <td>100,000</td>\n",
       "      <td>162</td>\n",
       "      <td>4</td>\n",
       "      <td>2</td>\n",
       "      <td>2</td>\n",
       "      <td>台北市大安區仁愛路四段仁愛路樹海景觀..</td>\n",
       "      <td>台北市</td>\n",
       "      <td>仁愛路</td>\n",
       "    </tr>\n",
       "    <tr>\n",
       "      <th>2</th>\n",
       "      <td>5957980</td>\n",
       "      <td>光復南路高樓層大巨蛋正對..</td>\n",
       "      <td>10</td>\n",
       "      <td>13</td>\n",
       "      <td>4房2廳2衛</td>\n",
       "      <td>大安區</td>\n",
       "      <td>150,000</td>\n",
       "      <td>2385</td>\n",
       "      <td>4</td>\n",
       "      <td>2</td>\n",
       "      <td>2</td>\n",
       "      <td>台北市大安區光復南路高樓層大巨蛋正對..</td>\n",
       "      <td>台北市</td>\n",
       "      <td>光復南路</td>\n",
       "    </tr>\n",
       "    <tr>\n",
       "      <th>3</th>\n",
       "      <td>6043839</td>\n",
       "      <td>永康街23巷永康商圈..</td>\n",
       "      <td>3</td>\n",
       "      <td>4</td>\n",
       "      <td>2房1廳1衛</td>\n",
       "      <td>大安區</td>\n",
       "      <td>29,000</td>\n",
       "      <td>1323</td>\n",
       "      <td>2</td>\n",
       "      <td>1</td>\n",
       "      <td>1</td>\n",
       "      <td>台北市大安區永康街23巷永康商圈..</td>\n",
       "      <td>台北市</td>\n",
       "      <td>永康街</td>\n",
       "    </tr>\n",
       "    <tr>\n",
       "      <th>4</th>\n",
       "      <td>5181793</td>\n",
       "      <td>雲和街師大*已收訂..</td>\n",
       "      <td>5</td>\n",
       "      <td>5</td>\n",
       "      <td>2房2廳1衛</td>\n",
       "      <td>大安區</td>\n",
       "      <td>31,800</td>\n",
       "      <td>2303</td>\n",
       "      <td>2</td>\n",
       "      <td>2</td>\n",
       "      <td>1</td>\n",
       "      <td>台北市大安區雲和街師大*已收訂..</td>\n",
       "      <td>台北市</td>\n",
       "      <td>雲和街</td>\n",
       "    </tr>\n",
       "  </tbody>\n",
       "</table>\n",
       "</div>"
      ],
      "text/plain": [
       "        id          address  floor  allfloor  layout area    price  \\\n",
       "0  6032971  永康街47巷永康街五樓頂加..      5         5  5房3廳3衛  大安區   60,000   \n",
       "1  6054083   仁愛路四段仁愛路樹海景觀..      7        12  4房2廳2衛  大安區  100,000   \n",
       "2  5957980   光復南路高樓層大巨蛋正對..     10        13  4房2廳2衛  大安區  150,000   \n",
       "3  6043839     永康街23巷永康商圈..      3         4  2房1廳1衛  大安區   29,000   \n",
       "4  5181793      雲和街師大*已收訂..      5         5  2房2廳1衛  大安區   31,800   \n",
       "\n",
       "   browsenum_all bedroom livinroom bathroom           full_address city  road  \n",
       "0            751       5         3        3  台北市大安區永康街47巷永康街五樓頂加..  台北市   永康街  \n",
       "1            162       4         2        2   台北市大安區仁愛路四段仁愛路樹海景觀..  台北市   仁愛路  \n",
       "2           2385       4         2        2   台北市大安區光復南路高樓層大巨蛋正對..  台北市  光復南路  \n",
       "3           1323       2         1        1     台北市大安區永康街23巷永康商圈..  台北市   永康街  \n",
       "4           2303       2         2        1      台北市大安區雲和街師大*已收訂..  台北市   雲和街  "
      ]
     },
     "execution_count": 116,
     "metadata": {},
     "output_type": "execute_result"
    }
   ],
   "source": [
    "house.head()"
   ]
  },
  {
   "cell_type": "markdown",
   "metadata": {},
   "source": [
    "## 抓取PDF 資料案例"
   ]
  },
  {
   "cell_type": "code",
   "execution_count": 117,
   "metadata": {
    "collapsed": true
   },
   "outputs": [],
   "source": [
    "import requests\n",
    "res = requests.get('http://doc.twse.com.tw/pdf/201701_2330_AI1_20180224_120208.pdf')\n",
    "with open('2330.pdf', 'wb') as f:\n",
    "    f.write(res.content)"
   ]
  },
  {
   "cell_type": "code",
   "execution_count": 119,
   "metadata": {},
   "outputs": [
    {
     "name": "stdout",
     "output_type": "stream",
     "text": [
      "Collecting pdfminer3k\n",
      "  Downloading pdfminer3k-1.3.1.tar.gz (4.1MB)\n",
      "Requirement already satisfied: pytest>=2.0 in c:\\programdata\\anaconda3\\lib\\site-packages (from pdfminer3k)\n",
      "Requirement already satisfied: ply>=3.4 in c:\\programdata\\anaconda3\\lib\\site-packages (from pdfminer3k)\n",
      "Requirement already satisfied: py>=1.4.33 in c:\\programdata\\anaconda3\\lib\\site-packages (from pytest>=2.0->pdfminer3k)\n",
      "Requirement already satisfied: setuptools in c:\\programdata\\anaconda3\\lib\\site-packages (from pytest>=2.0->pdfminer3k)\n",
      "Requirement already satisfied: colorama in c:\\programdata\\anaconda3\\lib\\site-packages (from pytest>=2.0->pdfminer3k)\n",
      "Building wheels for collected packages: pdfminer3k\n",
      "  Running setup.py bdist_wheel for pdfminer3k: started\n",
      "  Running setup.py bdist_wheel for pdfminer3k: finished with status 'done'\n",
      "  Stored in directory: C:\\Users\\USER\\AppData\\Local\\pip\\Cache\\wheels\\cd\\84\\67\\3eb20c984d51d38db1ca65ecba0d866407f46d8b3a9e72f7b2\n",
      "Successfully built pdfminer3k\n",
      "Installing collected packages: pdfminer3k\n",
      "Successfully installed pdfminer3k-1.3.1\n"
     ]
    }
   ],
   "source": [
    "! pip install pdfminer3k"
   ]
  },
  {
   "cell_type": "code",
   "execution_count": 120,
   "metadata": {},
   "outputs": [
    {
     "name": "stderr",
     "output_type": "stream",
     "text": [
      "WARNING:pdfminer.layout:Too many boxes (139) to group, skipping.\n",
      "WARNING:pdfminer.layout:Too many boxes (101) to group, skipping.\n"
     ]
    }
   ],
   "source": [
    "from pdfminer.pdfparser import PDFParser, PDFDocument\n",
    "from pdfminer.pdfinterp import PDFResourceManager, PDFPageInterpreter\n",
    "from pdfminer.converter import PDFPageAggregator\n",
    "from pdfminer.layout import LAParams, LTTextBox, LTTextLine\n",
    "\n",
    "s = ''\n",
    "fp = open('2330.pdf', 'rb')\n",
    "parser = PDFParser(fp)\n",
    "doc    = PDFDocument()\n",
    "parser.set_document(doc)\n",
    "doc.set_parser(parser)\n",
    "doc.initialize('')\n",
    "rsrcmgr = PDFResourceManager()\n",
    "laparams = LAParams()\n",
    "device = PDFPageAggregator(rsrcmgr, laparams=laparams)\n",
    "interpreter = PDFPageInterpreter(rsrcmgr, device)\n",
    "# Process each page contained in the document.\n",
    "for page in doc.get_pages():\n",
    "    interpreter.process_page(page)\n",
    "    layout = device.get_result()\n",
    "    for lt_obj in layout:\n",
    "        if isinstance(lt_obj, LTTextBox) or isinstance(lt_obj, LTTextLine):\n",
    "            s = s + lt_obj.get_text()"
   ]
  },
  {
   "cell_type": "code",
   "execution_count": 140,
   "metadata": {},
   "outputs": [
    {
     "data": {
      "text/plain": [
       "[('本公司', 57),\n",
       " ('台積公司', 14),\n",
       " ('持有之公司', 13),\n",
       " ('台灣積體電路製造股份有限公司', 12),\n",
       " ('世界先進公司', 5),\n",
       " ('應付公司', 5),\n",
       " ('精材公司', 3),\n",
       " ('創意公司', 3),\n",
       " ('母子公司', 3),\n",
       " ('投資公司', 2)]"
      ]
     },
     "execution_count": 140,
     "metadata": {},
     "output_type": "execute_result"
    }
   ],
   "source": [
    "import re\n",
    "from collections import Counter\n",
    "sentenses = re.split('，|：|。|（|）|/|\\n', s)\n",
    "#re.findall('.{3} 公 司',s)\n",
    "company_ary = []\n",
    "for sentence in sentenses:\n",
    "    phrase = ''.join(sentence.split())\n",
    "    m = re.search('.+?公司',phrase)\n",
    "    if m:\n",
    "        company_ary.append(m.group(0))\n",
    "c = Counter(company_ary)\n",
    "c.most_common(10)"
   ]
  }
 ],
 "metadata": {
  "kernelspec": {
   "display_name": "Python 3",
   "language": "python",
   "name": "python3"
  },
  "language_info": {
   "codemirror_mode": {
    "name": "ipython",
    "version": 3
   },
   "file_extension": ".py",
   "mimetype": "text/x-python",
   "name": "python",
   "nbconvert_exporter": "python",
   "pygments_lexer": "ipython3",
   "version": "3.6.3"
  }
 },
 "nbformat": 4,
 "nbformat_minor": 2
}
