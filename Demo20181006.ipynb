{
 "cells": [
  {
   "cell_type": "markdown",
   "metadata": {},
   "source": [
    "## 自由時報爬蟲"
   ]
  },
  {
   "cell_type": "code",
   "execution_count": 1,
   "metadata": {},
   "outputs": [
    {
     "data": {
      "text/plain": [
       "<Response [200]>"
      ]
     },
     "execution_count": 1,
     "metadata": {},
     "output_type": "execute_result"
    }
   ],
   "source": [
    "import requests\n",
    "res = requests.get('http://news.ltn.com.tw/list/breakingnews')\n",
    "res"
   ]
  },
  {
   "cell_type": "code",
   "execution_count": 3,
   "metadata": {},
   "outputs": [],
   "source": [
    "#res.text"
   ]
  },
  {
   "cell_type": "code",
   "execution_count": 4,
   "metadata": {},
   "outputs": [],
   "source": [
    "from bs4 import BeautifulSoup\n",
    "soup = BeautifulSoup(res.text, 'lxml')"
   ]
  },
  {
   "cell_type": "markdown",
   "metadata": {},
   "source": [
    "### Example\n",
    "````\n",
    "<ul class=\"list imm\">\n",
    "<li>...</li>\n",
    "</ul>\n",
    "\n",
    "````\n",
    "\n",
    "#### CSS Selector\n",
    "- http://www.w3school.com.cn/css/css_selector_attribute.asp"
   ]
  },
  {
   "cell_type": "code",
   "execution_count": 8,
   "metadata": {},
   "outputs": [],
   "source": [
    "#soup.select('ul.list.imm li')\n",
    "#soup.select('ul.imm li')\n",
    "#soup.select('.imm li')"
   ]
  },
  {
   "cell_type": "code",
   "execution_count": 28,
   "metadata": {},
   "outputs": [],
   "source": [
    "newsary = []\n",
    "for news in soup.select('.imm li'):\n",
    "    #print(news)\n",
    "    title = news.select_one('.tit p').text.strip()\n",
    "    dt    = news.select_one('.tit span').text.strip()\n",
    "    link  = news.select_one('a.tit').get('href')\n",
    "    #category = news.select('.tagarea a')\n",
    "    #tag_ary = []\n",
    "    #for c in category:\n",
    "    #    tag_ary.append(c.text)\n",
    "    category = ','.join([c.text for c in news.select('.tagarea a')])\n",
    "    \n",
    "    newsdic = {'title':title, 'dt':dt, 'link':link, 'category':category}\n",
    "    newsary.append(newsdic)\n",
    "    #print('==========================')"
   ]
  },
  {
   "cell_type": "code",
   "execution_count": 30,
   "metadata": {},
   "outputs": [],
   "source": [
    "import pandas\n",
    "df = pandas.DataFrame(newsary)"
   ]
  },
  {
   "cell_type": "code",
   "execution_count": 32,
   "metadata": {},
   "outputs": [],
   "source": [
    "df.to_excel('ltn_news.xlsx')"
   ]
  },
  {
   "cell_type": "code",
   "execution_count": null,
   "metadata": {},
   "outputs": [],
   "source": []
  }
 ],
 "metadata": {
  "kernelspec": {
   "display_name": "Python 3",
   "language": "python",
   "name": "python3"
  },
  "language_info": {
   "codemirror_mode": {
    "name": "ipython",
    "version": 3
   },
   "file_extension": ".py",
   "mimetype": "text/x-python",
   "name": "python",
   "nbconvert_exporter": "python",
   "pygments_lexer": "ipython3",
   "version": "3.6.5"
  }
 },
 "nbformat": 4,
 "nbformat_minor": 2
}
