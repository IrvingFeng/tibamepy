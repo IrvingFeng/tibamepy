{
 "cells": [
  {
   "cell_type": "markdown",
   "metadata": {},
   "source": [
    "## 英文斷詞"
   ]
  },
  {
   "cell_type": "code",
   "execution_count": null,
   "metadata": {},
   "outputs": [],
   "source": [
    "s = 'this is a book'\n",
    "s.split()"
   ]
  },
  {
   "cell_type": "markdown",
   "metadata": {},
   "source": [
    "## 中文斷詞 - Jieba"
   ]
  },
  {
   "cell_type": "code",
   "execution_count": 3,
   "metadata": {},
   "outputs": [
    {
     "name": "stdout",
     "output_type": "stream",
     "text": [
      "Collecting jieba\n",
      "  Downloading https://files.pythonhosted.org/packages/71/46/c6f9179f73b818d5827202ad1c4a94e371a29473b7f043b736b4dab6b8cd/jieba-0.39.zip (7.3MB)\n",
      "Building wheels for collected packages: jieba\n",
      "  Running setup.py bdist_wheel for jieba: started\n",
      "  Running setup.py bdist_wheel for jieba: finished with status 'done'\n",
      "  Stored in directory: C:\\Users\\USER\\AppData\\Local\\pip\\Cache\\wheels\\c9\\c7\\63\\a9ec0322ccc7c365fd51e475942a82395807186e94f0522243\n",
      "Successfully built jieba\n",
      "Installing collected packages: jieba\n",
      "Successfully installed jieba-0.39\n"
     ]
    },
    {
     "name": "stderr",
     "output_type": "stream",
     "text": [
      "You are using pip version 9.0.1, however version 10.0.1 is available.\n",
      "You should consider upgrading via the 'python -m pip install --upgrade pip' command.\n"
     ]
    }
   ],
   "source": [
    "! pip install jieba"
   ]
  },
  {
   "cell_type": "code",
   "execution_count": 4,
   "metadata": {},
   "outputs": [
    {
     "data": {
      "text/plain": [
       "<generator object Tokenizer.cut at 0x00000000062617D8>"
      ]
     },
     "execution_count": 4,
     "metadata": {},
     "output_type": "execute_result"
    }
   ],
   "source": [
    "import jieba\n",
    "jieba.cut('【499之亂】首遇假日　人潮擠爆雙和營業所')"
   ]
  },
  {
   "cell_type": "code",
   "execution_count": 6,
   "metadata": {},
   "outputs": [
    {
     "name": "stdout",
     "output_type": "stream",
     "text": [
      "【\n",
      "499\n",
      "之亂\n",
      "】\n",
      "首遇\n",
      "假日\n",
      "　\n",
      "人潮\n",
      "擠爆\n",
      "雙和\n",
      "營業所\n"
     ]
    }
   ],
   "source": [
    "jieba.add_word('雙和')\n",
    "jieba.add_word('營業所')\n",
    "jieba.add_word('擠爆')\n",
    "\n",
    "for w in jieba.cut('【499之亂】首遇假日　人潮擠爆雙和營業所'):\n",
    "    print(w)"
   ]
  },
  {
   "cell_type": "code",
   "execution_count": 7,
   "metadata": {},
   "outputs": [
    {
     "data": {
      "text/plain": [
       "['【', '499', '之亂', '】', '首遇', '假日', '\\u3000', '人潮', '擠爆', '雙和', '營業所']"
      ]
     },
     "execution_count": 7,
     "metadata": {},
     "output_type": "execute_result"
    }
   ],
   "source": [
    "list(jieba.cut('【499之亂】首遇假日　人潮擠爆雙和營業所'))"
   ]
  },
  {
   "cell_type": "code",
   "execution_count": 15,
   "metadata": {},
   "outputs": [
    {
     "data": {
      "text/plain": [
       "['',\n",
       " '蘋果',\n",
       " '今日一早抵達營業所',\n",
       " '發現門口已擠滿民眾',\n",
       " '由於今天出了大太陽',\n",
       " '氣溫明顯升高',\n",
       " '許多民眾撐著傘耐著炎熱',\n",
       " '也要搶便宜繼續排下去',\n",
       " '而記者從民眾排隊的末段',\n",
       " '循著人龍徒步走進營業所',\n",
       " '花費將近3分鐘',\n",
       " '甚至有民眾自備小板凳',\n",
       " '準備長期抗戰',\n",
       " '',\n",
       " '突發中心陸運陞',\n",
       " '新北報導',\n",
       " '']"
      ]
     },
     "execution_count": 15,
     "metadata": {},
     "output_type": "execute_result"
    }
   ],
   "source": [
    "import re\n",
    "s = '499之亂遇到第一個假日，許多民眾紛紛起早前來申辦，中華電信雙和營業所被擠爆，所內擠進約2百位民眾，所外民眾排隊人龍長達約3百公尺，而電信業者也加派人手管制，避免民眾擠爆所內，導致動線不流暢，使得辦理速度減緩。'\n",
    "s = '《蘋果》今日一早抵達營業所，發現門口已擠滿民眾，由於今天出了大太陽，氣溫明顯升高，許多民眾撐著傘耐著炎熱，也要搶便宜繼續排下去，而記者從民眾排隊的末段，循著人龍徒步走進營業所，花費將近3分鐘，甚至有民眾自備小板凳，準備長期抗戰。（突發中心陸運陞／新北報導）'\n",
    "re.split('，|。|》|《|／|（|）', s)\n"
   ]
  },
  {
   "cell_type": "code",
   "execution_count": null,
   "metadata": {},
   "outputs": [],
   "source": []
  }
 ],
 "metadata": {
  "kernelspec": {
   "display_name": "Python 3",
   "language": "python",
   "name": "python3"
  },
  "language_info": {
   "codemirror_mode": {
    "name": "ipython",
    "version": 3
   },
   "file_extension": ".py",
   "mimetype": "text/x-python",
   "name": "python",
   "nbconvert_exporter": "python",
   "pygments_lexer": "ipython3",
   "version": "3.6.4"
  }
 },
 "nbformat": 4,
 "nbformat_minor": 2
}
