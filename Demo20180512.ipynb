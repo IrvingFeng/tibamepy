{
 "cells": [
  {
   "cell_type": "markdown",
   "metadata": {},
   "source": [
    "## 英文斷詞"
   ]
  },
  {
   "cell_type": "code",
   "execution_count": null,
   "metadata": {},
   "outputs": [],
   "source": [
    "s = 'this is a book'\n",
    "s.split()"
   ]
  },
  {
   "cell_type": "markdown",
   "metadata": {},
   "source": [
    "## 中文斷詞 - Jieba"
   ]
  },
  {
   "cell_type": "code",
   "execution_count": 3,
   "metadata": {},
   "outputs": [
    {
     "name": "stdout",
     "output_type": "stream",
     "text": [
      "Collecting jieba\n",
      "  Downloading https://files.pythonhosted.org/packages/71/46/c6f9179f73b818d5827202ad1c4a94e371a29473b7f043b736b4dab6b8cd/jieba-0.39.zip (7.3MB)\n",
      "Building wheels for collected packages: jieba\n",
      "  Running setup.py bdist_wheel for jieba: started\n",
      "  Running setup.py bdist_wheel for jieba: finished with status 'done'\n",
      "  Stored in directory: C:\\Users\\USER\\AppData\\Local\\pip\\Cache\\wheels\\c9\\c7\\63\\a9ec0322ccc7c365fd51e475942a82395807186e94f0522243\n",
      "Successfully built jieba\n",
      "Installing collected packages: jieba\n",
      "Successfully installed jieba-0.39\n"
     ]
    },
    {
     "name": "stderr",
     "output_type": "stream",
     "text": [
      "You are using pip version 9.0.1, however version 10.0.1 is available.\n",
      "You should consider upgrading via the 'python -m pip install --upgrade pip' command.\n"
     ]
    }
   ],
   "source": [
    "! pip install jieba"
   ]
  },
  {
   "cell_type": "code",
   "execution_count": 4,
   "metadata": {},
   "outputs": [
    {
     "data": {
      "text/plain": [
       "<generator object Tokenizer.cut at 0x00000000062617D8>"
      ]
     },
     "execution_count": 4,
     "metadata": {},
     "output_type": "execute_result"
    }
   ],
   "source": [
    "import jieba\n",
    "jieba.cut('【499之亂】首遇假日　人潮擠爆雙和營業所')"
   ]
  },
  {
   "cell_type": "code",
   "execution_count": 6,
   "metadata": {},
   "outputs": [
    {
     "name": "stdout",
     "output_type": "stream",
     "text": [
      "【\n",
      "499\n",
      "之亂\n",
      "】\n",
      "首遇\n",
      "假日\n",
      "　\n",
      "人潮\n",
      "擠爆\n",
      "雙和\n",
      "營業所\n"
     ]
    }
   ],
   "source": [
    "jieba.add_word('雙和')\n",
    "jieba.add_word('營業所')\n",
    "jieba.add_word('擠爆')\n",
    "\n",
    "for w in jieba.cut('【499之亂】首遇假日　人潮擠爆雙和營業所'):\n",
    "    print(w)"
   ]
  },
  {
   "cell_type": "code",
   "execution_count": 7,
   "metadata": {},
   "outputs": [
    {
     "data": {
      "text/plain": [
       "['【', '499', '之亂', '】', '首遇', '假日', '\\u3000', '人潮', '擠爆', '雙和', '營業所']"
      ]
     },
     "execution_count": 7,
     "metadata": {},
     "output_type": "execute_result"
    }
   ],
   "source": [
    "list(jieba.cut('【499之亂】首遇假日　人潮擠爆雙和營業所'))"
   ]
  },
  {
   "cell_type": "code",
   "execution_count": 15,
   "metadata": {},
   "outputs": [
    {
     "data": {
      "text/plain": [
       "['',\n",
       " '蘋果',\n",
       " '今日一早抵達營業所',\n",
       " '發現門口已擠滿民眾',\n",
       " '由於今天出了大太陽',\n",
       " '氣溫明顯升高',\n",
       " '許多民眾撐著傘耐著炎熱',\n",
       " '也要搶便宜繼續排下去',\n",
       " '而記者從民眾排隊的末段',\n",
       " '循著人龍徒步走進營業所',\n",
       " '花費將近3分鐘',\n",
       " '甚至有民眾自備小板凳',\n",
       " '準備長期抗戰',\n",
       " '',\n",
       " '突發中心陸運陞',\n",
       " '新北報導',\n",
       " '']"
      ]
     },
     "execution_count": 15,
     "metadata": {},
     "output_type": "execute_result"
    }
   ],
   "source": [
    "import re\n",
    "s = '499之亂遇到第一個假日，許多民眾紛紛起早前來申辦，中華電信雙和營業所被擠爆，所內擠進約2百位民眾，所外民眾排隊人龍長達約3百公尺，而電信業者也加派人手管制，避免民眾擠爆所內，導致動線不流暢，使得辦理速度減緩。'\n",
    "s = '《蘋果》今日一早抵達營業所，發現門口已擠滿民眾，由於今天出了大太陽，氣溫明顯升高，許多民眾撐著傘耐著炎熱，也要搶便宜繼續排下去，而記者從民眾排隊的末段，循著人龍徒步走進營業所，花費將近3分鐘，甚至有民眾自備小板凳，準備長期抗戰。（突發中心陸運陞／新北報導）'\n",
    "re.split('，|。|》|《|／|（|）', s)\n"
   ]
  },
  {
   "cell_type": "code",
   "execution_count": 16,
   "metadata": {},
   "outputs": [
    {
     "name": "stdout",
     "output_type": "stream",
     "text": [
      "Full Mode: 大/ 巨蛋/ 案/ 對/ 市府/ 同仁/ 下/ 封口/ 封口令/ 口令/ / / 柯/ P/ 否/ 認\n"
     ]
    }
   ],
   "source": [
    "seg_list=jieba.cut(\"大巨蛋案對市府同仁下封口令？柯P否認\", cut_all=True)\n",
    "print(\"Full Mode:\", \"/ \".join(seg_list))"
   ]
  },
  {
   "cell_type": "code",
   "execution_count": 18,
   "metadata": {},
   "outputs": [
    {
     "name": "stdout",
     "output_type": "stream",
     "text": [
      "Default Mode: 大/ 巨蛋/ 案對/ 市府/ 同仁/ 下/ 封口令/ ？/ 柯/ P/ 否認\n"
     ]
    }
   ],
   "source": [
    "seg_list=jieba.cut(\"大巨蛋案對市府同仁下封口令？柯P否認\", cut_all=False)\n",
    "print(\"Default Mode:\", \"/ \".join(seg_list))"
   ]
  },
  {
   "cell_type": "code",
   "execution_count": 19,
   "metadata": {},
   "outputs": [
    {
     "name": "stdout",
     "output_type": "stream",
     "text": [
      "Default Mode: 大/ 巨蛋/ 案對/ 市府/ 同仁/ 下/ 封口令/ ？/ 柯/ P/ 否認\n"
     ]
    }
   ],
   "source": [
    "seg_list=jieba.cut(\"大巨蛋案對市府同仁下封口令？柯P否認\")\n",
    "print(\"Default Mode:\", \"/ \".join(seg_list))"
   ]
  },
  {
   "cell_type": "code",
   "execution_count": 24,
   "metadata": {
    "scrolled": true
   },
   "outputs": [],
   "source": [
    "jieba.load_userdict('userdict.txt')"
   ]
  },
  {
   "cell_type": "code",
   "execution_count": 22,
   "metadata": {},
   "outputs": [
    {
     "name": "stdout",
     "output_type": "stream",
     "text": [
      "Default Mode: 大巨蛋/ 案對/ 市府/ 同仁/ 下/ 封口令/ ？/ 柯P/ 否認\n"
     ]
    }
   ],
   "source": [
    "seg_list=jieba.cut(\"大巨蛋案對市府同仁下封口令？柯P否認\")\n",
    "print(\"Default Mode:\", \"/ \".join(seg_list))"
   ]
  },
  {
   "cell_type": "code",
   "execution_count": 25,
   "metadata": {},
   "outputs": [
    {
     "name": "stdout",
     "output_type": "stream",
     "text": [
      "大巨蛋 n\n",
      "案 ng\n",
      "對 p\n",
      "市府 n\n",
      "同仁 nr\n",
      "下 f\n",
      "封口令 n\n",
      "？ x\n",
      "柯P n\n",
      "否認 v\n"
     ]
    }
   ],
   "source": [
    "import jieba.posseg as pseg\n",
    "words=pseg.cut(\"大巨蛋案對市府同仁下封口令？柯P否認\")\n",
    "for w in words:\n",
    "    print(w.word,w.flag)"
   ]
  },
  {
   "cell_type": "code",
   "execution_count": 27,
   "metadata": {},
   "outputs": [
    {
     "name": "stdout",
     "output_type": "stream",
     "text": [
      "大巨蛋 0 3\n",
      "案對 3 5\n",
      "市府 5 7\n",
      "同仁 7 9\n",
      "下 9 10\n",
      "封口令 10 13\n",
      "？ 13 14\n",
      "柯P 14 16\n",
      "否認 16 18\n"
     ]
    }
   ],
   "source": [
    "sentence = \"大巨蛋案對市府同仁下封口令？柯P否認\"\n",
    "words=jieba.tokenize(sentence)\n",
    "for tw in words:\n",
    "    print(tw[0],tw[1],tw[2])"
   ]
  },
  {
   "cell_type": "markdown",
   "metadata": {},
   "source": [
    "## n-gram"
   ]
  },
  {
   "cell_type": "code",
   "execution_count": 29,
   "metadata": {},
   "outputs": [
    {
     "data": {
      "text/plain": [
       "'我們'"
      ]
     },
     "execution_count": 29,
     "metadata": {},
     "output_type": "execute_result"
    }
   ],
   "source": [
    "sentence = '那我們酸民婉君也可以報名嗎'\n",
    "sentence[0:2]\n",
    "sentence[1:3]"
   ]
  },
  {
   "cell_type": "code",
   "execution_count": 32,
   "metadata": {},
   "outputs": [
    {
     "name": "stdout",
     "output_type": "stream",
     "text": [
      "那我\n",
      "我們\n",
      "們酸\n",
      "酸民\n",
      "民婉\n",
      "婉君\n",
      "君也\n",
      "也可\n",
      "可以\n",
      "以報\n",
      "報名\n",
      "名嗎\n"
     ]
    }
   ],
   "source": [
    "for i in range(0, len(sentence) - 2 + 1 ):\n",
    "    print(sentence[i:i+2])"
   ]
  },
  {
   "cell_type": "code",
   "execution_count": 33,
   "metadata": {},
   "outputs": [
    {
     "name": "stdout",
     "output_type": "stream",
     "text": [
      "那我們\n",
      "我們酸\n",
      "們酸民\n",
      "酸民婉\n",
      "民婉君\n",
      "婉君也\n",
      "君也可\n",
      "也可以\n",
      "可以報\n",
      "以報名\n",
      "報名嗎\n"
     ]
    }
   ],
   "source": [
    "for i in range(0, len(sentence) - 3 + 1 ):\n",
    "    print(sentence[i:i+3])"
   ]
  },
  {
   "cell_type": "code",
   "execution_count": 34,
   "metadata": {},
   "outputs": [],
   "source": [
    "def ngram(sentence, n = 2 ):\n",
    "    ret = []\n",
    "    for i in range(0, len(sentence) - n + 1 ):\n",
    "        ret.append(sentence[i:i+n])\n",
    "    return ret"
   ]
  },
  {
   "cell_type": "code",
   "execution_count": 35,
   "metadata": {},
   "outputs": [
    {
     "data": {
      "text/plain": [
       "'那我們酸民婉君也可以報名嗎'"
      ]
     },
     "execution_count": 35,
     "metadata": {},
     "output_type": "execute_result"
    }
   ],
   "source": [
    "sentence"
   ]
  },
  {
   "cell_type": "code",
   "execution_count": 36,
   "metadata": {},
   "outputs": [
    {
     "data": {
      "text/plain": [
       "['那我', '我們', '們酸', '酸民', '民婉', '婉君', '君也', '也可', '可以', '以報', '報名', '名嗎']"
      ]
     },
     "execution_count": 36,
     "metadata": {},
     "output_type": "execute_result"
    }
   ],
   "source": [
    "ngram(sentence)"
   ]
  },
  {
   "cell_type": "code",
   "execution_count": 37,
   "metadata": {},
   "outputs": [
    {
     "data": {
      "text/plain": [
       "['那我們', '我們酸', '們酸民', '酸民婉', '民婉君', '婉君也', '君也可', '也可以', '可以報', '以報名', '報名嗎']"
      ]
     },
     "execution_count": 37,
     "metadata": {},
     "output_type": "execute_result"
    }
   ],
   "source": [
    "ngram(sentence, 3)"
   ]
  },
  {
   "cell_type": "code",
   "execution_count": 38,
   "metadata": {},
   "outputs": [
    {
     "data": {
      "text/plain": [
       "['那我們酸',\n",
       " '我們酸民',\n",
       " '們酸民婉',\n",
       " '酸民婉君',\n",
       " '民婉君也',\n",
       " '婉君也可',\n",
       " '君也可以',\n",
       " '也可以報',\n",
       " '可以報名',\n",
       " '以報名嗎']"
      ]
     },
     "execution_count": 38,
     "metadata": {},
     "output_type": "execute_result"
    }
   ],
   "source": [
    "ngram(sentence, 4)"
   ]
  },
  {
   "cell_type": "code",
   "execution_count": 39,
   "metadata": {},
   "outputs": [],
   "source": [
    "news = '''\n",
    "民眾瘋辦「499方案」，幾乎成了全民運動，但付出高額違約金的同時，有仔細想過值得嗎？\n",
    "\n",
    "大多數「先解後綁」的電信用戶，違約金都在數千元不等，甚至上萬元，這筆錢說穿了，「你當初拿新手機的錢」。\n",
    "\n",
    "也就是當你換新機，又不願一次付出如iPhone X要價2、3萬元，電信業者遂提供類似分期付款的誘因，用高資費綁24或30個月。\n",
    "\n",
    "按照合約精神，貸款若提前清償，銀行會收違約金，因為它可預期的利息收入沒了；何況你當時用便宜價格換新手機。\n",
    "\n",
    "所以與其計算違約金划不划算，不如檢視自己有無換機需求，否則499一次綁兩年或更久，當你在這段期間內想換機，反而失去議價空間。\n",
    "\n",
    "還有，499雖然網路吃到飽，但市話、網內外費率、簡訊等，恐怕都藏有陷阱。\n",
    "\n",
    "羊毛出在羊身上，499綁架你至少兩年，這個算盤打下來，業者不吃虧啊！（即時新聞中心／綜合報導）\n",
    "'''"
   ]
  },
  {
   "cell_type": "code",
   "execution_count": 45,
   "metadata": {},
   "outputs": [
    {
     "name": "stdout",
     "output_type": "stream",
     "text": [
      "499\n",
      "違約金\n",
      "。\n",
      "\n",
      "\n"
     ]
    }
   ],
   "source": [
    "ngrams_ary = ngram(news, 3)\n",
    "\n",
    "from collections import Counter\n",
    "c = Counter(ngrams_ary)\n",
    "for w, cnt in c.items():\n",
    "    if cnt >= 3:\n",
    "        print(w)"
   ]
  },
  {
   "cell_type": "code",
   "execution_count": 56,
   "metadata": {},
   "outputs": [
    {
     "data": {
      "text/plain": [
       "['',\n",
       " '民眾瘋辦',\n",
       " '499方案',\n",
       " '',\n",
       " '幾乎成了全民運動',\n",
       " '但付出高額違約金的同時',\n",
       " '有仔細想過值得嗎',\n",
       " '',\n",
       " '',\n",
       " '大多數',\n",
       " '先解後綁',\n",
       " '的電信用戶',\n",
       " '違約金都在數千元不等',\n",
       " '甚至上萬元',\n",
       " '這筆錢說穿了',\n",
       " '',\n",
       " '你當初拿新手機的錢',\n",
       " '',\n",
       " '',\n",
       " '',\n",
       " '也就是當你換新機',\n",
       " '又不願一次付出如iPhone X要價2',\n",
       " '3萬元',\n",
       " '電信業者遂提供類似分期付款的誘因',\n",
       " '用高資費綁24或30個月',\n",
       " '',\n",
       " '',\n",
       " '按照合約精神',\n",
       " '貸款若提前清償',\n",
       " '銀行會收違約金',\n",
       " '因為它可預期的利息收入沒了',\n",
       " '何況你當時用便宜價格換新手機',\n",
       " '',\n",
       " '',\n",
       " '所以與其計算違約金划不划算',\n",
       " '不如檢視自己有無換機需求',\n",
       " '否則499一次綁兩年或更久',\n",
       " '當你在這段期間內想換機',\n",
       " '反而失去議價空間',\n",
       " '',\n",
       " '',\n",
       " '還有',\n",
       " '499雖然網路吃到飽',\n",
       " '但市話',\n",
       " '網內外費率',\n",
       " '簡訊等',\n",
       " '恐怕都藏有陷阱',\n",
       " '',\n",
       " '',\n",
       " '羊毛出在羊身上',\n",
       " '499綁架你至少兩年',\n",
       " '這個算盤打下來',\n",
       " '業者不吃虧啊',\n",
       " '',\n",
       " '即時新聞中心',\n",
       " '綜合報導',\n",
       " '',\n",
       " '']"
      ]
     },
     "execution_count": 56,
     "metadata": {},
     "output_type": "execute_result"
    }
   ],
   "source": [
    "import re\n",
    "re.split('，|」|「|。|？|／|！|（|、|）|\\n|；',news)"
   ]
  },
  {
   "cell_type": "code",
   "execution_count": 59,
   "metadata": {},
   "outputs": [
    {
     "data": {
      "text/plain": [
       "'但高額的同時'"
      ]
     },
     "execution_count": 59,
     "metadata": {},
     "output_type": "execute_result"
    }
   ],
   "source": [
    "s = '但付出高額違約金的同時'\n",
    "s.replace('違約金','')\n",
    "\n",
    "keywords = ['違約金', '付出']\n",
    "for key in keywords:\n",
    "    s = s.replace(key,'')\n",
    "s\n"
   ]
  },
  {
   "cell_type": "code",
   "execution_count": 60,
   "metadata": {},
   "outputs": [],
   "source": [
    "def removeKey(text,keywords):\n",
    "    for key in keywords:\n",
    "        text= text.replace(key,'')\n",
    "    return text"
   ]
  },
  {
   "cell_type": "code",
   "execution_count": 61,
   "metadata": {},
   "outputs": [
    {
     "data": {
      "text/plain": [
       "'但高額的同時'"
      ]
     },
     "execution_count": 61,
     "metadata": {},
     "output_type": "execute_result"
    }
   ],
   "source": [
    "removeKey('但付出高額違約金的同時',  ['違約金', '付出'])"
   ]
  },
  {
   "cell_type": "markdown",
   "metadata": {},
   "source": [
    "## 長詞優先法"
   ]
  },
  {
   "cell_type": "code",
   "execution_count": 65,
   "metadata": {},
   "outputs": [],
   "source": [
    "news = '''\n",
    "今年加盟中日龍的「平成怪物」松坂大輔，將在明天於東京巨蛋先發對讀賣巨人，這是他今年第4場先發，且是首次在中日主場名古屋巨蛋以外的球場登板，上次在東京巨蛋出賽，已是2009年的事了。\n",
    " \n",
    "松坂隨隊到東京出賽，賽前練習時，特別踩一踩東京巨蛋的投手丘，他上次在這兒比賽是2009年世界棒球經典賽，過去在西武時代，他在東京巨蛋共出賽11場，8勝2敗、防禦率2.44，在這座球場的成績相當出色。\n",
    " \n",
    "今年加入中日後，松坂先發對戰的第1支球隊就是巨人，投5局失3分吞敗，目前3場出賽1勝2敗、防禦率2，而他3場登板都是在名古屋巨蛋，明也是首次到客場比賽。(羅惠齡／綜合報導)\n",
    "'''"
   ]
  },
  {
   "cell_type": "code",
   "execution_count": 68,
   "metadata": {},
   "outputs": [
    {
     "data": {
      "text/plain": [
       "['東京巨蛋', '出賽']"
      ]
     },
     "execution_count": 68,
     "metadata": {},
     "output_type": "execute_result"
    }
   ],
   "source": [
    "import re\n",
    "keywords = [] \n",
    "\n",
    "sentence_ary = re.split('，|」|「|。|？|／|！|（|、|）|\\n|；',news)\n",
    "for n in range(4,1,-1):\n",
    "    words = [] \n",
    "    for sentence in sentence_ary:\n",
    "        text = removeKey(sentence,keywords)\n",
    "        words.extend(ngram(text, n))\n",
    "    c = Counter(words)\n",
    "    for k, v in c.items():\n",
    "        if v >= 4:\n",
    "            keywords.append(k)\n",
    "keywords"
   ]
  },
  {
   "cell_type": "code",
   "execution_count": 74,
   "metadata": {},
   "outputs": [],
   "source": [
    "def longTermFirst(news, keywords_ary, thresh =5):\n",
    "    keywords = keywords_ary\n",
    "\n",
    "    sentence_ary = re.split('，|」|「|。|？|／|！|（|、|）|\\n|；',news)\n",
    "    for n in range(4,1,-1):\n",
    "        words = [] \n",
    "        for sentence in sentence_ary:\n",
    "            text = removeKey(sentence,keywords)\n",
    "            words.extend(ngram(text, n))\n",
    "        c = Counter(words)\n",
    "        for k, v in c.items():\n",
    "            if v >= thresh:\n",
    "                keywords.append(k)\n",
    "    return keywords"
   ]
  },
  {
   "cell_type": "code",
   "execution_count": 70,
   "metadata": {},
   "outputs": [],
   "source": [
    "news = '''\n",
    "隨著小米在5月3日在港交所提交首次公開募股（IPO）申請，小米執行長雷軍不僅可望躍居中國第4大富豪，還有5499名員工將瞬間成為千萬富翁，讓小米的員工成為人人羨慕的對象。\n",
    " \n",
    "只是是這場造富運動，並不是員工人人有份，而是特定的員工才有可能與雷軍與總裁林斌等人一同晉身富貴門。這些沒有辦法同富貴的員工只能大嘆生不逢時。\n",
    " \n",
    "小米上市造創5000多位富翁，成為市場熱議的焦點，只是根據澎湃新聞報導，中國小米離職員工高磊現身說法表示，除了超級大股東之外，小米員工想要晉身成千萬富翁的員工，必需在2012年初前入職，而且工號要在1000號以內，重點是目前仍然在職的部分小米員工，才有可能受惠、晉身成為富豪一族。\n",
    " \n",
    "在過去幾年中小米營運有起有落，當時有不少員工賣出自己擁有的期權（期權指的是員工將來可以用現在價格購買股票的權益，在結算時具是以差值計算受益）\n",
    "，讓自己與晉身成富豪的機會錯身而過扼腕不已，只能看著別人數鈔票而羡慕不已。\n",
    " \n",
    "2017年小米銷售收入已過千億元人民幣，目前有超過1/3的員工持有期權，未來小米公開發行之後，若是能衝刺超過1000億美元的市值，那麼光是小米集團創始人、小米首席執行官雷軍的身價就將達到314億美元，約合新台幣9348億元，僅次於馬化騰、馬雲、李嘉誠的中國第4大富豪。\n",
    " \n",
    "至於聯合創始人的身家也將普遍超過10億美元，約新台幣297.7億元，至於小米的員工除了一般股權獎勵外，早期雷軍為了提高員工向心力，更是慷慨出讓公司股權，讓員工自願持股。\n",
    " \n",
    "如果當初這些買了公司股票的人，在上小米上市後，將可能「賺翻了」，這數千名員工也可能因為公司上市，一舉成為千萬富翁。\n",
    " \n",
    "只是這樣的富貴，對更多的普通員工來說，是否能熬過早年的創業期，並且抵抗其他的誘惑不離職都是問題，因此如此的富貴，可能只是夢一場。\n",
    " \n",
    "由於小米在早期允許員工在股票和現金之間，進行彈性調配比例作為自己的薪酬。 在自願選擇後，有15%的人選擇每月全部拿現金薪水，70%的人拿70%~80%的現金和少數股票，還有15%的人只拿一點生活費但拿較多股票。\n",
    " \n",
    "雷軍說表示，用這樣的做法，讓這樣員工有了創業心態，就會全心投入，因為自己快定，賺了是自己的決策，虧了誰都不怨。\n",
    " \n",
    "在2012年小米進行B輪融資時，雷軍還允許員工自己掏錢投資，當時小米總裁林斌也曾自掏腰包買公司股票，而小米的幾名聯合創始人基本都持股3%左右，至於林斌持股13.3%，若是小米上市後估算林斌的身價約為133億美元，約台幣3959.41億元。\n",
    " \n",
    "截至2018年3月31日，小米總共14513名員工中，5500名員工持有以股份為基礎的獎勵，也就意味著至少有1/3的小米員工擁有期權；粗略算來，這5500名員工平均每人能在小米上市後，可以獲得價值135萬美元的收益，約台幣4018.95億元。\n",
    " \n",
    "小米彈性的報酬體系，再加上自願的投資行為，使公司在初期階段的凝聚力非常強。不過，並非每人都能拿到那麼多期權，因為在小米要拿到期權並不是一件容易的事情。\n",
    " \n",
    "這些期權的擁有者，可能是在2014年或者更早加入小米技術類單位的員工，而且薪資越低期權越多，雖然一般員工基本都有或多或少的期權，但是他們基本上能拿5000到20000股，而且不是每個早期加入小米的員工都擁有期權。\n",
    " \n",
    "高磊說，有很多非技術單位的員工，至今沒有期權；只有某些等級的員工，才可能擁有期權，而數量也不多，大概5000股，並且分5年發給期權，只有特別的人員，據說能拿幾百萬股，他們工號1000以內且在職，才可能拿到；其他員工一般期權都不多，即使1000工號以內，也未必跟著小米上市同登富貴門。\n",
    " \n",
    "另外一名員工陳一之表示，由於小米早期不好找員工，因此給的期權很高，一些普通員工可能都有20萬股，但是隨著小米開始高速成長後，要拿到小米的的期權則變得不容易。\n",
    " \n",
    "另外，先前雷軍讓員工在薪水與股票中做彈性薪資選項，有的多領現金的員工想反悔改領股票，之後也都被雷軍回絕了。\n",
    " \n",
    "隨著小米上市，這些與財富錯身而過的小米員工，或許會懊悔自己當時的抉擇吧！（財經中心／台北報導）\n",
    "'''"
   ]
  },
  {
   "cell_type": "code",
   "execution_count": 76,
   "metadata": {},
   "outputs": [
    {
     "data": {
      "text/plain": [
       "['員工', '000', '小米', '雷軍', '可能', '期權', '股票']"
      ]
     },
     "execution_count": 76,
     "metadata": {},
     "output_type": "execute_result"
    }
   ],
   "source": [
    "longTermFirst(news, ['員工'], 8)"
   ]
  },
  {
   "cell_type": "markdown",
   "metadata": {},
   "source": [
    "## 使用爬蟲擴增字典"
   ]
  },
  {
   "cell_type": "code",
   "execution_count": 79,
   "metadata": {},
   "outputs": [],
   "source": [
    "import requests\n",
    "res = requests.get('http://news.ltn.com.tw/news/life/breakingnews/2423568')\n",
    "\n",
    "from bs4 import BeautifulSoup\n",
    "soup = BeautifulSoup(res.text, 'lxml')\n",
    "keywords = [w.text for w in soup.select('.keyword a')]"
   ]
  },
  {
   "cell_type": "code",
   "execution_count": 81,
   "metadata": {},
   "outputs": [],
   "source": [
    "with open('userdict.txt', 'a', encoding='utf-8') as f:\n",
    "    f.write('\\n'.join(keywords))"
   ]
  },
  {
   "cell_type": "markdown",
   "metadata": {},
   "source": [
    "## 利用Google找尋關鍵字"
   ]
  },
  {
   "cell_type": "code",
   "execution_count": 86,
   "metadata": {},
   "outputs": [
    {
     "data": {
      "text/plain": [
       "['臺灣大哥大|',\n",
       " [['臺灣大哥大 499', 0, [131]],\n",
       "  ['臺灣大哥大 客服', 0],\n",
       "  ['臺灣大哥大 吃到飽', 0],\n",
       "  ['臺灣大哥大 續約', 0],\n",
       "  ['臺灣大哥大 預付卡', 0],\n",
       "  ['臺灣大哥大 學生專案', 0],\n",
       "  ['臺灣大哥大 攜碼', 0],\n",
       "  ['臺灣大哥大 漫遊', 0],\n",
       "  ['臺灣大哥大 日本', 0],\n",
       "  ['臺灣大哥大 繳費', 0]],\n",
       " {'j': '3l',\n",
       "  'k': 1,\n",
       "  'q': 'PMvTJEn4CUmbrW_YRC4J7UZFzR8',\n",
       "  't': {'bpc': False, 'tlw': False}}]"
      ]
     },
     "execution_count": 86,
     "metadata": {},
     "output_type": "execute_result"
    }
   ],
   "source": [
    "import requests\n",
    "headers = {\n",
    "   'user-agent': 'Mozilla/5.0 (Windows NT 6.1; Win64; x64) AppleWebKit/537.36 (KHTML, like Gecko) Chrome/66.0.3359.139 Safari/537.36'     \n",
    "}\n",
    "term = '臺灣大哥大|'\n",
    "res = requests.get('https://www.google.com.tw/complete/search?client=psy-ab&hl=en-TW&gs_rn=64&gs_ri=psy-ab&pq=google%20trends%20taiwan&cp=1&gs_id=3l&q={}&xhr=t'.format(term), headers = headers)\n",
    "res.json()"
   ]
  },
  {
   "cell_type": "code",
   "execution_count": null,
   "metadata": {},
   "outputs": [],
   "source": []
  }
 ],
 "metadata": {
  "kernelspec": {
   "display_name": "Python 3",
   "language": "python",
   "name": "python3"
  },
  "language_info": {
   "codemirror_mode": {
    "name": "ipython",
    "version": 3
   },
   "file_extension": ".py",
   "mimetype": "text/x-python",
   "name": "python",
   "nbconvert_exporter": "python",
   "pygments_lexer": "ipython3",
   "version": "3.6.4"
  }
 },
 "nbformat": 4,
 "nbformat_minor": 2
}
