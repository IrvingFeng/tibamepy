{
 "cells": [
  {
   "cell_type": "markdown",
   "metadata": {},
   "source": [
    "## Pandas"
   ]
  },
  {
   "cell_type": "code",
   "execution_count": 1,
   "metadata": {},
   "outputs": [],
   "source": [
    "import pandas\n",
    "stock = pandas.read_excel('https://raw.githubusercontent.com/ywchiu/tibamepy/master/data/stock.xlsx')"
   ]
  },
  {
   "cell_type": "code",
   "execution_count": 3,
   "metadata": {},
   "outputs": [
    {
     "data": {
      "text/html": [
       "<div>\n",
       "<style scoped>\n",
       "    .dataframe tbody tr th:only-of-type {\n",
       "        vertical-align: middle;\n",
       "    }\n",
       "\n",
       "    .dataframe tbody tr th {\n",
       "        vertical-align: top;\n",
       "    }\n",
       "\n",
       "    .dataframe thead th {\n",
       "        text-align: right;\n",
       "    }\n",
       "</style>\n",
       "<table border=\"1\" class=\"dataframe\">\n",
       "  <thead>\n",
       "    <tr style=\"text-align: right;\">\n",
       "      <th></th>\n",
       "      <th>id</th>\n",
       "      <th>年度</th>\n",
       "      <th>股本</th>\n",
       "      <th>財報評分</th>\n",
       "      <th>收盤</th>\n",
       "      <th>平均</th>\n",
       "      <th>漲跌</th>\n",
       "      <th>漲跌%</th>\n",
       "      <th>營業收入</th>\n",
       "      <th>營業毛利</th>\n",
       "      <th>...</th>\n",
       "      <th>營業毛利%</th>\n",
       "      <th>營業利益%</th>\n",
       "      <th>業外損益%</th>\n",
       "      <th>稅後淨利%</th>\n",
       "      <th>ROE</th>\n",
       "      <th>ROA</th>\n",
       "      <th>稅後EPS</th>\n",
       "      <th>EPS成長</th>\n",
       "      <th>BPS</th>\n",
       "      <th>stockid</th>\n",
       "    </tr>\n",
       "  </thead>\n",
       "  <tbody>\n",
       "    <tr>\n",
       "      <th>0</th>\n",
       "      <td>1</td>\n",
       "      <td>2015</td>\n",
       "      <td>369.0</td>\n",
       "      <td>45</td>\n",
       "      <td>27.3</td>\n",
       "      <td>37.8</td>\n",
       "      <td>-16.1</td>\n",
       "      <td>-37.1</td>\n",
       "      <td>937.0</td>\n",
       "      <td>145.0</td>\n",
       "      <td>...</td>\n",
       "      <td>15.5</td>\n",
       "      <td>10.3</td>\n",
       "      <td>-1.08</td>\n",
       "      <td>7.39</td>\n",
       "      <td>4.36</td>\n",
       "      <td>2.36</td>\n",
       "      <td>1.56</td>\n",
       "      <td>-1.37</td>\n",
       "      <td>29.26</td>\n",
       "      <td>1101</td>\n",
       "    </tr>\n",
       "    <tr>\n",
       "      <th>1</th>\n",
       "      <td>2</td>\n",
       "      <td>2014</td>\n",
       "      <td>369.0</td>\n",
       "      <td>53</td>\n",
       "      <td>43.4</td>\n",
       "      <td>45.7</td>\n",
       "      <td>-2.85</td>\n",
       "      <td>-6.2</td>\n",
       "      <td>1183.0</td>\n",
       "      <td>249.0</td>\n",
       "      <td>...</td>\n",
       "      <td>21</td>\n",
       "      <td>16.8</td>\n",
       "      <td>1.13</td>\n",
       "      <td>14</td>\n",
       "      <td>10.50</td>\n",
       "      <td>5.76</td>\n",
       "      <td>2.93</td>\n",
       "      <td>0.21</td>\n",
       "      <td>31.95</td>\n",
       "      <td>1101</td>\n",
       "    </tr>\n",
       "    <tr>\n",
       "      <th>2</th>\n",
       "      <td>3</td>\n",
       "      <td>2013</td>\n",
       "      <td>369.0</td>\n",
       "      <td>51</td>\n",
       "      <td>46.25</td>\n",
       "      <td>39.8</td>\n",
       "      <td>7.35</td>\n",
       "      <td>18.9</td>\n",
       "      <td>1161.0</td>\n",
       "      <td>228.0</td>\n",
       "      <td>...</td>\n",
       "      <td>19.7</td>\n",
       "      <td>15.3</td>\n",
       "      <td>0.71</td>\n",
       "      <td>13</td>\n",
       "      <td>10.60</td>\n",
       "      <td>5.56</td>\n",
       "      <td>2.72</td>\n",
       "      <td>0.63</td>\n",
       "      <td>30.63</td>\n",
       "      <td>1101</td>\n",
       "    </tr>\n",
       "    <tr>\n",
       "      <th>3</th>\n",
       "      <td>4</td>\n",
       "      <td>2012</td>\n",
       "      <td>369.0</td>\n",
       "      <td>49</td>\n",
       "      <td>38.9</td>\n",
       "      <td>35.8</td>\n",
       "      <td>3.9</td>\n",
       "      <td>11.1</td>\n",
       "      <td>1195.0</td>\n",
       "      <td>177.0</td>\n",
       "      <td>...</td>\n",
       "      <td>14.8</td>\n",
       "      <td>10.9</td>\n",
       "      <td>-0.84</td>\n",
       "      <td>8.34</td>\n",
       "      <td>7.63</td>\n",
       "      <td>3.81</td>\n",
       "      <td>2.09</td>\n",
       "      <td>-0.24</td>\n",
       "      <td>27.03</td>\n",
       "      <td>1101</td>\n",
       "    </tr>\n",
       "    <tr>\n",
       "      <th>4</th>\n",
       "      <td>5</td>\n",
       "      <td>2011</td>\n",
       "      <td>369.0</td>\n",
       "      <td>55</td>\n",
       "      <td>35</td>\n",
       "      <td>36.8</td>\n",
       "      <td>2.2</td>\n",
       "      <td>6.7</td>\n",
       "      <td>1185.0</td>\n",
       "      <td>206.0</td>\n",
       "      <td>...</td>\n",
       "      <td>17.4</td>\n",
       "      <td>13.6</td>\n",
       "      <td>0.3</td>\n",
       "      <td>11.6</td>\n",
       "      <td>10.80</td>\n",
       "      <td>5.24</td>\n",
       "      <td>2.33</td>\n",
       "      <td>-0.1</td>\n",
       "      <td>26.21</td>\n",
       "      <td>1101</td>\n",
       "    </tr>\n",
       "  </tbody>\n",
       "</table>\n",
       "<p>5 rows × 23 columns</p>\n",
       "</div>"
      ],
      "text/plain": [
       "   id    年度     股本  財報評分     收盤    平均    漲跌   漲跌%    營業收入   營業毛利   ...     \\\n",
       "0   1  2015  369.0    45   27.3  37.8 -16.1 -37.1   937.0  145.0   ...      \n",
       "1   2  2014  369.0    53   43.4  45.7 -2.85  -6.2  1183.0  249.0   ...      \n",
       "2   3  2013  369.0    51  46.25  39.8  7.35  18.9  1161.0  228.0   ...      \n",
       "3   4  2012  369.0    49   38.9  35.8   3.9  11.1  1195.0  177.0   ...      \n",
       "4   5  2011  369.0    55     35  36.8   2.2   6.7  1185.0  206.0   ...      \n",
       "\n",
       "   營業毛利% 營業利益%  業外損益% 稅後淨利%    ROE   ROA 稅後EPS  EPS成長    BPS  stockid  \n",
       "0   15.5  10.3  -1.08  7.39   4.36  2.36  1.56  -1.37  29.26     1101  \n",
       "1     21  16.8   1.13    14  10.50  5.76  2.93   0.21  31.95     1101  \n",
       "2   19.7  15.3   0.71    13  10.60  5.56  2.72   0.63  30.63     1101  \n",
       "3   14.8  10.9  -0.84  8.34   7.63  3.81  2.09  -0.24  27.03     1101  \n",
       "4   17.4  13.6    0.3  11.6  10.80  5.24  2.33   -0.1  26.21     1101  \n",
       "\n",
       "[5 rows x 23 columns]"
      ]
     },
     "execution_count": 3,
     "metadata": {},
     "output_type": "execute_result"
    }
   ],
   "source": [
    "stock.head()"
   ]
  },
  {
   "cell_type": "code",
   "execution_count": 5,
   "metadata": {},
   "outputs": [],
   "source": [
    "tw2330 = pandas.read_json('https://raw.githubusercontent.com/ywchiu/tibamepy/master/data/2330.json')"
   ]
  },
  {
   "cell_type": "code",
   "execution_count": 7,
   "metadata": {},
   "outputs": [
    {
     "data": {
      "text/html": [
       "<div>\n",
       "<style scoped>\n",
       "    .dataframe tbody tr th:only-of-type {\n",
       "        vertical-align: middle;\n",
       "    }\n",
       "\n",
       "    .dataframe tbody tr th {\n",
       "        vertical-align: top;\n",
       "    }\n",
       "\n",
       "    .dataframe thead th {\n",
       "        text-align: right;\n",
       "    }\n",
       "</style>\n",
       "<table border=\"1\" class=\"dataframe\">\n",
       "  <thead>\n",
       "    <tr style=\"text-align: right;\">\n",
       "      <th></th>\n",
       "      <th>Date</th>\n",
       "      <th>Open</th>\n",
       "      <th>High</th>\n",
       "      <th>Low</th>\n",
       "      <th>Close</th>\n",
       "      <th>Volume</th>\n",
       "      <th>Adj Close</th>\n",
       "    </tr>\n",
       "  </thead>\n",
       "  <tbody>\n",
       "    <tr>\n",
       "      <th>0</th>\n",
       "      <td>2016-07-21</td>\n",
       "      <td>171.0</td>\n",
       "      <td>172.0</td>\n",
       "      <td>170.0</td>\n",
       "      <td>172.0</td>\n",
       "      <td>33130000</td>\n",
       "      <td>172.0</td>\n",
       "    </tr>\n",
       "    <tr>\n",
       "      <th>1</th>\n",
       "      <td>2016-07-20</td>\n",
       "      <td>170.0</td>\n",
       "      <td>170.5</td>\n",
       "      <td>169.0</td>\n",
       "      <td>170.0</td>\n",
       "      <td>38053000</td>\n",
       "      <td>170.0</td>\n",
       "    </tr>\n",
       "    <tr>\n",
       "      <th>2</th>\n",
       "      <td>2016-07-19</td>\n",
       "      <td>170.5</td>\n",
       "      <td>170.5</td>\n",
       "      <td>169.0</td>\n",
       "      <td>170.5</td>\n",
       "      <td>42456000</td>\n",
       "      <td>170.5</td>\n",
       "    </tr>\n",
       "    <tr>\n",
       "      <th>3</th>\n",
       "      <td>2016-07-18</td>\n",
       "      <td>168.0</td>\n",
       "      <td>170.0</td>\n",
       "      <td>168.0</td>\n",
       "      <td>169.5</td>\n",
       "      <td>24749000</td>\n",
       "      <td>169.5</td>\n",
       "    </tr>\n",
       "    <tr>\n",
       "      <th>4</th>\n",
       "      <td>2016-07-15</td>\n",
       "      <td>169.5</td>\n",
       "      <td>169.5</td>\n",
       "      <td>169.5</td>\n",
       "      <td>169.5</td>\n",
       "      <td>41000</td>\n",
       "      <td>169.5</td>\n",
       "    </tr>\n",
       "  </tbody>\n",
       "</table>\n",
       "</div>"
      ],
      "text/plain": [
       "        Date   Open   High    Low  Close    Volume  Adj Close\n",
       "0 2016-07-21  171.0  172.0  170.0  172.0  33130000      172.0\n",
       "1 2016-07-20  170.0  170.5  169.0  170.0  38053000      170.0\n",
       "2 2016-07-19  170.5  170.5  169.0  170.5  42456000      170.5\n",
       "3 2016-07-18  168.0  170.0  168.0  169.5  24749000      169.5\n",
       "4 2016-07-15  169.5  169.5  169.5  169.5     41000      169.5"
      ]
     },
     "execution_count": 7,
     "metadata": {},
     "output_type": "execute_result"
    }
   ],
   "source": [
    "tw2330.head()"
   ]
  },
  {
   "cell_type": "markdown",
   "metadata": {},
   "source": [
    "## GET"
   ]
  },
  {
   "cell_type": "code",
   "execution_count": 64,
   "metadata": {},
   "outputs": [
    {
     "data": {
      "text/plain": [
       "<Response [200]>"
      ]
     },
     "execution_count": 64,
     "metadata": {},
     "output_type": "execute_result"
    }
   ],
   "source": [
    "import requests\n",
    "res = requests.get('https://tw.appledaily.com/new/realtime')\n",
    "res"
   ]
  },
  {
   "cell_type": "code",
   "execution_count": 66,
   "metadata": {},
   "outputs": [
    {
     "data": {
      "text/plain": [
       "requests.models.Response"
      ]
     },
     "execution_count": 66,
     "metadata": {},
     "output_type": "execute_result"
    }
   ],
   "source": [
    "type(res)"
   ]
  },
  {
   "cell_type": "code",
   "execution_count": 65,
   "metadata": {},
   "outputs": [],
   "source": [
    "#res.text"
   ]
  },
  {
   "cell_type": "code",
   "execution_count": 11,
   "metadata": {},
   "outputs": [
    {
     "data": {
      "text/plain": [
       "'try{jsonp_button([{\"Seq\":21071063,\"Id\":\"DGCN1A-A9009EVNY-000\",\"Price\":{\"M\":16900,\"P\":15900,\"Prime\":\"\"},\"Qty\":\"10\",\"ButtonType\":\"ForSale\",\"SaleStatus\":1,\"isPrimeOnly\":0}]);}catch(e){if(window.console){console.log(e);}}'"
      ]
     },
     "execution_count": 11,
     "metadata": {},
     "output_type": "execute_result"
    }
   ],
   "source": [
    "res = requests.get('https://ecapi.pchome.com.tw/ecshop/prodapi/v2/prod/button&id=DGCN1A-A9009EVNY&fields=Seq,Id,Price,Qty,ButtonType,SaleStatus,isPrimeOnly&_callback=jsonp_button&1538278200?_callback=jsonp_button')\n",
    "res.text"
   ]
  },
  {
   "cell_type": "markdown",
   "metadata": {},
   "source": [
    "## POST"
   ]
  },
  {
   "cell_type": "code",
   "execution_count": 12,
   "metadata": {},
   "outputs": [
    {
     "data": {
      "text/plain": [
       "<Response [200]>"
      ]
     },
     "execution_count": 12,
     "metadata": {},
     "output_type": "execute_result"
    }
   ],
   "source": [
    "import requests\n",
    "\n",
    "url     = 'https://www.thsrc.com.tw/tw/TimeTable/Search'\n",
    "\n",
    "payload = {\n",
    "'StartStationName':  '台北站',\n",
    "'EndStationName'  :  '桃園站',\n",
    "'SearchType'      :  'S',\n",
    "'StartStation'    : '977abb69-413a-4ccf-a109-0272c24fd490',\n",
    "'EndStation'      : 'fbd828d8-b1da-4b06-a3bd-680cdca4d2cd',\n",
    "'DepartueSearchDate': '2018/09/30',\n",
    "'DepartueSearchTime': '13:00'    \n",
    "    \n",
    "}\n",
    "\n",
    "res = requests.post(url, data = payload)\n",
    "res"
   ]
  },
  {
   "cell_type": "code",
   "execution_count": 20,
   "metadata": {},
   "outputs": [
    {
     "data": {
      "text/html": [
       "<div>\n",
       "<style scoped>\n",
       "    .dataframe tbody tr th:only-of-type {\n",
       "        vertical-align: middle;\n",
       "    }\n",
       "\n",
       "    .dataframe tbody tr th {\n",
       "        vertical-align: top;\n",
       "    }\n",
       "\n",
       "    .dataframe thead th {\n",
       "        text-align: right;\n",
       "    }\n",
       "</style>\n",
       "<table border=\"1\" class=\"dataframe\">\n",
       "  <thead>\n",
       "    <tr style=\"text-align: right;\">\n",
       "      <th></th>\n",
       "      <th>DepartureTime</th>\n",
       "      <th>DestinationTime</th>\n",
       "      <th>Discount</th>\n",
       "      <th>Duration</th>\n",
       "      <th>NonReservedCar</th>\n",
       "      <th>Note</th>\n",
       "      <th>Sequence</th>\n",
       "      <th>StationInfo</th>\n",
       "      <th>TrainNumber</th>\n",
       "    </tr>\n",
       "  </thead>\n",
       "  <tbody>\n",
       "    <tr>\n",
       "      <th>0</th>\n",
       "      <td>06:26</td>\n",
       "      <td>06:47</td>\n",
       "      <td>[{'Id': '4baae6e5-b42c-474b-a194-ff8f1783c7bb'...</td>\n",
       "      <td>00:21</td>\n",
       "      <td>3</td>\n",
       "      <td></td>\n",
       "      <td>0</td>\n",
       "      <td>[{'StationNo': '01', 'StationName': '南港站', 'De...</td>\n",
       "      <td>0803</td>\n",
       "    </tr>\n",
       "    <tr>\n",
       "      <th>1</th>\n",
       "      <td>06:51</td>\n",
       "      <td>07:13</td>\n",
       "      <td>[{'Id': '4baae6e5-b42c-474b-a194-ff8f1783c7bb'...</td>\n",
       "      <td>00:22</td>\n",
       "      <td>3</td>\n",
       "      <td></td>\n",
       "      <td>1</td>\n",
       "      <td>[{'StationNo': '01', 'StationName': '南港站', 'De...</td>\n",
       "      <td>0603</td>\n",
       "    </tr>\n",
       "    <tr>\n",
       "      <th>2</th>\n",
       "      <td>07:11</td>\n",
       "      <td>07:32</td>\n",
       "      <td>[{'Id': '68d9fc7b-7330-44c2-962a-74bc47d2ee8a'...</td>\n",
       "      <td>00:21</td>\n",
       "      <td>3</td>\n",
       "      <td></td>\n",
       "      <td>2</td>\n",
       "      <td>[{'StationNo': '01', 'StationName': '南港站', 'De...</td>\n",
       "      <td>0805</td>\n",
       "    </tr>\n",
       "    <tr>\n",
       "      <th>3</th>\n",
       "      <td>07:46</td>\n",
       "      <td>08:07</td>\n",
       "      <td>[{'Id': '4baae6e5-b42c-474b-a194-ff8f1783c7bb'...</td>\n",
       "      <td>00:21</td>\n",
       "      <td>3</td>\n",
       "      <td></td>\n",
       "      <td>3</td>\n",
       "      <td>[{'StationNo': '01', 'StationName': '南港站', 'De...</td>\n",
       "      <td>0609</td>\n",
       "    </tr>\n",
       "    <tr>\n",
       "      <th>4</th>\n",
       "      <td>08:11</td>\n",
       "      <td>08:32</td>\n",
       "      <td>[{'Id': '4baae6e5-b42c-474b-a194-ff8f1783c7bb'...</td>\n",
       "      <td>00:21</td>\n",
       "      <td>3</td>\n",
       "      <td></td>\n",
       "      <td>4</td>\n",
       "      <td>[{'StationNo': '01', 'StationName': '南港站', 'De...</td>\n",
       "      <td>0809</td>\n",
       "    </tr>\n",
       "  </tbody>\n",
       "</table>\n",
       "</div>"
      ],
      "text/plain": [
       "  DepartureTime DestinationTime  \\\n",
       "0         06:26           06:47   \n",
       "1         06:51           07:13   \n",
       "2         07:11           07:32   \n",
       "3         07:46           08:07   \n",
       "4         08:11           08:32   \n",
       "\n",
       "                                            Discount Duration NonReservedCar  \\\n",
       "0  [{'Id': '4baae6e5-b42c-474b-a194-ff8f1783c7bb'...    00:21              3   \n",
       "1  [{'Id': '4baae6e5-b42c-474b-a194-ff8f1783c7bb'...    00:22              3   \n",
       "2  [{'Id': '68d9fc7b-7330-44c2-962a-74bc47d2ee8a'...    00:21              3   \n",
       "3  [{'Id': '4baae6e5-b42c-474b-a194-ff8f1783c7bb'...    00:21              3   \n",
       "4  [{'Id': '4baae6e5-b42c-474b-a194-ff8f1783c7bb'...    00:21              3   \n",
       "\n",
       "  Note  Sequence                                        StationInfo  \\\n",
       "0              0  [{'StationNo': '01', 'StationName': '南港站', 'De...   \n",
       "1              1  [{'StationNo': '01', 'StationName': '南港站', 'De...   \n",
       "2              2  [{'StationNo': '01', 'StationName': '南港站', 'De...   \n",
       "3              3  [{'StationNo': '01', 'StationName': '南港站', 'De...   \n",
       "4              4  [{'StationNo': '01', 'StationName': '南港站', 'De...   \n",
       "\n",
       "  TrainNumber  \n",
       "0        0803  \n",
       "1        0603  \n",
       "2        0805  \n",
       "3        0609  \n",
       "4        0809  "
      ]
     },
     "execution_count": 20,
     "metadata": {},
     "output_type": "execute_result"
    }
   ],
   "source": [
    "#res.text\n",
    "\n",
    "# JSON => Python Dict\n",
    "res.json()['data']['DepartureTable']['TrainItem']\n",
    "\n",
    "\n",
    "import pandas\n",
    "pandas.DataFrame(res.json()['data']['DepartureTable']['TrainItem']).head()"
   ]
  },
  {
   "cell_type": "markdown",
   "metadata": {},
   "source": [
    "## 台鐵快速查詢\n",
    "- http://twtraffic.tra.gov.tw/twrail/TW_QuickSearch.aspx"
   ]
  },
  {
   "cell_type": "markdown",
   "metadata": {},
   "source": [
    "## MOMO購物"
   ]
  },
  {
   "cell_type": "code",
   "execution_count": 41,
   "metadata": {},
   "outputs": [],
   "source": [
    "import requests\n",
    "headers = {\n",
    "    'user-agent': 'Mozilla/5.0 (Windows NT 6.1; Win64; x64) AppleWebKit/537.36 (KHTML, like Gecko) Chrome/69.0.3497.100 Safari/537.36',  \n",
    "}\n",
    "res = requests.get('https://www.momoshop.com.tw/goods/GoodsDetail.jsp?i_code=4778291&str_category_code=1903000021', headers = headers)"
   ]
  },
  {
   "cell_type": "code",
   "execution_count": 35,
   "metadata": {},
   "outputs": [
    {
     "data": {
      "text/plain": [
       "\" '15990'\""
      ]
     },
     "execution_count": 35,
     "metadata": {},
     "output_type": "execute_result"
    }
   ],
   "source": [
    "res.text.split('salePrice =')[1].split(';')[0]"
   ]
  },
  {
   "cell_type": "markdown",
   "metadata": {},
   "source": [
    "## Split 用法"
   ]
  },
  {
   "cell_type": "code",
   "execution_count": 36,
   "metadata": {
    "scrolled": true
   },
   "outputs": [
    {
     "data": {
      "text/plain": [
       "['123189237129', '233827493', '12312380', '12313']"
      ]
     },
     "execution_count": 36,
     "metadata": {},
     "output_type": "execute_result"
    }
   ],
   "source": [
    "a = '123189237129@233827493@12312380@12313'\n",
    "a.split('@')"
   ]
  },
  {
   "cell_type": "markdown",
   "metadata": {},
   "source": [
    "## 巴哈姆特"
   ]
  },
  {
   "cell_type": "code",
   "execution_count": 53,
   "metadata": {},
   "outputs": [],
   "source": [
    "res = requests.get('https://www.gamer.com.tw/')\n",
    "data = res.text.split('var list = ')[1].split('\\n')[0].strip(';')"
   ]
  },
  {
   "cell_type": "code",
   "execution_count": 56,
   "metadata": {},
   "outputs": [],
   "source": [
    "import json\n",
    "#json.loads(data)"
   ]
  },
  {
   "cell_type": "markdown",
   "metadata": {},
   "source": [
    "## BeautifulSoup 文件\n",
    "- https://beautifulsoup.readthedocs.io/zh_CN/v4.4.0/"
   ]
  },
  {
   "cell_type": "code",
   "execution_count": 57,
   "metadata": {},
   "outputs": [],
   "source": [
    "html_sample = '''\n",
    "<html>\n",
    "<body>\n",
    "<h1 id=\"title\">Hello World</h1>\n",
    "<a href=\"#\" class=\"link\">This is link1</a>\n",
    "<a href=\"# link2\" class=\"link\">This is link2</a>\n",
    "</body>\n",
    "</html>\n",
    "'''"
   ]
  },
  {
   "cell_type": "code",
   "execution_count": null,
   "metadata": {},
   "outputs": [],
   "source": [
    "import requests\n",
    "import bs4 \n",
    "from bs4 import BeautifulSoup\n",
    "\n",
    "requests.get\n",
    "bs4.BeautifulSoup"
   ]
  },
  {
   "cell_type": "code",
   "execution_count": 58,
   "metadata": {},
   "outputs": [
    {
     "data": {
      "text/plain": [
       "20"
      ]
     },
     "execution_count": 58,
     "metadata": {},
     "output_type": "execute_result"
    }
   ],
   "source": [
    "a = [2,3,4,5,6]\n",
    "sum(a)"
   ]
  },
  {
   "cell_type": "code",
   "execution_count": 59,
   "metadata": {},
   "outputs": [],
   "source": [
    "sum = 5"
   ]
  },
  {
   "cell_type": "code",
   "execution_count": 60,
   "metadata": {},
   "outputs": [
    {
     "ename": "TypeError",
     "evalue": "'int' object is not callable",
     "output_type": "error",
     "traceback": [
      "\u001b[1;31m---------------------------------------------------------------------------\u001b[0m",
      "\u001b[1;31mTypeError\u001b[0m                                 Traceback (most recent call last)",
      "\u001b[1;32m<ipython-input-60-be023830df6e>\u001b[0m in \u001b[0;36m<module>\u001b[1;34m()\u001b[0m\n\u001b[1;32m----> 1\u001b[1;33m \u001b[0msum\u001b[0m\u001b[1;33m(\u001b[0m\u001b[0ma\u001b[0m\u001b[1;33m)\u001b[0m\u001b[1;33m\u001b[0m\u001b[0m\n\u001b[0m",
      "\u001b[1;31mTypeError\u001b[0m: 'int' object is not callable"
     ]
    }
   ],
   "source": [
    "sum(a)"
   ]
  },
  {
   "cell_type": "code",
   "execution_count": 61,
   "metadata": {},
   "outputs": [],
   "source": [
    "from bs4 import BeautifulSoup\n",
    "html_sample = '''\n",
    "<html>\n",
    "<body>\n",
    "<h1 id=\"title\">Hello World</h1>\n",
    "<a href=\"#\" class=\"link\">This is link1</a>\n",
    "<a href=\"# link2\" class=\"link\">This is link2</a>\n",
    "</body>\n",
    "</html>\n",
    "'''\n",
    "\n",
    "soup = BeautifulSoup(html_sample, 'lxml')"
   ]
  },
  {
   "cell_type": "code",
   "execution_count": 67,
   "metadata": {},
   "outputs": [
    {
     "data": {
      "text/plain": [
       "bs4.BeautifulSoup"
      ]
     },
     "execution_count": 67,
     "metadata": {},
     "output_type": "execute_result"
    }
   ],
   "source": [
    "type(soup)"
   ]
  },
  {
   "cell_type": "code",
   "execution_count": 63,
   "metadata": {},
   "outputs": [
    {
     "data": {
      "text/plain": [
       "'\\n\\nHello World\\nThis is link1\\nThis is link2\\n\\n\\n'"
      ]
     },
     "execution_count": 63,
     "metadata": {},
     "output_type": "execute_result"
    }
   ],
   "source": [
    "soup.text"
   ]
  },
  {
   "cell_type": "markdown",
   "metadata": {},
   "source": [
    "### select_one => BeautifulSoup Object\n",
    "### select         => List"
   ]
  },
  {
   "cell_type": "code",
   "execution_count": 69,
   "metadata": {},
   "outputs": [
    {
     "data": {
      "text/plain": [
       "<h1 id=\"title\">Hello World</h1>"
      ]
     },
     "execution_count": 69,
     "metadata": {},
     "output_type": "execute_result"
    }
   ],
   "source": [
    "soup.select_one('h1')"
   ]
  },
  {
   "cell_type": "code",
   "execution_count": 71,
   "metadata": {},
   "outputs": [
    {
     "data": {
      "text/plain": [
       "'Hello World'"
      ]
     },
     "execution_count": 71,
     "metadata": {},
     "output_type": "execute_result"
    }
   ],
   "source": [
    "soup.select_one('h1').text"
   ]
  },
  {
   "cell_type": "code",
   "execution_count": 73,
   "metadata": {},
   "outputs": [
    {
     "data": {
      "text/plain": [
       "<a class=\"link\" href=\"#\">This is link1</a>"
      ]
     },
     "execution_count": 73,
     "metadata": {},
     "output_type": "execute_result"
    }
   ],
   "source": [
    "soup.select_one('a')"
   ]
  },
  {
   "cell_type": "code",
   "execution_count": 75,
   "metadata": {},
   "outputs": [
    {
     "data": {
      "text/plain": [
       "[<a class=\"link\" href=\"#\">This is link1</a>,\n",
       " <a class=\"link\" href=\"# link2\">This is link2</a>]"
      ]
     },
     "execution_count": 75,
     "metadata": {},
     "output_type": "execute_result"
    }
   ],
   "source": [
    "soup.select('a')"
   ]
  },
  {
   "cell_type": "code",
   "execution_count": 77,
   "metadata": {},
   "outputs": [
    {
     "data": {
      "text/plain": [
       "'This is link1'"
      ]
     },
     "execution_count": 77,
     "metadata": {},
     "output_type": "execute_result"
    }
   ],
   "source": [
    "soup.select('a')[0].text"
   ]
  },
  {
   "cell_type": "code",
   "execution_count": 79,
   "metadata": {},
   "outputs": [
    {
     "data": {
      "text/plain": [
       "[<h1 id=\"title\">Hello World</h1>]"
      ]
     },
     "execution_count": 79,
     "metadata": {},
     "output_type": "execute_result"
    }
   ],
   "source": [
    "soup.select('h1')"
   ]
  },
  {
   "cell_type": "code",
   "execution_count": 81,
   "metadata": {},
   "outputs": [
    {
     "data": {
      "text/plain": [
       "<h1 id=\"title\">Hello World</h1>"
      ]
     },
     "execution_count": 81,
     "metadata": {},
     "output_type": "execute_result"
    }
   ],
   "source": [
    "soup.select('h1')[0]"
   ]
  },
  {
   "cell_type": "code",
   "execution_count": 82,
   "metadata": {},
   "outputs": [
    {
     "data": {
      "text/plain": [
       "'Hello World'"
      ]
     },
     "execution_count": 82,
     "metadata": {},
     "output_type": "execute_result"
    }
   ],
   "source": [
    "soup.select('h1')[0].text"
   ]
  },
  {
   "cell_type": "code",
   "execution_count": 83,
   "metadata": {},
   "outputs": [
    {
     "data": {
      "text/plain": [
       "<html>\n",
       "<body>\n",
       "<h1 id=\"title\">Hello World</h1>\n",
       "<a class=\"link\" href=\"#\">This is link1</a>\n",
       "<a class=\"link\" href=\"# link2\">This is link2</a>\n",
       "</body>\n",
       "</html>"
      ]
     },
     "execution_count": 83,
     "metadata": {},
     "output_type": "execute_result"
    }
   ],
   "source": [
    "soup"
   ]
  },
  {
   "cell_type": "code",
   "execution_count": 85,
   "metadata": {},
   "outputs": [
    {
     "data": {
      "text/plain": [
       "<h1 id=\"title\">Hello World</h1>"
      ]
     },
     "execution_count": 85,
     "metadata": {},
     "output_type": "execute_result"
    }
   ],
   "source": [
    "# id => #\n",
    "soup.select_one('#title')"
   ]
  },
  {
   "cell_type": "code",
   "execution_count": 87,
   "metadata": {},
   "outputs": [
    {
     "data": {
      "text/plain": [
       "[<a class=\"link\" href=\"#\">This is link1</a>,\n",
       " <a class=\"link\" href=\"# link2\">This is link2</a>]"
      ]
     },
     "execution_count": 87,
     "metadata": {},
     "output_type": "execute_result"
    }
   ],
   "source": [
    "# class => .\n",
    "soup.select('.link')"
   ]
  },
  {
   "cell_type": "code",
   "execution_count": 88,
   "metadata": {},
   "outputs": [
    {
     "data": {
      "text/plain": [
       "<h1 id=\"title\">Hello World</h1>"
      ]
     },
     "execution_count": 88,
     "metadata": {},
     "output_type": "execute_result"
    }
   ],
   "source": [
    "soup.select_one('h1#title')"
   ]
  },
  {
   "cell_type": "code",
   "execution_count": 89,
   "metadata": {},
   "outputs": [
    {
     "data": {
      "text/plain": [
       "[<a class=\"link\" href=\"#\">This is link1</a>,\n",
       " <a class=\"link\" href=\"# link2\">This is link2</a>]"
      ]
     },
     "execution_count": 89,
     "metadata": {},
     "output_type": "execute_result"
    }
   ],
   "source": [
    "soup.select('a.link')"
   ]
  },
  {
   "cell_type": "code",
   "execution_count": 91,
   "metadata": {},
   "outputs": [
    {
     "data": {
      "text/plain": [
       "<h1 id=\"title\">Hello World</h1>"
      ]
     },
     "execution_count": 91,
     "metadata": {},
     "output_type": "execute_result"
    }
   ],
   "source": [
    "soup.select_one('body h1#title')"
   ]
  },
  {
   "cell_type": "code",
   "execution_count": 93,
   "metadata": {},
   "outputs": [
    {
     "data": {
      "text/plain": [
       "<h1 id=\"title\">Hello World</h1>"
      ]
     },
     "execution_count": 93,
     "metadata": {},
     "output_type": "execute_result"
    }
   ],
   "source": [
    "soup.select_one('body > h1#title')"
   ]
  },
  {
   "cell_type": "code",
   "execution_count": 94,
   "metadata": {},
   "outputs": [
    {
     "data": {
      "text/plain": [
       "[<a class=\"link\" href=\"#\">This is link1</a>,\n",
       " <a class=\"link\" href=\"# link2\">This is link2</a>]"
      ]
     },
     "execution_count": 94,
     "metadata": {},
     "output_type": "execute_result"
    }
   ],
   "source": [
    "soup.select('body a.link')"
   ]
  },
  {
   "cell_type": "markdown",
   "metadata": {},
   "source": [
    "## CSS 參考\n",
    "- http://www.w3school.com.cn/css/css_syntax_attribute_selector.asp"
   ]
  },
  {
   "cell_type": "code",
   "execution_count": 98,
   "metadata": {},
   "outputs": [
    {
     "name": "stdout",
     "output_type": "stream",
     "text": [
      "#\n",
      "# link2\n"
     ]
    }
   ],
   "source": [
    "for link in soup.select('body a.link'):\n",
    "    #print(link)\n",
    "    #print(link.text)\n",
    "    print(link.get('href'))"
   ]
  },
  {
   "cell_type": "code",
   "execution_count": 101,
   "metadata": {},
   "outputs": [
    {
     "data": {
      "text/plain": [
       "'qoo'"
      ]
     },
     "execution_count": 101,
     "metadata": {},
     "output_type": "execute_result"
    }
   ],
   "source": [
    "s = '<a href=\"https://www.largitdata.com\" data-id=123 data-attr=\"qoo\">'\n",
    "s2 = BeautifulSoup(s, 'lxml')\n",
    "s2.select_one('a').get('data-id')\n",
    "s2.select_one('a').get('data-attr')"
   ]
  },
  {
   "cell_type": "markdown",
   "metadata": {},
   "source": [
    "## 資料蒐集實務"
   ]
  },
  {
   "cell_type": "code",
   "execution_count": 114,
   "metadata": {},
   "outputs": [
    {
     "data": {
      "text/plain": [
       "<Response [200]>"
      ]
     },
     "execution_count": 114,
     "metadata": {},
     "output_type": "execute_result"
    }
   ],
   "source": [
    "import requests\n",
    "res = requests.get('https://tw.appledaily.com/new/realtime')\n",
    "res"
   ]
  },
  {
   "cell_type": "code",
   "execution_count": 115,
   "metadata": {},
   "outputs": [],
   "source": [
    "from bs4 import BeautifulSoup\n",
    "soup = BeautifulSoup(res.text, 'lxml')"
   ]
  },
  {
   "cell_type": "code",
   "execution_count": 140,
   "metadata": {},
   "outputs": [
    {
     "name": "stdout",
     "output_type": "stream",
     "text": [
      "嚴正嵐笑喊愛情麵包雙收　以結婚為前提嫁給... 娛樂 14:37 https://tw.entertainment.appledaily.com/realtime/20180930/1438965/\n",
      "========================================\n",
      "中國停售來往新疆車票　傳秘密轉移維吾爾人 國際 14:35 https://tw.news.appledaily.com/international/realtime/20180930/1438994/\n",
      "========================================\n",
      "監院發函本周五約詢管中閔　仍未獲答覆 政治 14:35 https://tw.news.appledaily.com/politics/realtime/20180930/1438931/\n",
      "========================================\n",
      "騰訊總裁清晨6點叫起床　宣布20歲生日頭... 財經 14:33 https://tw.finance.appledaily.com/realtime/20180930/1438995/\n",
      "========================================\n",
      "新時代來了　央行：政策傳遞效果弱化、將調... 財經 14:30 https://tw.finance.appledaily.com/realtime/20180930/1438991/\n",
      "========================================\n",
      "【更新】連3安加統一守備失誤　4局統一0...(721) 體育 14:29 https://tw.sports.appledaily.com/realtime/20180930/1438950/\n",
      "========================================\n",
      "普通蚊子3倍大　美颶風災區被「怪獸巨蚊」...(84) 國際 14:26 https://tw.news.appledaily.com/international/realtime/20180930/1438960/\n",
      "========================================\n",
      "吃火鍋不滿服務爆火氣　兩男酒後砸店遭法辦 社會 14:22 https://tw.news.appledaily.com/local/realtime/20180930/1438988/\n",
      "========================================\n",
      "人夫愛愛出怪招　人妻勸不聽怒提告(133681) 社會 14:20 https://tw.news.appledaily.com/local/realtime/20180930/1438308/\n",
      "========================================\n",
      "李婉鈺爆乳蹦出東西半球　「地表最正議員」...(86199) 政治 14:19 https://tw.news.appledaily.com/politics/realtime/20180930/1438900/\n",
      "========================================\n",
      "馬斯克與美證管會和解　辭特斯拉董事長付1...(18691) 財經 14:19 https://tw.finance.appledaily.com/realtime/20180930/1438822/\n",
      "========================================\n",
      "迎新點火吵鬧惹議　逢甲居民要大學生自制 生活 14:19 https://tw.news.appledaily.com/life/realtime/20180930/1438990/\n",
      "========================================\n",
      "【10/1-10/7戀愛運】金牛春心恐有...(253) 副刊 14:17 https://tw.lifestyle.appledaily.com/lifestyle/realtime/20180930/1438952/\n",
      "========================================\n",
      "日本女子公開賽　姚宣榆前6洞種敗因單獨第...(86) 體育 14:12 https://tw.sports.appledaily.com/realtime/20180930/1438975/\n",
      "========================================\n",
      "憲哥「少一個敵人」送費玉清退休　自爆三辭...(938) 娛樂 14:10 https://tw.entertainment.appledaily.com/realtime/20180930/1438939/\n",
      "========================================\n",
      "魏明仁出境香港　受中媒訪問稱「戰術性撤退...(1678) 政治 14:07 https://tw.news.appledaily.com/politics/realtime/20180930/1438966/\n",
      "========================================\n",
      "屏縣長參選人蘇清泉競總成立　3千張椅子不...(4143) 政治 14:02 https://tw.news.appledaily.com/politics/realtime/20180930/1438945/\n",
      "========================================\n",
      "輾死醉倒人行道男大生　肇事司機賠600萬...(3723) 社會 14:01 https://tw.news.appledaily.com/local/realtime/20180930/1438948/\n",
      "========================================\n",
      "【警殤故事1】一槍打進他腦袋卡彈4個月　...(135943) 微視蘋 14:00 https://tw.news.appledaily.com/micromovie/realtime/20180930/1436671/\n",
      "========================================\n",
      "【警殤故事3】抓違停竟遭剁骨刀亂砍　張家...(77527) 社會 14:00 https://tw.news.appledaily.com/local/realtime/20180930/1428457/\n",
      "========================================\n",
      "【警殤故事2】他36歲遭酒駕女狠撞慘截肢...(38108) 社會 14:00 https://tw.news.appledaily.com/local/realtime/20180930/1436637/\n",
      "========================================\n",
      "夭壽網友爆肝癌不治　周傳雄澄清「身體非常...(2543) 娛樂 14:00 https://tw.entertainment.appledaily.com/realtime/20180930/1438936/\n",
      "========================================\n",
      "善化稀有市區推案　2~3房每坪18萬起　(300) 地產 14:00 https://tw.finance.appledaily.com/realtime/20180930/1437978/\n",
      "========================================\n",
      "美專家稱台灣能贏台海戰爭　國防部：有信心(770) 政治 13:58 https://tw.news.appledaily.com/politics/realtime/20180930/1438970/\n",
      "========================================\n",
      "【創薪世代2】誰說老闆就是爽？　「越痛苦...(2188) 財經 13:57 https://tw.finance.appledaily.com/realtime/20180930/1434259/\n",
      "========================================\n",
      "開車夜遊耍帥失敗　過彎卡在分隔島好尷尬(8956) 社會 13:56 https://tw.news.appledaily.com/local/realtime/20180930/1438817/\n",
      "========================================\n",
      "坐繫纜樁看海　疑身體不適跌落港溺斃(495) 社會 13:56 https://tw.news.appledaily.com/local/realtime/20180930/1438968/\n",
      "========================================\n",
      "八斗子恐怖大浪衝堤　擊倒3人全身傷送醫(14665) 社會 13:55 https://tw.news.appledaily.com/local/realtime/20180930/1438932/\n",
      "========================================\n",
      "【創薪世代1】創業「做功德」　花18個月...(3950) 財經 13:54 https://tw.finance.appledaily.com/realtime/20180930/1434095/\n",
      "========================================\n",
      "康芮最快今天變中颱　周三替北部帶來水氣(20642) 生活 13:53 https://tw.news.appledaily.com/life/realtime/20180930/1438839/\n",
      "========================================\n"
     ]
    }
   ],
   "source": [
    "#soup.select('li.rtddt a')\n",
    "for news in soup.select('.rtddt a'):\n",
    "    #print(news)\n",
    "    title    = news.select_one('h1').text\n",
    "    category = news.select_one('h2').text\n",
    "    dt       = news.select_one('time').text\n",
    "    link     = news.get('href')\n",
    "    print(title, category, dt, link)\n",
    "    print('========================================')"
   ]
  },
  {
   "cell_type": "code",
   "execution_count": 141,
   "metadata": {},
   "outputs": [],
   "source": [
    "import requests\n",
    "res = requests.get('https://tw.finance.appledaily.com/realtime/20180930/1438995/')"
   ]
  },
  {
   "cell_type": "code",
   "execution_count": 143,
   "metadata": {},
   "outputs": [],
   "source": [
    "from bs4 import BeautifulSoup\n",
    "soup = BeautifulSoup(res.text, 'lxml')"
   ]
  },
  {
   "cell_type": "code",
   "execution_count": 146,
   "metadata": {},
   "outputs": [
    {
     "name": "stdout",
     "output_type": "stream",
     "text": [
      "騰訊總裁清晨6點叫起床　宣布20歲生日頭號大事\n"
     ]
    }
   ],
   "source": [
    "print(soup.select_one('h1').text)"
   ]
  },
  {
   "cell_type": "code",
   "execution_count": 149,
   "metadata": {},
   "outputs": [
    {
     "data": {
      "text/plain": [
       "'伴隨裁員傳聞滿天飛，中國網際網路巨擘騰訊（Tencent）今宣布啟動新一輪組織架構整頓，在原有7大事業群基礎上進行重組整合，整合為6大事業群，並成立技術委員會，加強基礎研發。\\xa0騰訊董事長馬化騰在正式公告中說：「此次主動革新是騰訊邁向下一個20年的新起點。它是一次非常重要的戰略升級，互聯網的下半場屬於產業互聯網，上半場騰訊通過連結為用戶提供優質的服務，下半場我們將在此基礎上，助力產業與消費者形成更具開放性的新型接連生態。」\\xa0騰訊創辦於1998年11月，今年11月成立將屆滿20周年。華爾街見聞報導，騰訊總裁劉熾平今天一早6點多就發送內部信件，向公司上下表示「無論是外界的建議和鞭策，還是內部的思考和進化，都將是騰訊20周歲收穫的最好禮物。」\\xa0據香港《蘋果日報》報導，騰訊在2005年和2012年分別經歷過2次重大組織架構調整，此次為時隔6年後，新一輪結構優化重組。\\xa0原有的7大事業群中，將保留企業發展事業群（CDG）、互動娛樂事業群（IEG）、技術工程事業群（TEG）、微信事業群（WXG），另外新成立雲與智慧產業事業群（CSIG）、平台與內容事業群（PCG）。\\xa0這意味原有移動網絡事業群（MIG）、網絡媒體事業群（OMG）、社交網絡事業群（SNG）將被裁撤，整併入上列新事業群中。\\xa0伴隨此次組織架構調整異動，外界出現了有關騰訊將裁員的傳言。但騰訊已向騰訊科技回應，此次調整不涉及裁員，公司各個業務板塊將整體平移。\\xa0（劉利貞／綜合外電報導）'"
      ]
     },
     "execution_count": 149,
     "metadata": {},
     "output_type": "execute_result"
    }
   ],
   "source": [
    "soup.select_one('.ndArticle_margin p').text"
   ]
  },
  {
   "cell_type": "code",
   "execution_count": 151,
   "metadata": {},
   "outputs": [
    {
     "data": {
      "text/plain": [
       "'出版時間：2018/09/30 14:33'"
      ]
     },
     "execution_count": 151,
     "metadata": {},
     "output_type": "execute_result"
    }
   ],
   "source": [
    "soup.select_one('.ndArticle_creat').text"
   ]
  },
  {
   "cell_type": "code",
   "execution_count": 157,
   "metadata": {},
   "outputs": [],
   "source": [
    "from datetime import datetime, timedelta\n",
    "current_time = datetime.now()"
   ]
  },
  {
   "cell_type": "code",
   "execution_count": 158,
   "metadata": {},
   "outputs": [
    {
     "data": {
      "text/plain": [
       "datetime.datetime"
      ]
     },
     "execution_count": 158,
     "metadata": {},
     "output_type": "execute_result"
    }
   ],
   "source": [
    "type(current_time)"
   ]
  },
  {
   "cell_type": "code",
   "execution_count": 159,
   "metadata": {},
   "outputs": [
    {
     "data": {
      "text/plain": [
       "datetime.datetime(2018, 9, 30, 15, 1, 56, 640920)"
      ]
     },
     "execution_count": 159,
     "metadata": {},
     "output_type": "execute_result"
    }
   ],
   "source": [
    "current_time"
   ]
  },
  {
   "cell_type": "code",
   "execution_count": 161,
   "metadata": {},
   "outputs": [
    {
     "data": {
      "text/plain": [
       "datetime.datetime(2018, 9, 29, 15, 1, 56, 640920)"
      ]
     },
     "execution_count": 161,
     "metadata": {},
     "output_type": "execute_result"
    }
   ],
   "source": [
    "current_time - timedelta(days = 1)"
   ]
  },
  {
   "cell_type": "code",
   "execution_count": 163,
   "metadata": {},
   "outputs": [
    {
     "data": {
      "text/plain": [
       "datetime.datetime(2018, 10, 1, 15, 1, 56, 640920)"
      ]
     },
     "execution_count": 163,
     "metadata": {},
     "output_type": "execute_result"
    }
   ],
   "source": [
    "current_time + timedelta(days = 1)"
   ]
  },
  {
   "cell_type": "markdown",
   "metadata": {},
   "source": [
    "## Datetime\n",
    "- https://docs.python.org/3/library/datetime.html#strftime-and-strptime-behavior"
   ]
  },
  {
   "cell_type": "code",
   "execution_count": 165,
   "metadata": {},
   "outputs": [
    {
     "data": {
      "text/plain": [
       "'2018-09-30'"
      ]
     },
     "execution_count": 165,
     "metadata": {},
     "output_type": "execute_result"
    }
   ],
   "source": [
    "current_time.strftime('%Y-%m-%d')"
   ]
  },
  {
   "cell_type": "code",
   "execution_count": 172,
   "metadata": {},
   "outputs": [],
   "source": [
    "dt2 = datetime.strptime('2018-08-30','%Y-%m-%d')"
   ]
  },
  {
   "cell_type": "code",
   "execution_count": 173,
   "metadata": {},
   "outputs": [
    {
     "data": {
      "text/plain": [
       "datetime.timedelta(31, 54116, 640920)"
      ]
     },
     "execution_count": 173,
     "metadata": {},
     "output_type": "execute_result"
    }
   ],
   "source": [
    "current_time  - dt2"
   ]
  },
  {
   "cell_type": "code",
   "execution_count": 171,
   "metadata": {},
   "outputs": [
    {
     "name": "stdout",
     "output_type": "stream",
     "text": [
      "2018/09/29\n",
      "2018/09/28\n",
      "2018/09/27\n",
      "2018/09/26\n",
      "2018/09/25\n",
      "2018/09/24\n",
      "2018/09/23\n",
      "2018/09/22\n",
      "2018/09/21\n"
     ]
    }
   ],
   "source": [
    "for i in range(1,10):\n",
    "    dt = current_time - timedelta(days = i)\n",
    "    print(dt.strftime('%Y/%m/%d'))"
   ]
  },
  {
   "cell_type": "code",
   "execution_count": 175,
   "metadata": {},
   "outputs": [
    {
     "data": {
      "text/plain": [
       "datetime.datetime(2018, 9, 30, 14, 33)"
      ]
     },
     "execution_count": 175,
     "metadata": {},
     "output_type": "execute_result"
    }
   ],
   "source": [
    "datetime.strptime(soup.select_one('.ndArticle_creat').text, '出版時間：%Y/%m/%d %H:%M')"
   ]
  },
  {
   "cell_type": "code",
   "execution_count": 179,
   "metadata": {},
   "outputs": [
    {
     "data": {
      "text/plain": [
       "1139"
      ]
     },
     "execution_count": 179,
     "metadata": {},
     "output_type": "execute_result"
    }
   ],
   "source": [
    "int(soup.select_one('.ndArticle_view').text)"
   ]
  },
  {
   "cell_type": "code",
   "execution_count": 182,
   "metadata": {},
   "outputs": [
    {
     "data": {
      "text/plain": [
       "'財經地產'"
      ]
     },
     "execution_count": 182,
     "metadata": {},
     "output_type": "execute_result"
    }
   ],
   "source": [
    "soup.select_one('.ndgTag .current').text"
   ]
  },
  {
   "cell_type": "code",
   "execution_count": 185,
   "metadata": {},
   "outputs": [],
   "source": [
    "def pageDetail(url):\n",
    "    res     = requests.get(url)\n",
    "    soup    = BeautifulSoup(res.text, 'lxml')\n",
    "    title   = soup.select_one('h1').text\n",
    "    content = soup.select_one('.ndArticle_margin p').text\n",
    "    dt      = datetime.strptime(soup.select_one('.ndArticle_creat').text, '出版時間：%Y/%m/%d %H:%M')\n",
    "    view_cnt= int(soup.select_one('.ndArticle_view').text)\n",
    "    category= soup.select_one('.ndgTag .current').text\n",
    "    \n",
    "    ret     = {'title':title, 'content':content, 'dt':dt, 'view_cnt':view_cnt, 'category':category}\n",
    "    return  ret"
   ]
  },
  {
   "cell_type": "code",
   "execution_count": 186,
   "metadata": {},
   "outputs": [
    {
     "data": {
      "text/plain": [
       "{'title': '騰訊總裁清晨6點叫起床\\u3000宣布20歲生日頭號大事',\n",
       " 'content': '伴隨裁員傳聞滿天飛，中國網際網路巨擘騰訊（Tencent）今宣布啟動新一輪組織架構整頓，在原有7大事業群基礎上進行重組整合，整合為6大事業群，並成立技術委員會，加強基礎研發。\\xa0騰訊董事長馬化騰在正式公告中說：「此次主動革新是騰訊邁向下一個20年的新起點。它是一次非常重要的戰略升級，互聯網的下半場屬於產業互聯網，上半場騰訊通過連結為用戶提供優質的服務，下半場我們將在此基礎上，助力產業與消費者形成更具開放性的新型接連生態。」\\xa0騰訊創辦於1998年11月，今年11月成立將屆滿20周年。華爾街見聞報導，騰訊總裁劉熾平今天一早6點多就發送內部信件，向公司上下表示「無論是外界的建議和鞭策，還是內部的思考和進化，都將是騰訊20周歲收穫的最好禮物。」\\xa0據香港《蘋果日報》報導，騰訊在2005年和2012年分別經歷過2次重大組織架構調整，此次為時隔6年後，新一輪結構優化重組。\\xa0原有的7大事業群中，將保留企業發展事業群（CDG）、互動娛樂事業群（IEG）、技術工程事業群（TEG）、微信事業群（WXG），另外新成立雲與智慧產業事業群（CSIG）、平台與內容事業群（PCG）。\\xa0這意味原有移動網絡事業群（MIG）、網絡媒體事業群（OMG）、社交網絡事業群（SNG）將被裁撤，整併入上列新事業群中。\\xa0伴隨此次組織架構調整異動，外界出現了有關騰訊將裁員的傳言。但騰訊已向騰訊科技回應，此次調整不涉及裁員，公司各個業務板塊將整體平移。\\xa0（劉利貞／綜合外電報導）',\n",
       " 'dt': datetime.datetime(2018, 9, 30, 14, 33),\n",
       " 'view_cnt': 2792,\n",
       " 'category': '財經地產'}"
      ]
     },
     "execution_count": 186,
     "metadata": {},
     "output_type": "execute_result"
    }
   ],
   "source": [
    "pageDetail('https://tw.finance.appledaily.com/realtime/20180930/1438995/')"
   ]
  },
  {
   "cell_type": "code",
   "execution_count": 187,
   "metadata": {},
   "outputs": [
    {
     "data": {
      "text/plain": [
       "{'title': '五月天跨年10場半小時搶光！網站崩潰歌迷也崩潰',\n",
       " 'content': '五月天今年底將在台中連唱10場，今早11點開放售票，但拓元售票網站一度癱瘓，不少粉絲哀鴻遍野，表示「驗證碼送出去就當了」、「網站根本進不去，超扯」，批踢踢五月天板擠進上萬鄉民關注。大約11點10幾分開始陸續有網友表示買到票，11點30分網站顯示全部售完，將進行對帳整理，預計於下午2點30分重新釋票。\\xa0此外，拓元早前規定舊會員需重新經過手機認證，需經過24小時系統作業處理，才可開始於拓元網站購票，意即須提前25小時認證，不少粉絲不知此條規定，今早才知喪失購票資格。（娛樂中心／綜合報導）出版時間：11:20新增影片：13:00',\n",
       " 'dt': datetime.datetime(2018, 9, 30, 13, 0),\n",
       " 'view_cnt': 28908,\n",
       " 'category': '娛樂時尚'}"
      ]
     },
     "execution_count": 187,
     "metadata": {},
     "output_type": "execute_result"
    }
   ],
   "source": [
    "pageDetail('https://tw.entertainment.appledaily.com/realtime/20180930/1438892/')"
   ]
  },
  {
   "cell_type": "code",
   "execution_count": null,
   "metadata": {},
   "outputs": [],
   "source": []
  }
 ],
 "metadata": {
  "kernelspec": {
   "display_name": "Python 3",
   "language": "python",
   "name": "python3"
  },
  "language_info": {
   "codemirror_mode": {
    "name": "ipython",
    "version": 3
   },
   "file_extension": ".py",
   "mimetype": "text/x-python",
   "name": "python",
   "nbconvert_exporter": "python",
   "pygments_lexer": "ipython3",
   "version": "3.6.5"
  }
 },
 "nbformat": 4,
 "nbformat_minor": 2
}
