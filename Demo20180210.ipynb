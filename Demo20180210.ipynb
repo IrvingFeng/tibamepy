{
 "cells": [
  {
   "cell_type": "markdown",
   "metadata": {},
   "source": [
    "## Facebook API 介接"
   ]
  },
  {
   "cell_type": "code",
   "execution_count": 17,
   "metadata": {},
   "outputs": [],
   "source": [
    "import requests\n",
    "#ACCESSTOKEN = 'EAAC'\n",
    "APPID = '155917025115555'\n",
    "APPSECRET = 'e45cd62d5f9098e57799a071614c686a'\n",
    "ACCESSTOKEN = '{}|{}'.format(APPID,APPSECRET)\n",
    "res = requests.get('https://graph.facebook.com/v2.12/DoctorKoWJ/posts?access_token={}'.format(ACCESSTOKEN))"
   ]
  },
  {
   "cell_type": "code",
   "execution_count": 18,
   "metadata": {},
   "outputs": [],
   "source": [
    "jd = res.json()"
   ]
  },
  {
   "cell_type": "code",
   "execution_count": 19,
   "metadata": {},
   "outputs": [
    {
     "data": {
      "text/html": [
       "<div>\n",
       "<style>\n",
       "    .dataframe thead tr:only-child th {\n",
       "        text-align: right;\n",
       "    }\n",
       "\n",
       "    .dataframe thead th {\n",
       "        text-align: left;\n",
       "    }\n",
       "\n",
       "    .dataframe tbody tr th {\n",
       "        vertical-align: top;\n",
       "    }\n",
       "</style>\n",
       "<table border=\"1\" class=\"dataframe\">\n",
       "  <thead>\n",
       "    <tr style=\"text-align: right;\">\n",
       "      <th></th>\n",
       "      <th>created_time</th>\n",
       "      <th>id</th>\n",
       "      <th>message</th>\n",
       "      <th>story</th>\n",
       "    </tr>\n",
       "  </thead>\n",
       "  <tbody>\n",
       "    <tr>\n",
       "      <th>0</th>\n",
       "      <td>2018-02-08T03:51:12+0000</td>\n",
       "      <td>136845026417486_1238197629615548</td>\n",
       "      <td>地震震垮了建築物，震不垮台灣人的團結。\\n\\n截至目前爲止，台北市政府已經出動53人、3台車...</td>\n",
       "      <td>NaN</td>\n",
       "    </tr>\n",
       "    <tr>\n",
       "      <th>1</th>\n",
       "      <td>2018-02-06T18:47:02+0000</td>\n",
       "      <td>136845026417486_1237095403059104</td>\n",
       "      <td>0206強震，台北市內無重大災情，因此稍早北市搜救隊一共30人已經在松山機場集合，且已由軍機...</td>\n",
       "      <td>NaN</td>\n",
       "    </tr>\n",
       "    <tr>\n",
       "      <th>2</th>\n",
       "      <td>2018-02-06T10:28:53+0000</td>\n",
       "      <td>136845026417486_1236405593128085</td>\n",
       "      <td>【出訪筆記：土耳其】\\n\\n橫跨歐亞的土耳其，本來就是台灣進軍中東市場的重要跳板，作為第一個...</td>\n",
       "      <td>NaN</td>\n",
       "    </tr>\n",
       "  </tbody>\n",
       "</table>\n",
       "</div>"
      ],
      "text/plain": [
       "               created_time                                id  \\\n",
       "0  2018-02-08T03:51:12+0000  136845026417486_1238197629615548   \n",
       "1  2018-02-06T18:47:02+0000  136845026417486_1237095403059104   \n",
       "2  2018-02-06T10:28:53+0000  136845026417486_1236405593128085   \n",
       "\n",
       "                                             message story  \n",
       "0  地震震垮了建築物，震不垮台灣人的團結。\\n\\n截至目前爲止，台北市政府已經出動53人、3台車...   NaN  \n",
       "1  0206強震，台北市內無重大災情，因此稍早北市搜救隊一共30人已經在松山機場集合，且已由軍機...   NaN  \n",
       "2  【出訪筆記：土耳其】\\n\\n橫跨歐亞的土耳其，本來就是台灣進軍中東市場的重要跳板，作為第一個...   NaN  "
      ]
     },
     "execution_count": 19,
     "metadata": {},
     "output_type": "execute_result"
    }
   ],
   "source": [
    "import pandas\n",
    "df = pandas.DataFrame(jd['data'])\n",
    "df.head(3)"
   ]
  },
  {
   "cell_type": "code",
   "execution_count": null,
   "metadata": {
    "collapsed": true
   },
   "outputs": [],
   "source": []
  }
 ],
 "metadata": {
  "kernelspec": {
   "display_name": "Python 3",
   "language": "python",
   "name": "python3"
  },
  "language_info": {
   "codemirror_mode": {
    "name": "ipython",
    "version": 3
   },
   "file_extension": ".py",
   "mimetype": "text/x-python",
   "name": "python",
   "nbconvert_exporter": "python",
   "pygments_lexer": "ipython3",
   "version": "3.6.3"
  }
 },
 "nbformat": 4,
 "nbformat_minor": 2
}
