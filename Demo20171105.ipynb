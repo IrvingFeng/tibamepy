{
 "cells": [
  {
   "cell_type": "markdown",
   "metadata": {},
   "source": [
    "## 讀入CSV 檔"
   ]
  },
  {
   "cell_type": "markdown",
   "metadata": {},
   "source": [
    "### 方法一"
   ]
  },
  {
   "cell_type": "code",
   "execution_count": 3,
   "metadata": {
    "collapsed": true
   },
   "outputs": [],
   "source": [
    "import pandas\n",
    "orders = pandas.read_csv('https://raw.githubusercontent.com/ywchiu/tibamepy/master/data/purchase_order.tab', sep = '\\t', header=None)"
   ]
  },
  {
   "cell_type": "code",
   "execution_count": 7,
   "metadata": {},
   "outputs": [
    {
     "data": {
      "text/html": [
       "<div>\n",
       "<style>\n",
       "    .dataframe thead tr:only-child th {\n",
       "        text-align: right;\n",
       "    }\n",
       "\n",
       "    .dataframe thead th {\n",
       "        text-align: left;\n",
       "    }\n",
       "\n",
       "    .dataframe tbody tr th {\n",
       "        vertical-align: top;\n",
       "    }\n",
       "</style>\n",
       "<table border=\"1\" class=\"dataframe\">\n",
       "  <thead>\n",
       "    <tr style=\"text-align: right;\">\n",
       "      <th></th>\n",
       "      <th>Time</th>\n",
       "      <th>Action</th>\n",
       "      <th>User</th>\n",
       "      <th>Product</th>\n",
       "      <th>Quantity</th>\n",
       "      <th>Price</th>\n",
       "    </tr>\n",
       "  </thead>\n",
       "  <tbody>\n",
       "    <tr>\n",
       "      <th>0</th>\n",
       "      <td>2015-07-01 00:00:01</td>\n",
       "      <td>order</td>\n",
       "      <td>U312622727</td>\n",
       "      <td>P0006944501</td>\n",
       "      <td>1</td>\n",
       "      <td>1069.0</td>\n",
       "    </tr>\n",
       "    <tr>\n",
       "      <th>1</th>\n",
       "      <td>2015-07-01 00:00:03</td>\n",
       "      <td>order</td>\n",
       "      <td>U239012343</td>\n",
       "      <td>P0006018073</td>\n",
       "      <td>1</td>\n",
       "      <td>1680.0</td>\n",
       "    </tr>\n",
       "    <tr>\n",
       "      <th>2</th>\n",
       "      <td>2015-07-01 00:00:19</td>\n",
       "      <td>order</td>\n",
       "      <td>U10007697373</td>\n",
       "      <td>P0002267974</td>\n",
       "      <td>1</td>\n",
       "      <td>285.0</td>\n",
       "    </tr>\n",
       "    <tr>\n",
       "      <th>3</th>\n",
       "      <td>2015-07-01 00:01:10</td>\n",
       "      <td>order</td>\n",
       "      <td>U296328517</td>\n",
       "      <td>P0016144236</td>\n",
       "      <td>1</td>\n",
       "      <td>550.0</td>\n",
       "    </tr>\n",
       "    <tr>\n",
       "      <th>4</th>\n",
       "      <td>2015-07-01 00:01:36</td>\n",
       "      <td>order</td>\n",
       "      <td>U300884570</td>\n",
       "      <td>P0014516980122</td>\n",
       "      <td>1</td>\n",
       "      <td>249.0</td>\n",
       "    </tr>\n",
       "  </tbody>\n",
       "</table>\n",
       "</div>"
      ],
      "text/plain": [
       "                  Time Action          User         Product  Quantity   Price\n",
       "0  2015-07-01 00:00:01  order    U312622727     P0006944501         1  1069.0\n",
       "1  2015-07-01 00:00:03  order    U239012343     P0006018073         1  1680.0\n",
       "2  2015-07-01 00:00:19  order  U10007697373     P0002267974         1   285.0\n",
       "3  2015-07-01 00:01:10  order    U296328517     P0016144236         1   550.0\n",
       "4  2015-07-01 00:01:36  order    U300884570  P0014516980122         1   249.0"
      ]
     },
     "execution_count": 7,
     "metadata": {},
     "output_type": "execute_result"
    }
   ],
   "source": [
    "orders.columns = ['Time','Action','User','Product','Quantity','Price']\n",
    "orders.head()"
   ]
  },
  {
   "cell_type": "code",
   "execution_count": 10,
   "metadata": {},
   "outputs": [
    {
     "name": "stdout",
     "output_type": "stream",
     "text": [
      "<class 'pandas.core.frame.DataFrame'>\n",
      "RangeIndex: 54772 entries, 0 to 54771\n",
      "Data columns (total 6 columns):\n",
      "Time        54772 non-null datetime64[ns]\n",
      "Action      54772 non-null object\n",
      "User        54772 non-null object\n",
      "Product     54772 non-null object\n",
      "Quantity    54772 non-null int64\n",
      "Price       54721 non-null float64\n",
      "dtypes: datetime64[ns](1), float64(1), int64(1), object(3)\n",
      "memory usage: 2.5+ MB\n"
     ]
    }
   ],
   "source": [
    "orders['Time'] = pandas.to_datetime(orders['Time'])\n",
    "orders.info()"
   ]
  },
  {
   "cell_type": "markdown",
   "metadata": {},
   "source": [
    "### 方法二"
   ]
  },
  {
   "cell_type": "code",
   "execution_count": 13,
   "metadata": {},
   "outputs": [],
   "source": [
    "import pandas\n",
    "orders_url = 'https://raw.githubusercontent.com/ywchiu/tibamepy/master/data/purchase_order.tab'\n",
    "m_cols = ['Time','Action','User','Product','Quantity','Price']\n",
    "orders = pandas.read_csv(orders_url, sep = '\\t', \n",
    "                         header=None, names = m_cols,\n",
    "                         parse_dates={'Dates':[0]}, \n",
    "                         encoding = 'utf-8', \n",
    "                         dtype = {'Price':'object'})"
   ]
  },
  {
   "cell_type": "code",
   "execution_count": 14,
   "metadata": {},
   "outputs": [
    {
     "name": "stdout",
     "output_type": "stream",
     "text": [
      "<class 'pandas.core.frame.DataFrame'>\n",
      "RangeIndex: 54772 entries, 0 to 54771\n",
      "Data columns (total 6 columns):\n",
      "Dates       54772 non-null datetime64[ns]\n",
      "Action      54772 non-null object\n",
      "User        54772 non-null object\n",
      "Product     54772 non-null object\n",
      "Quantity    54772 non-null int64\n",
      "Price       54721 non-null object\n",
      "dtypes: datetime64[ns](1), int64(1), object(4)\n",
      "memory usage: 2.5+ MB\n"
     ]
    }
   ],
   "source": [
    "orders.info()"
   ]
  },
  {
   "cell_type": "code",
   "execution_count": 15,
   "metadata": {
    "collapsed": true
   },
   "outputs": [],
   "source": [
    "?pandas.read_csv"
   ]
  },
  {
   "cell_type": "markdown",
   "metadata": {},
   "source": [
    "## 讀入Excel 檔"
   ]
  },
  {
   "cell_type": "code",
   "execution_count": 18,
   "metadata": {},
   "outputs": [
    {
     "name": "stdout",
     "output_type": "stream",
     "text": [
      "WARNING *** file size (2662336) not 512 + multiple of sector size (512)\n"
     ]
    },
    {
     "data": {
      "text/html": [
       "<div>\n",
       "<style>\n",
       "    .dataframe thead tr:only-child th {\n",
       "        text-align: right;\n",
       "    }\n",
       "\n",
       "    .dataframe thead th {\n",
       "        text-align: left;\n",
       "    }\n",
       "\n",
       "    .dataframe tbody tr th {\n",
       "        vertical-align: top;\n",
       "    }\n",
       "</style>\n",
       "<table border=\"1\" class=\"dataframe\">\n",
       "  <thead>\n",
       "    <tr style=\"text-align: right;\">\n",
       "      <th></th>\n",
       "      <th>時間(月)</th>\n",
       "      <th>行業</th>\n",
       "      <th>受僱員工人數</th>\n",
       "      <th>每人每月薪資</th>\n",
       "      <th>經常性\n",
       "薪資</th>\n",
       "      <th>非經常性薪資</th>\n",
       "      <th>加班費</th>\n",
       "      <th>平均\n",
       "工時</th>\n",
       "      <th>正常\n",
       "工時</th>\n",
       "      <th>加班\n",
       "工時</th>\n",
       "    </tr>\n",
       "  </thead>\n",
       "  <tbody>\n",
       "    <tr>\n",
       "      <th>NaN</th>\n",
       "      <td>97/1</td>\n",
       "      <td>工業及服務業</td>\n",
       "      <td>6621763</td>\n",
       "      <td>65740</td>\n",
       "      <td>36804</td>\n",
       "      <td>28936</td>\n",
       "      <td>1502</td>\n",
       "      <td>188.0</td>\n",
       "      <td>178.9</td>\n",
       "      <td>9.1</td>\n",
       "    </tr>\n",
       "    <tr>\n",
       "      <th>NaN</th>\n",
       "      <td>97/1</td>\n",
       "      <td>工業部門</td>\n",
       "      <td>3056248</td>\n",
       "      <td>65834</td>\n",
       "      <td>35249</td>\n",
       "      <td>30585</td>\n",
       "      <td>2512</td>\n",
       "      <td>193.5</td>\n",
       "      <td>177.9</td>\n",
       "      <td>15.6</td>\n",
       "    </tr>\n",
       "    <tr>\n",
       "      <th>NaN</th>\n",
       "      <td>97/1</td>\n",
       "      <td>服務業部門</td>\n",
       "      <td>3565515</td>\n",
       "      <td>65660</td>\n",
       "      <td>38138</td>\n",
       "      <td>27522</td>\n",
       "      <td>636</td>\n",
       "      <td>183.4</td>\n",
       "      <td>179.8</td>\n",
       "      <td>3.6</td>\n",
       "    </tr>\n",
       "    <tr>\n",
       "      <th>NaN</th>\n",
       "      <td>97/1</td>\n",
       "      <td>礦業及土石採取業</td>\n",
       "      <td>4817</td>\n",
       "      <td>75724</td>\n",
       "      <td>39973</td>\n",
       "      <td>35751</td>\n",
       "      <td>1062</td>\n",
       "      <td>190.6</td>\n",
       "      <td>185.6</td>\n",
       "      <td>5.0</td>\n",
       "    </tr>\n",
       "    <tr>\n",
       "      <th>NaN</th>\n",
       "      <td>97/1</td>\n",
       "      <td>製造業</td>\n",
       "      <td>2568373</td>\n",
       "      <td>67400</td>\n",
       "      <td>34621</td>\n",
       "      <td>32779</td>\n",
       "      <td>2774</td>\n",
       "      <td>195.2</td>\n",
       "      <td>177.7</td>\n",
       "      <td>17.5</td>\n",
       "    </tr>\n",
       "  </tbody>\n",
       "</table>\n",
       "</div>"
      ],
      "text/plain": [
       "    時間(月)        行業   受僱員工人數  每人每月薪資  經常性\\n薪資 非經常性薪資   加班費  平均\\n工時  正常\\n工時  \\\n",
       "NaN  97/1    工業及服務業  6621763   65740    36804  28936  1502   188.0   178.9   \n",
       "NaN  97/1      工業部門  3056248   65834    35249  30585  2512   193.5   177.9   \n",
       "NaN  97/1     服務業部門  3565515   65660    38138  27522   636   183.4   179.8   \n",
       "NaN  97/1  礦業及土石採取業     4817   75724    39973  35751  1062   190.6   185.6   \n",
       "NaN  97/1       製造業  2568373   67400    34621  32779  2774   195.2   177.7   \n",
       "\n",
       "    加班\\n工時  \n",
       "NaN    9.1  \n",
       "NaN   15.6  \n",
       "NaN    3.6  \n",
       "NaN    5.0  \n",
       "NaN   17.5  "
      ]
     },
     "execution_count": 18,
     "metadata": {},
     "output_type": "execute_result"
    }
   ],
   "source": [
    "import pandas\n",
    "salary = pandas.read_excel('https://raw.githubusercontent.com/ywchiu/tibamepy/master/data/salary2.xls')\n",
    "salary.head()"
   ]
  },
  {
   "cell_type": "code",
   "execution_count": 19,
   "metadata": {},
   "outputs": [
    {
     "data": {
      "text/plain": [
       "415055"
      ]
     },
     "execution_count": 19,
     "metadata": {},
     "output_type": "execute_result"
    }
   ],
   "source": [
    "salary['每人每月薪資'].max()"
   ]
  },
  {
   "cell_type": "code",
   "execution_count": 27,
   "metadata": {},
   "outputs": [
    {
     "data": {
      "text/plain": [
       "Index(['時間(月)', '行業', '受僱員工人數', '每人每月薪資', '經常性\\n薪資', '非經常性薪資', '加班費', '平均\\n工時',\n",
       "       '正常\\n工時', '加班\\n工時'],\n",
       "      dtype='object')"
      ]
     },
     "execution_count": 27,
     "metadata": {},
     "output_type": "execute_result"
    }
   ],
   "source": [
    "salary.columns"
   ]
  },
  {
   "cell_type": "code",
   "execution_count": 28,
   "metadata": {},
   "outputs": [
    {
     "data": {
      "text/html": [
       "<div>\n",
       "<style>\n",
       "    .dataframe thead tr:only-child th {\n",
       "        text-align: right;\n",
       "    }\n",
       "\n",
       "    .dataframe thead th {\n",
       "        text-align: left;\n",
       "    }\n",
       "\n",
       "    .dataframe tbody tr th {\n",
       "        vertical-align: top;\n",
       "    }\n",
       "</style>\n",
       "<table border=\"1\" class=\"dataframe\">\n",
       "  <thead>\n",
       "    <tr style=\"text-align: right;\">\n",
       "      <th></th>\n",
       "      <th>時間(月)</th>\n",
       "      <th>行業</th>\n",
       "      <th>受僱員工人數</th>\n",
       "      <th>每人每月薪資</th>\n",
       "      <th>經常性\n",
       "薪資</th>\n",
       "      <th>非經常性薪資</th>\n",
       "      <th>加班費</th>\n",
       "      <th>平均\n",
       "工時</th>\n",
       "      <th>正常\n",
       "工時</th>\n",
       "      <th>加班\n",
       "工時</th>\n",
       "    </tr>\n",
       "  </thead>\n",
       "  <tbody>\n",
       "    <tr>\n",
       "      <th>NaN</th>\n",
       "      <td>106/2</td>\n",
       "      <td>其他保險及退休基金輔助業</td>\n",
       "      <td>465</td>\n",
       "      <td>84937</td>\n",
       "      <td>84059</td>\n",
       "      <td>878</td>\n",
       "      <td>878</td>\n",
       "      <td>146.9</td>\n",
       "      <td>144.0</td>\n",
       "      <td>2.9</td>\n",
       "    </tr>\n",
       "    <tr>\n",
       "      <th>NaN</th>\n",
       "      <td>106/1</td>\n",
       "      <td>其他保險及退休基金輔助業</td>\n",
       "      <td>463</td>\n",
       "      <td>187783</td>\n",
       "      <td>84023</td>\n",
       "      <td>103760</td>\n",
       "      <td>1146</td>\n",
       "      <td>147.9</td>\n",
       "      <td>143.8</td>\n",
       "      <td>4.1</td>\n",
       "    </tr>\n",
       "    <tr>\n",
       "      <th>NaN</th>\n",
       "      <td>106/3</td>\n",
       "      <td>其他保險及退休基金輔助業</td>\n",
       "      <td>465</td>\n",
       "      <td>84644</td>\n",
       "      <td>83994</td>\n",
       "      <td>650</td>\n",
       "      <td>650</td>\n",
       "      <td>188.6</td>\n",
       "      <td>186.5</td>\n",
       "      <td>2.1</td>\n",
       "    </tr>\n",
       "  </tbody>\n",
       "</table>\n",
       "</div>"
      ],
      "text/plain": [
       "     時間(月)            行業  受僱員工人數  每人每月薪資  經常性\\n薪資  非經常性薪資   加班費  平均\\n工時  \\\n",
       "NaN  106/2  其他保險及退休基金輔助業     465   84937    84059     878   878   146.9   \n",
       "NaN  106/1  其他保險及退休基金輔助業     463  187783    84023  103760  1146   147.9   \n",
       "NaN  106/3  其他保險及退休基金輔助業     465   84644    83994     650   650   188.6   \n",
       "\n",
       "     正常\\n工時 加班\\n工時  \n",
       "NaN   144.0    2.9  \n",
       "NaN   143.8    4.1  \n",
       "NaN   186.5    2.1  "
      ]
     },
     "execution_count": 28,
     "metadata": {},
     "output_type": "execute_result"
    }
   ],
   "source": [
    "salary.sort_values('經常性\\n薪資', ascending=False).head(3)"
   ]
  },
  {
   "cell_type": "code",
   "execution_count": 32,
   "metadata": {},
   "outputs": [
    {
     "data": {
      "text/plain": [
       "行業\n",
       "其他保險及退休基金輔助業    77506.517241\n",
       "電力供應業           69555.060345\n",
       "海洋水運業           67587.112069\n",
       "Name: 經常性\\n薪資, dtype: float64"
      ]
     },
     "execution_count": 32,
     "metadata": {},
     "output_type": "execute_result"
    }
   ],
   "source": [
    "salary.groupby('行業')['經常性\\n薪資'].mean().sort_values(ascending=False).head(3)"
   ]
  },
  {
   "cell_type": "code",
   "execution_count": 46,
   "metadata": {},
   "outputs": [],
   "source": [
    "banking = salary[salary['行業'] == '銀行業'][['時間(月)','經常性\\n薪資']]"
   ]
  },
  {
   "cell_type": "code",
   "execution_count": 47,
   "metadata": {},
   "outputs": [],
   "source": [
    "banking.index = banking['時間(月)']"
   ]
  },
  {
   "cell_type": "code",
   "execution_count": 48,
   "metadata": {},
   "outputs": [
    {
     "name": "stdout",
     "output_type": "stream",
     "text": [
      "Populating the interactive namespace from numpy and matplotlib\n"
     ]
    },
    {
     "data": {
      "text/plain": [
       "<matplotlib.axes._subplots.AxesSubplot at 0x80b0438>"
      ]
     },
     "execution_count": 48,
     "metadata": {},
     "output_type": "execute_result"
    },
    {
     "data": {
      "image/png": "[encoded data removed]",
      "text/plain": [
       "<matplotlib.figure.Figure at 0x80ab208>"
      ]
     },
     "metadata": {},
     "output_type": "display_data"
    }
   ],
   "source": [
    "%pylab inline\n",
    "banking['經常性\\n薪資'].plot(kind = 'line')"
   ]
  },
  {
   "cell_type": "markdown",
   "metadata": {},
   "source": [
    "## 檔案輸出"
   ]
  },
  {
   "cell_type": "code",
   "execution_count": 49,
   "metadata": {
    "collapsed": true
   },
   "outputs": [],
   "source": [
    "orders.to_csv('orders.csv')"
   ]
  },
  {
   "cell_type": "code",
   "execution_count": 53,
   "metadata": {
    "collapsed": true
   },
   "outputs": [],
   "source": [
    "banking.to_csv('banking.csv')"
   ]
  },
  {
   "cell_type": "code",
   "execution_count": 50,
   "metadata": {
    "collapsed": true
   },
   "outputs": [],
   "source": [
    "orders.to_csv('orders.tsv', sep = '\\t')"
   ]
  },
  {
   "cell_type": "code",
   "execution_count": 54,
   "metadata": {
    "collapsed": true
   },
   "outputs": [],
   "source": [
    "orders.to_csv('orders.tsv', sep = '\\t', chunksize=1000)"
   ]
  },
  {
   "cell_type": "code",
   "execution_count": 52,
   "metadata": {},
   "outputs": [],
   "source": [
    "orders.to_excel('orders.xlsx')"
   ]
  },
  {
   "cell_type": "code",
   "execution_count": 56,
   "metadata": {},
   "outputs": [
    {
     "data": {
      "text/plain": [
       "'{\"Dates\":{\"0\":1435708801000,\"1\":1435708803000,\"2\":1435708819000,\"3\":1435708870000,\"4\":1435708896000},\"Action\":{\"0\":\"order\",\"1\":\"order\",\"2\":\"order\",\"3\":\"order\",\"4\":\"order\"},\"User\":{\"0\":\"U312622727\",\"1\":\"U239012343\",\"2\":\"U10007697373\",\"3\":\"U296328517\",\"4\":\"U300884570\"},\"Product\":{\"0\":\"P0006944501\",\"1\":\"P0006018073\",\"2\":\"P0002267974\",\"3\":\"P0016144236\",\"4\":\"P0014516980122\"},\"Quantity\":{\"0\":1,\"1\":1,\"2\":1,\"3\":1,\"4\":1},\"Price\":{\"0\":\"1069\",\"1\":\"1680\",\"2\":\"285\",\"3\":\"550\",\"4\":\"249\"}}'"
      ]
     },
     "execution_count": 56,
     "metadata": {},
     "output_type": "execute_result"
    }
   ],
   "source": [
    "orders.head().to_json()"
   ]
  },
  {
   "cell_type": "code",
   "execution_count": 57,
   "metadata": {},
   "outputs": [
    {
     "data": {
      "text/plain": [
       "'{\"0\":{\"Dates\":1435708801000,\"Action\":\"order\",\"User\":\"U312622727\",\"Product\":\"P0006944501\",\"Quantity\":1,\"Price\":\"1069\"},\"1\":{\"Dates\":1435708803000,\"Action\":\"order\",\"User\":\"U239012343\",\"Product\":\"P0006018073\",\"Quantity\":1,\"Price\":\"1680\"},\"2\":{\"Dates\":1435708819000,\"Action\":\"order\",\"User\":\"U10007697373\",\"Product\":\"P0002267974\",\"Quantity\":1,\"Price\":\"285\"},\"3\":{\"Dates\":1435708870000,\"Action\":\"order\",\"User\":\"U296328517\",\"Product\":\"P0016144236\",\"Quantity\":1,\"Price\":\"550\"},\"4\":{\"Dates\":1435708896000,\"Action\":\"order\",\"User\":\"U300884570\",\"Product\":\"P0014516980122\",\"Quantity\":1,\"Price\":\"249\"}}'"
      ]
     },
     "execution_count": 57,
     "metadata": {},
     "output_type": "execute_result"
    }
   ],
   "source": [
    "orders.head().T.to_json()"
   ]
  },
  {
   "cell_type": "code",
   "execution_count": 59,
   "metadata": {
    "collapsed": true
   },
   "outputs": [],
   "source": [
    "orders.head().to_clipboard()"
   ]
  },
  {
   "cell_type": "code",
   "execution_count": 60,
   "metadata": {},
   "outputs": [
    {
     "data": {
      "text/html": [
       "<div>\n",
       "<style>\n",
       "    .dataframe thead tr:only-child th {\n",
       "        text-align: right;\n",
       "    }\n",
       "\n",
       "    .dataframe thead th {\n",
       "        text-align: left;\n",
       "    }\n",
       "\n",
       "    .dataframe tbody tr th {\n",
       "        vertical-align: top;\n",
       "    }\n",
       "</style>\n",
       "<table border=\"1\" class=\"dataframe\">\n",
       "  <thead>\n",
       "    <tr style=\"text-align: right;\">\n",
       "      <th></th>\n",
       "      <th></th>\n",
       "      <th>Dates</th>\n",
       "      <th>Action</th>\n",
       "      <th>User</th>\n",
       "      <th>Product</th>\n",
       "      <th>Quantity</th>\n",
       "      <th>Price</th>\n",
       "    </tr>\n",
       "  </thead>\n",
       "  <tbody>\n",
       "    <tr>\n",
       "      <th>0</th>\n",
       "      <th>2015-07-01</th>\n",
       "      <td>00:00:01</td>\n",
       "      <td>order</td>\n",
       "      <td>U312622727</td>\n",
       "      <td>P0006944501</td>\n",
       "      <td>1</td>\n",
       "      <td>1069</td>\n",
       "    </tr>\n",
       "    <tr>\n",
       "      <th>1</th>\n",
       "      <th>2015-07-01</th>\n",
       "      <td>00:00:03</td>\n",
       "      <td>order</td>\n",
       "      <td>U239012343</td>\n",
       "      <td>P0006018073</td>\n",
       "      <td>1</td>\n",
       "      <td>1680</td>\n",
       "    </tr>\n",
       "  </tbody>\n",
       "</table>\n",
       "</div>"
      ],
      "text/plain": [
       "                 Dates Action        User      Product  Quantity  Price\n",
       "0 2015-07-01  00:00:01  order  U312622727  P0006944501         1   1069\n",
       "1 2015-07-01  00:00:03  order  U239012343  P0006018073         1   1680"
      ]
     },
     "execution_count": 60,
     "metadata": {},
     "output_type": "execute_result"
    }
   ],
   "source": [
    "df1 = pandas.read_clipboard()\n",
    "df1"
   ]
  },
  {
   "cell_type": "code",
   "execution_count": 70,
   "metadata": {},
   "outputs": [],
   "source": [
    "product_list = pandas.read_clipboard(header=None)\n",
    "product_items = product_list[0].tolist()"
   ]
  },
  {
   "cell_type": "code",
   "execution_count": 71,
   "metadata": {},
   "outputs": [
    {
     "data": {
      "text/plain": [
       "['P0012662252',\n",
       " 'P0004401294',\n",
       " 'P0000319874',\n",
       " 'P0006944501',\n",
       " 'P0003248055',\n",
       " 'P0018924850',\n",
       " 'P0013850723']"
      ]
     },
     "execution_count": 71,
     "metadata": {},
     "output_type": "execute_result"
    }
   ],
   "source": [
    "product_items"
   ]
  },
  {
   "cell_type": "code",
   "execution_count": 73,
   "metadata": {},
   "outputs": [
    {
     "data": {
      "text/html": [
       "<div>\n",
       "<style>\n",
       "    .dataframe thead tr:only-child th {\n",
       "        text-align: right;\n",
       "    }\n",
       "\n",
       "    .dataframe thead th {\n",
       "        text-align: left;\n",
       "    }\n",
       "\n",
       "    .dataframe tbody tr th {\n",
       "        vertical-align: top;\n",
       "    }\n",
       "</style>\n",
       "<table border=\"1\" class=\"dataframe\">\n",
       "  <thead>\n",
       "    <tr style=\"text-align: right;\">\n",
       "      <th></th>\n",
       "      <th>Dates</th>\n",
       "      <th>Action</th>\n",
       "      <th>User</th>\n",
       "      <th>Product</th>\n",
       "      <th>Quantity</th>\n",
       "      <th>Price</th>\n",
       "    </tr>\n",
       "  </thead>\n",
       "  <tbody>\n",
       "    <tr>\n",
       "      <th>0</th>\n",
       "      <td>2015-07-01 00:00:01</td>\n",
       "      <td>order</td>\n",
       "      <td>U312622727</td>\n",
       "      <td>P0006944501</td>\n",
       "      <td>1</td>\n",
       "      <td>1069</td>\n",
       "    </tr>\n",
       "    <tr>\n",
       "      <th>6</th>\n",
       "      <td>2015-07-01 00:01:58</td>\n",
       "      <td>order</td>\n",
       "      <td>U465124055</td>\n",
       "      <td>P0012662252</td>\n",
       "      <td>1</td>\n",
       "      <td>488</td>\n",
       "    </tr>\n",
       "    <tr>\n",
       "      <th>7</th>\n",
       "      <td>2015-07-01 00:02:18</td>\n",
       "      <td>order</td>\n",
       "      <td>U403001364</td>\n",
       "      <td>P0004401294</td>\n",
       "      <td>1</td>\n",
       "      <td>276</td>\n",
       "    </tr>\n",
       "    <tr>\n",
       "      <th>8</th>\n",
       "      <td>2015-07-01 00:03:12</td>\n",
       "      <td>order</td>\n",
       "      <td>U465123247</td>\n",
       "      <td>P0000319874</td>\n",
       "      <td>1</td>\n",
       "      <td>2199</td>\n",
       "    </tr>\n",
       "    <tr>\n",
       "      <th>9</th>\n",
       "      <td>2015-07-01 00:03:45</td>\n",
       "      <td>order</td>\n",
       "      <td>U311808547</td>\n",
       "      <td>P0006944501</td>\n",
       "      <td>1</td>\n",
       "      <td>1069</td>\n",
       "    </tr>\n",
       "  </tbody>\n",
       "</table>\n",
       "</div>"
      ],
      "text/plain": [
       "                Dates Action        User      Product  Quantity Price\n",
       "0 2015-07-01 00:00:01  order  U312622727  P0006944501         1  1069\n",
       "6 2015-07-01 00:01:58  order  U465124055  P0012662252         1   488\n",
       "7 2015-07-01 00:02:18  order  U403001364  P0004401294         1   276\n",
       "8 2015-07-01 00:03:12  order  U465123247  P0000319874         1  2199\n",
       "9 2015-07-01 00:03:45  order  U311808547  P0006944501         1  1069"
      ]
     },
     "execution_count": 73,
     "metadata": {},
     "output_type": "execute_result"
    }
   ],
   "source": [
    "orders[orders['Product'].isin(product_items)].head()"
   ]
  },
  {
   "cell_type": "markdown",
   "metadata": {},
   "source": [
    "## 讀取HTML\n"
   ]
  },
  {
   "cell_type": "code",
   "execution_count": 83,
   "metadata": {},
   "outputs": [
    {
     "name": "stderr",
     "output_type": "stream",
     "text": [
      "C:\\ProgramData\\Anaconda3\\lib\\site-packages\\urllib3\\connectionpool.py:858: InsecureRequestWarning: Unverified HTTPS request is being made. Adding certificate verification is strongly advised. See: https://urllib3.readthedocs.io/en/latest/advanced-usage.html#ssl-warnings\n",
      "  InsecureRequestWarning)\n"
     ]
    }
   ],
   "source": [
    "import requests\n",
    "headers = {\n",
    "    'user-agent':'Mozilla/5.0 (Windows NT 6.1; Win64; x64) AppleWebKit/537.36 (KHTML, like Gecko) Chrome/61.0.3163.100 Safari/537.36'\n",
    "}\n",
    "res = requests.get('https://goodinfo.tw/StockInfo/StockBzPerformance.asp?STOCK_ID=2330',verify=False, headers = headers)"
   ]
  },
  {
   "cell_type": "code",
   "execution_count": 85,
   "metadata": {},
   "outputs": [],
   "source": [
    "res.encoding='utf-8'\n",
    "dfs = pandas.read_html(res.text)"
   ]
  },
  {
   "cell_type": "code",
   "execution_count": 86,
   "metadata": {},
   "outputs": [
    {
     "data": {
      "text/plain": [
       "list"
      ]
     },
     "execution_count": 86,
     "metadata": {},
     "output_type": "execute_result"
    }
   ],
   "source": [
    "type(dfs)"
   ]
  },
  {
   "cell_type": "code",
   "execution_count": 87,
   "metadata": {},
   "outputs": [
    {
     "data": {
      "text/plain": [
       "18"
      ]
     },
     "execution_count": 87,
     "metadata": {},
     "output_type": "execute_result"
    }
   ],
   "source": [
    "len(dfs)"
   ]
  },
  {
   "cell_type": "code",
   "execution_count": 98,
   "metadata": {},
   "outputs": [
    {
     "data": {
      "text/html": [
       "<div>\n",
       "<style>\n",
       "    .dataframe thead tr:only-child th {\n",
       "        text-align: right;\n",
       "    }\n",
       "\n",
       "    .dataframe thead th {\n",
       "        text-align: left;\n",
       "    }\n",
       "\n",
       "    .dataframe tbody tr th {\n",
       "        vertical-align: top;\n",
       "    }\n",
       "</style>\n",
       "<table border=\"1\" class=\"dataframe\">\n",
       "  <thead>\n",
       "    <tr>\n",
       "      <th></th>\n",
       "      <th>年度</th>\n",
       "      <th>股本(億)</th>\n",
       "      <th>財報評分</th>\n",
       "      <th>年度股價(元)</th>\n",
       "      <th>獲利金額(億)</th>\n",
       "      <th>獲利率(%)</th>\n",
       "      <th>ROE(%)</th>\n",
       "      <th>ROA(%)</th>\n",
       "      <th>EPS(元)</th>\n",
       "      <th>BPS(元)</th>\n",
       "      <th>...</th>\n",
       "      <th>Unnamed: 11_level_0</th>\n",
       "      <th>Unnamed: 12_level_0</th>\n",
       "      <th>Unnamed: 13_level_0</th>\n",
       "      <th>Unnamed: 14_level_0</th>\n",
       "      <th>Unnamed: 15_level_0</th>\n",
       "      <th>Unnamed: 16_level_0</th>\n",
       "      <th>Unnamed: 17_level_0</th>\n",
       "      <th>Unnamed: 18_level_0</th>\n",
       "      <th>Unnamed: 19_level_0</th>\n",
       "      <th>Unnamed: 20_level_0</th>\n",
       "    </tr>\n",
       "    <tr>\n",
       "      <th></th>\n",
       "      <th>收盤</th>\n",
       "      <th>平均</th>\n",
       "      <th>漲跌</th>\n",
       "      <th>漲跌(%)</th>\n",
       "      <th>營業收入</th>\n",
       "      <th>營業毛利</th>\n",
       "      <th>營業利益</th>\n",
       "      <th>業外損益</th>\n",
       "      <th>稅後淨利</th>\n",
       "      <th>營業毛利</th>\n",
       "      <th>...</th>\n",
       "      <th>業外損益</th>\n",
       "      <th>稅後淨利</th>\n",
       "      <th>稅後EPS</th>\n",
       "      <th>成長(元)</th>\n",
       "      <th>Unnamed: 15_level_1</th>\n",
       "      <th>Unnamed: 16_level_1</th>\n",
       "      <th>Unnamed: 17_level_1</th>\n",
       "      <th>Unnamed: 18_level_1</th>\n",
       "      <th>Unnamed: 19_level_1</th>\n",
       "      <th>Unnamed: 20_level_1</th>\n",
       "    </tr>\n",
       "  </thead>\n",
       "  <tbody>\n",
       "    <tr>\n",
       "      <th>0</th>\n",
       "      <td>17Q2</td>\n",
       "      <td>2593</td>\n",
       "      <td>94</td>\n",
       "      <td>239.0</td>\n",
       "      <td>206.0</td>\n",
       "      <td>57.5</td>\n",
       "      <td>31.7</td>\n",
       "      <td>4478</td>\n",
       "      <td>2302</td>\n",
       "      <td>1786</td>\n",
       "      <td>...</td>\n",
       "      <td>1539</td>\n",
       "      <td>51.4</td>\n",
       "      <td>39.9</td>\n",
       "      <td>1.19</td>\n",
       "      <td>34.4</td>\n",
       "      <td>22.5(年估)</td>\n",
       "      <td>15.9(年估)</td>\n",
       "      <td>5.94</td>\n",
       "      <td>0.65</td>\n",
       "      <td>51.74</td>\n",
       "    </tr>\n",
       "    <tr>\n",
       "      <th>1</th>\n",
       "      <td>2016</td>\n",
       "      <td>2593</td>\n",
       "      <td>91</td>\n",
       "      <td>181.5</td>\n",
       "      <td>166.0</td>\n",
       "      <td>38.5</td>\n",
       "      <td>26.9</td>\n",
       "      <td>9479</td>\n",
       "      <td>4748</td>\n",
       "      <td>3780</td>\n",
       "      <td>...</td>\n",
       "      <td>3342</td>\n",
       "      <td>50.1</td>\n",
       "      <td>39.9</td>\n",
       "      <td>0.84</td>\n",
       "      <td>35.3</td>\n",
       "      <td>25.6</td>\n",
       "      <td>18.9</td>\n",
       "      <td>12.89</td>\n",
       "      <td>1.07</td>\n",
       "      <td>53.58</td>\n",
       "    </tr>\n",
       "    <tr>\n",
       "      <th>2</th>\n",
       "      <td>2015</td>\n",
       "      <td>2593</td>\n",
       "      <td>94</td>\n",
       "      <td>143.0</td>\n",
       "      <td>140.0</td>\n",
       "      <td>2.0</td>\n",
       "      <td>1.4</td>\n",
       "      <td>8435</td>\n",
       "      <td>4104</td>\n",
       "      <td>3200</td>\n",
       "      <td>...</td>\n",
       "      <td>3066</td>\n",
       "      <td>48.7</td>\n",
       "      <td>37.9</td>\n",
       "      <td>3.60</td>\n",
       "      <td>36.3</td>\n",
       "      <td>27</td>\n",
       "      <td>19.4</td>\n",
       "      <td>11.82</td>\n",
       "      <td>1.64</td>\n",
       "      <td>47.11</td>\n",
       "    </tr>\n",
       "  </tbody>\n",
       "</table>\n",
       "<p>3 rows × 21 columns</p>\n",
       "</div>"
      ],
      "text/plain": [
       "     年度 股本(億) 財報評分 年度股價(元) 獲利金額(億) 獲利率(%) ROE(%) ROA(%) EPS(元) BPS(元)  \\\n",
       "     收盤    平均   漲跌   漲跌(%)    營業收入   營業毛利   營業利益   業外損益   稅後淨利   營業毛利   \n",
       "0  17Q2  2593   94   239.0   206.0   57.5   31.7   4478   2302   1786   \n",
       "1  2016  2593   91   181.5   166.0   38.5   26.9   9479   4748   3780   \n",
       "2  2015  2593   94   143.0   140.0    2.0    1.4   8435   4104   3200   \n",
       "\n",
       "          ...         Unnamed: 11_level_0 Unnamed: 12_level_0  \\\n",
       "          ...                        業外損益                稅後淨利   \n",
       "0         ...                        1539                51.4   \n",
       "1         ...                        3342                50.1   \n",
       "2         ...                        3066                48.7   \n",
       "\n",
       "  Unnamed: 13_level_0 Unnamed: 14_level_0 Unnamed: 15_level_0  \\\n",
       "                稅後EPS               成長(元) Unnamed: 15_level_1   \n",
       "0                39.9                1.19                34.4   \n",
       "1                39.9                0.84                35.3   \n",
       "2                37.9                3.60                36.3   \n",
       "\n",
       "  Unnamed: 16_level_0 Unnamed: 17_level_0 Unnamed: 18_level_0  \\\n",
       "  Unnamed: 16_level_1 Unnamed: 17_level_1 Unnamed: 18_level_1   \n",
       "0            22.5(年估)            15.9(年估)                5.94   \n",
       "1                25.6                18.9               12.89   \n",
       "2                  27                19.4               11.82   \n",
       "\n",
       "  Unnamed: 19_level_0 Unnamed: 20_level_0  \n",
       "  Unnamed: 19_level_1 Unnamed: 20_level_1  \n",
       "0                0.65               51.74  \n",
       "1                1.07               53.58  \n",
       "2                1.64               47.11  \n",
       "\n",
       "[3 rows x 21 columns]"
      ]
     },
     "execution_count": 98,
     "metadata": {},
     "output_type": "execute_result"
    }
   ],
   "source": [
    "dfs[16].head(3)"
   ]
  },
  {
   "cell_type": "code",
   "execution_count": 99,
   "metadata": {
    "collapsed": true
   },
   "outputs": [],
   "source": [
    "tw2330 = dfs[16]"
   ]
  },
  {
   "cell_type": "code",
   "execution_count": 100,
   "metadata": {
    "collapsed": true
   },
   "outputs": [],
   "source": [
    "tw2330.to_html('tw2330.html')"
   ]
  },
  {
   "cell_type": "code",
   "execution_count": null,
   "metadata": {
    "collapsed": true
   },
   "outputs": [],
   "source": []
  }
 ],
 "metadata": {
  "kernelspec": {
   "display_name": "Python 3",
   "language": "python",
   "name": "python3"
  },
  "language_info": {
   "codemirror_mode": {
    "name": "ipython",
    "version": 3
   },
   "file_extension": ".py",
   "mimetype": "text/x-python",
   "name": "python",
   "nbconvert_exporter": "python",
   "pygments_lexer": "ipython3",
   "version": "3.6.3"
  }
 },
 "nbformat": 4,
 "nbformat_minor": 2
}
